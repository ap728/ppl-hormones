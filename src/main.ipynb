{
 "cells": [
  {
   "cell_type": "code",
   "execution_count": 46,
   "metadata": {
    "collapsed": false
   },
   "outputs": [],
   "source": [
    "# Setup\n",
    "import matplotlib\n",
    "import numpy as np\n",
    "import scipy as sp\n",
    "import scipy.cluster.hierarchy as sch\n",
    "import matplotlib.pyplot as plt\n",
    "import pandas as pd\n",
    "import ggplot\n",
    "%matplotlib inline"
   ]
  },
  {
   "cell_type": "code",
   "execution_count": 47,
   "metadata": {
    "collapsed": true
   },
   "outputs": [],
   "source": [
    "# Start an inference server\n",
    "\n",
    "from venture.shortcuts import *\n",
    "v = make_church_prime_ripl()\n",
    "# x = Puma().make_church_prime_ripl()"
   ]
  },
  {
   "cell_type": "code",
   "execution_count": 48,
   "metadata": {
    "collapsed": false
   },
   "outputs": [],
   "source": [
    "# Forget everything\n",
    "\n",
    "v.clear()"
   ]
  },
  {
   "cell_type": "code",
   "execution_count": 49,
   "metadata": {
    "collapsed": false
   },
   "outputs": [],
   "source": [
    "# # Specify model 1\n",
    "\n",
    "# v.assume(\"offset_1\", \"(uniform_continuous -1 1)\")\n",
    "# v.assume(\"offset_2\", \"(uniform_continuous -1 1)\")\n",
    "# v.assume(\"linear\", \"(flip 0.5)\")\n",
    "# v.assume(\"beta_1\", \"(if linear (uniform_continuous -1 1) 0)\")\n",
    "# v.assume(\"quadratic\", \"(flip 0.5)\")\n",
    "# v.assume(\"beta_2\", \"(if quadratic (uniform_continuous -1 1) 0)\")\n",
    "# v.assume(\"noise_sd\", \"(exp (normal 0 2))\")\n",
    "\n",
    "# v.assume(\"f_1\", \"(lambda (x) (+ offset_1 (* beta_1 x) (* beta_2 x x)))\")\n",
    "# v.assume(\"f_2\", \"(lambda (x) (+ offset_2 (* beta_1 x) (* beta_2 x x)))\")\n",
    "\n",
    "# v.assume(\"cluster_membership\", \"(mem (lambda (index) (if (flip) 1 2)))\")\n",
    "\n",
    "# v.assume(\"f\", \"(lambda (x index) (if (eq (cluster_membership index) 1) (f_1 x) (f_2 x)))\")"
   ]
  },
  {
   "cell_type": "code",
   "execution_count": 50,
   "metadata": {
    "collapsed": false
   },
   "outputs": [
    {
     "data": {
      "text/plain": [
       "'<procedure>'"
      ]
     },
     "execution_count": 50,
     "metadata": {},
     "output_type": "execute_result"
    }
   ],
   "source": [
    "# Specify model 2\n",
    "\n",
    "# v.assume(\"cluster_membership_crp\", \"(make_sym_dir_mult 1 2)\")\n",
    "v.assume(\"cluster_membership_crp\", \"(make_crp 0.3)\")\n",
    "v.assume(\"cluster_membership\", \"(mem (lambda (index) (cluster_membership_crp)))\")\n",
    "# v.assume(\"cluster_membership\", \"(mem (lambda (index) (if (flip) 0 1)))\")\n",
    "\n",
    "v.assume(\"offset\", \"(mem (lambda (cluster_index) (uniform_continuous -20 50)))\")\n",
    "v.assume(\"beta\", \"(normal 3.4830 3.8094)\")\n",
    "v.assume(\"noise_sd\", \"(+ 0.1 (exp (normal 0 2)))\")\n",
    "\n",
    "v.assume(\"f\", \"(lambda (x index) (+ (offset (cluster_membership index)) (* beta x)))\")"
   ]
  },
  {
   "cell_type": "code",
   "execution_count": 51,
   "metadata": {
    "collapsed": false
   },
   "outputs": [
    {
     "data": {
      "text/plain": [
       "1"
      ]
     },
     "execution_count": 51,
     "metadata": {},
     "output_type": "execute_result"
    }
   ],
   "source": [
    "v.sample('(cluster_membership 0)')"
   ]
  },
  {
   "cell_type": "code",
   "execution_count": 52,
   "metadata": {
    "collapsed": false
   },
   "outputs": [],
   "source": [
    "# Start inference\n",
    "\n",
    "# v.start_continuous_inference()"
   ]
  },
  {
   "cell_type": "code",
   "execution_count": 53,
   "metadata": {
    "collapsed": false
   },
   "outputs": [],
   "source": [
    "# Create data\n",
    "\n",
    "X_1 = np.random.gamma(1, 1, 20)\n",
    "Y_1 = -0.2 + 0.5 * X_1 + 0.0 * X_1 * X_1\n",
    "Y_1 += 0.1 * np.random.randn(*X_1.shape)\n",
    "\n",
    "X_2 = np.random.gamma(1, 1, 10)\n",
    "Y_2 = +0.2 + 0.5 * X_2\n",
    "Y_2 += 0.1 * np.random.randn(*X_2.shape)\n",
    "\n",
    "X_3 = np.random.gamma(1, 1, 25)\n",
    "Y_3 = +0.7 + 0.5 * X_3\n",
    "Y_3 += 0.1 * np.random.randn(*X_3.shape)\n",
    "\n",
    "X = np.concatenate((X_1, X_2, X_3))\n",
    "Y = np.concatenate((Y_1, Y_2, Y_3))"
   ]
  },
  {
   "cell_type": "code",
   "execution_count": 54,
   "metadata": {
    "collapsed": false
   },
   "outputs": [],
   "source": [
    "# Read in CSV data\n",
    "\n",
    "mydata = pd.read_csv(\"for_python.csv\", header=0) #python starts counting at zero\n",
    "X = mydata['mynewdata.FAI']\n",
    "Y = mydata['mynewdata.AQ']\n"
   ]
  },
  {
   "cell_type": "code",
   "execution_count": 55,
   "metadata": {
    "collapsed": false
   },
   "outputs": [],
   "source": [
    "# Observe data\n",
    "\n",
    "for index, (x, y) in enumerate(zip(X, Y)):\n",
    "    v.observe(\"(normal (f %f %d) noise_sd)\" % (x, index), y)\n",
    "    index += 1"
   ]
  },
  {
   "cell_type": "code",
   "execution_count": 56,
   "metadata": {
    "collapsed": false
   },
   "outputs": [],
   "source": [
    "# v.sample(\"(cluster_membership 0)\")"
   ]
  },
  {
   "cell_type": "code",
   "execution_count": null,
   "metadata": {
    "collapsed": true
   },
   "outputs": [],
   "source": []
  },
  {
   "cell_type": "code",
   "execution_count": 57,
   "metadata": {
    "collapsed": false
   },
   "outputs": [
    {
     "data": {
      "image/png": "[encoded data removed]",
      "text/plain": [
       "<matplotlib.figure.Figure at 0x7fecf0323090>"
      ]
     },
     "metadata": {},
     "output_type": "display_data"
    }
   ],
   "source": [
    "# Sample the parameters and draw a picture\n",
    "\n",
    "# Only necessary if not running continuous inference\n",
    "v.infer(5000)\n",
    "\n",
    "# sample = v.sample(\"(list offset_1 offset_2 beta_1 beta_2 noise_sd)\")\n",
    "# offset_1 = sample[0]\n",
    "# offset_2 = sample[1]\n",
    "# beta_1 = sample[2]\n",
    "# beta_2 = sample[3]\n",
    "# noise_sd = sample[4]\n",
    "\n",
    "# beta = v.sample(\"beta_1\")\n",
    "# offset_1 = v.sample(\"(offset 0)\")\n",
    "# offset_2 = v.sample(\"(offset 1)\")\n",
    "\n",
    "fig, ax = plt.subplots(figsize=(16, 10))\n",
    "plt.clf()\n",
    "\n",
    "cluster_memberships = v.sample('(list ' + ' '.join('(cluster_membership %d)' % index\n",
    "                                                   for index in range(len(X))) + ')')\n",
    "cluster_numbers = np.unique(cluster_memberships)\n",
    "canonical_cluster_memberships = np.zeros(len(cluster_memberships))\n",
    "for i, value in enumerate(cluster_numbers):\n",
    "    canonical_cluster_memberships[cluster_memberships==value] = i\n",
    "cluster_memberships = canonical_cluster_memberships\n",
    "\n",
    "for (cluster_index, x, y) in zip(cluster_memberships, X, Y):\n",
    "#     cluster_index = v.sample(\"(cluster_membership %d)\" % index)\n",
    "#     y_hat = v.sample(\"(f (0 0))\")# % (x, index))\n",
    "#     print(cluster_index)\n",
    "    if cluster_index == 0:\n",
    "        color = 'b'\n",
    "    elif cluster_index == 1:\n",
    "        color = 'r'\n",
    "    elif cluster_index == 2:\n",
    "        color = 'm'\n",
    "    elif cluster_index == 3:\n",
    "        color = 'c'\n",
    "    else:\n",
    "        color = 'k'\n",
    "    plt.scatter(x, y, color=color, s=50)\n",
    "\n",
    "# plt.scatter(X, Y, color='r', s=50)\n",
    "# plt.scatter(X_2, Y_2, color='b', s=50)\n",
    "# plot_x = np.linspace(min(X), max(X), 100)\n",
    "# # plt.plot(plot_x, offset_1 + beta * plot_x, ls='-', color='g', lw=5)\n",
    "# # plt.plot(plot_x, offset_2 + beta * plot_x, ls='-', color='g', lw=5)\n",
    "\n",
    "# plt.show()"
   ]
  },
  {
   "cell_type": "code",
   "execution_count": 58,
   "metadata": {
    "collapsed": false
   },
   "outputs": [
    {
     "data": {
      "text/plain": [
       "array([ 0.,  0.,  0.,  0.,  0.,  0.,  1.,  1.,  0.,  0.,  0.,  1.,  1.,\n",
       "        0.,  1.,  1.,  1.,  1.,  1.,  0.,  1.,  1.,  0.,  1.,  1.,  1.,\n",
       "        1.,  1.,  1.,  1.,  1.,  0.,  0.,  0.,  1.,  1.,  0.,  1.])"
      ]
     },
     "execution_count": 58,
     "metadata": {},
     "output_type": "execute_result"
    }
   ],
   "source": [
    "cluster_memberships"
   ]
  },
  {
   "cell_type": "code",
   "execution_count": 59,
   "metadata": {
    "collapsed": false
   },
   "outputs": [],
   "source": [
    "# # Sample in a loop to get distribution\n",
    "\n",
    "# samples = list()\n",
    "\n",
    "# for i in range(100):\n",
    "    \n",
    "# #     print(i)\n",
    "    \n",
    "#     v.infer(50)\n",
    "\n",
    "#     sample = v.sample(\"(list offset beta_1 beta_2 noise_sd linear quadratic)\")\n",
    "#     offset = sample[0]\n",
    "#     beta_1 = sample[1]\n",
    "#     beta_2 = sample[2]\n",
    "#     noise_sd = sample[3]\n",
    "#     linear = sample[4]\n",
    "#     quadratic = sample[5]\n",
    "    \n",
    "#     samples.append(linear)\n",
    "    \n",
    "# fig, ax = plt.subplots(figsize=(16, 10))\n",
    "# plt.clf()\n",
    "\n",
    "# plt.hist(samples)\n",
    "\n",
    "# plt.show()"
   ]
  },
  {
   "cell_type": "code",
   "execution_count": 60,
   "metadata": {
    "collapsed": true
   },
   "outputs": [],
   "source": [
    "# Stop inference\n",
    "\n",
    "# v.stop_continuous_inference()"
   ]
  },
  {
   "cell_type": "code",
   "execution_count": 202,
   "metadata": {
    "collapsed": false,
    "scrolled": true
   },
   "outputs": [
    {
     "data": {
      "image/png": "[encoded data removed]",
      "text/plain": [
       "<matplotlib.figure.Figure at 0x7fecf15ced90>"
      ]
     },
     "metadata": {},
     "output_type": "display_data"
    }
   ],
   "source": [
    "# Sample the parameters and draw a picture\n",
    "\n",
    "samples = list()\n",
    "\n",
    "for _ in range(1000):\n",
    "\n",
    "    v.infer(1000)\n",
    "\n",
    "    cluster_memberships = v.sample('(list ' + ' '.join('(cluster_membership %d)' % index\n",
    "                                                       for index in range(len(X))) + ')')\n",
    "    cluster_numbers = np.unique(cluster_memberships)\n",
    "    \n",
    "    samples.append(len(cluster_numbers))\n",
    "    \n",
    "    \n",
    "fig, ax = plt.subplots(figsize=(16, 10))\n",
    "plt.clf()\n",
    "\n",
    "plt.hist(samples, bins=[0,1,2,3,4,5]) # Pyplot does dumb things with bins when left alone.\n",
    "\n",
    "plt.show()"
   ]
  },
  {
   "cell_type": "code",
   "execution_count": 203,
   "metadata": {
    "collapsed": false
   },
   "outputs": [
    {
     "name": "stderr",
     "output_type": "stream",
     "text": [
      "Saving 6.0 x 4.0 in image.\n"
     ]
    },
    {
     "data": {
      "image/png": "[encoded data removed]",
      "text/plain": [
       "<matplotlib.figure.Figure at 0x7feceffb2590>"
      ]
     },
     "metadata": {},
     "output_type": "display_data"
    },
    {
     "name": "stdout",
     "output_type": "stream",
     "text": [
      "<ggplot: (8790973085061)>\n"
     ]
    }
   ],
   "source": [
    "# ggplot\n",
    "# Relies on list of samples generated from for loop above\n",
    "\n",
    "df = pd.DataFrame(samples,  columns=['cluster_num_count'])\n",
    "\n",
    "# subtract 0.5 from all values to center\n",
    "df['cluster_num_count'] = df['cluster_num_count']-0.5\n",
    "\n",
    "p = ggplot.ggplot(ggplot.aes(x='cluster_num_count'), data=df)\n",
    "p = (p + ggplot.geom_histogram(binwidth=1, fill='#CC79A7') + ggplot.theme_matplotlib() + ggplot.xlim(0,(max(df['cluster_num_count'])+1)) + \n",
    "ggplot.scale_x_continuous(breaks = range(1,10)) + ggplot.xlab(\"Number of clusters\") + ggplot.ylab(\"Count\"))\n",
    "\n",
    "\n",
    "\n",
    "ggplot.ggsave(p, \"cluster_num_hist.pdf\")\n",
    "print(p)"
   ]
  },
  {
   "cell_type": "code",
   "execution_count": 204,
   "metadata": {
    "collapsed": false
   },
   "outputs": [
    {
     "data": {
      "image/png": "[encoded data removed]",
      "text/plain": [
       "<matplotlib.figure.Figure at 0x7feced50c410>"
      ]
     },
     "metadata": {},
     "output_type": "display_data"
    },
    {
     "name": "stdout",
     "output_type": "stream",
     "text": [
      "<ggplot: (8790975697001)>\n"
     ]
    }
   ],
   "source": [
    "# Try to get a \"trace\" of number of clusters\n",
    "df = pd.DataFrame(samples,  columns=['cluster_num_count'])\n",
    "\n",
    "t = range(1,1001)\n",
    "\n",
    "df['t'] = t\n",
    "\n",
    "# print(df)\n",
    "\n",
    "trace = ggplot.ggplot(ggplot.aes(x='t', y='cluster_num_count'), data=df)\n",
    "trace = (trace + ggplot.geom_line()+ ggplot.theme_matplotlib() + \n",
    "ggplot.xlab(\"time where each point is a sample at 1000 transitions\"))\n",
    "\n",
    "print(trace)\n"
   ]
  },
  {
   "cell_type": "code",
   "execution_count": 205,
   "metadata": {
    "collapsed": false
   },
   "outputs": [
    {
     "name": "stdout",
     "output_type": "stream",
     "text": [
      "          ACF  lagsize\n",
      "0    0.380438        1\n",
      "1    0.242274        2\n",
      "2    0.242790        3\n",
      "3    0.189090        4\n",
      "4    0.139953        5\n",
      "5    0.083485        6\n",
      "6    0.105234        7\n",
      "7    0.063007        8\n",
      "8    0.040381        9\n",
      "9   -0.001317       10\n",
      "10   0.043964       11\n",
      "11   0.053107       12\n",
      "12   0.012045       13\n",
      "13   0.042580       14\n",
      "14  -0.005498       15\n",
      "15  -0.030156       16\n",
      "16  -0.017279       17\n",
      "17  -0.036513       18\n",
      "18  -0.002421       19\n",
      "19   0.004854       20\n",
      "20  -0.010516       21\n",
      "21  -0.001164       22\n",
      "22  -0.004044       23\n",
      "23  -0.053355       24\n",
      "24  -0.021290       25\n",
      "25  -0.003351       26\n",
      "26  -0.009909       27\n",
      "27   0.041842       28\n",
      "28   0.080410       29\n",
      "29   0.062262       30\n",
      "..        ...      ...\n",
      "470 -0.024395      471\n",
      "471 -0.031007      472\n",
      "472  0.019978      473\n",
      "473  0.068299      474\n",
      "474  0.026118      475\n",
      "475  0.054954      476\n",
      "476  0.013809      477\n",
      "477  0.071270      478\n",
      "478  0.055111      479\n",
      "479  0.052422      480\n",
      "480  0.038558      481\n",
      "481  0.034124      482\n",
      "482  0.037063      483\n",
      "483  0.042528      484\n",
      "484  0.028958      485\n",
      "485  0.025548      486\n",
      "486  0.010111      487\n",
      "487 -0.038527      488\n",
      "488 -0.048875      489\n",
      "489 -0.045653      490\n",
      "490 -0.080416      491\n",
      "491 -0.038978      492\n",
      "492  0.002260      493\n",
      "493 -0.061169      494\n",
      "494 -0.041284      495\n",
      "495 -0.069982      496\n",
      "496 -0.095220      497\n",
      "497 -0.136705      498\n",
      "498 -0.065636      499\n",
      "499 -0.028328      500\n",
      "\n",
      "[500 rows x 2 columns]\n"
     ]
    },
    {
     "data": {
      "image/png": "[encoded data removed]",
      "text/plain": [
       "<matplotlib.figure.Figure at 0x7fecefc51bd0>"
      ]
     },
     "metadata": {},
     "output_type": "display_data"
    },
    {
     "name": "stdout",
     "output_type": "stream",
     "text": [
      "<ggplot: (8790976176901)>\n",
      "Effective Sample Size\n",
      "256.901493385\n"
     ]
    }
   ],
   "source": [
    "# Autocorrelation\n",
    "\n",
    "ACF = []\n",
    "for lag in range(1,501):\n",
    "    result = []\n",
    "    for row in range(lag,1000):\n",
    "        result.append(df.ix[row,\"cluster_num_count\"])\n",
    "    original = samples[:-lag]\n",
    "    ACF.append(sp.stats.spearmanr(original,result))\n",
    "    \n",
    "# Returns a list of tuples of ACF values for lags in range\n",
    "\n",
    "ACF = [x[0] for x in ACF]\n",
    "\n",
    "s0 = pd.Series(ACF, name='ACF')\n",
    "\n",
    "lagsize = range(1,501)\n",
    "s1 = pd.Series(range(1,501), name='lagsize')\n",
    "\n",
    "newdf = pd.DataFrame(s0, columns=[\"ACF\"])\n",
    "newdf['lagsize'] = s1\n",
    "\n",
    "print(newdf)\n",
    "\n",
    "x = ggplot.ggplot(ggplot.aes(x='lagsize', y='ACF'), data=newdf)\n",
    "x = (x + ggplot.geom_bar(stat=\"bar\")+ggplot.theme_matplotlib())\n",
    "\n",
    "print(x)\n",
    "\n",
    "# Effective sample size\n",
    "last_k =[ n for n,i in enumerate(ACF) if i<0.05 ][0]\n",
    "ACF_k = ACF[0:last_k]\n",
    "print('Effective Sample Size')\n",
    "print(1000/(1+(2*sum(ACF_k))))\n"
   ]
  },
  {
   "cell_type": "code",
   "execution_count": 63,
   "metadata": {
    "collapsed": false
   },
   "outputs": [
    {
     "data": {
      "text/plain": [
       "3.0"
      ]
     },
     "execution_count": 63,
     "metadata": {},
     "output_type": "execute_result"
    }
   ],
   "source": [
    "# Find median of above\n",
    "np.median(samples)"
   ]
  },
  {
   "cell_type": "code",
   "execution_count": 188,
   "metadata": {
    "collapsed": false
   },
   "outputs": [
    {
     "data": {
      "image/png": "[encoded data removed]",
      "text/plain": [
       "<matplotlib.figure.Figure at 0x7fecedc3cb50>"
      ]
     },
     "metadata": {},
     "output_type": "display_data"
    }
   ],
   "source": [
    "# Sample the parameters and draw a picture\n",
    "\n",
    "samples = list()\n",
    "\n",
    "for _ in range(1000):\n",
    "\n",
    "    v.infer(1000)\n",
    "    \n",
    "    param_beta = v.sample('beta')\n",
    "\n",
    "    samples.append(param_beta)\n",
    "    \n",
    "fig, ax = plt.subplots(figsize=(16, 10))\n",
    "plt.clf()\n",
    "\n",
    "plt.hist(samples, bins=20)\n",
    "\n",
    "plt.show()"
   ]
  },
  {
   "cell_type": "code",
   "execution_count": 189,
   "metadata": {
    "collapsed": false,
    "scrolled": true
   },
   "outputs": [
    {
     "name": "stderr",
     "output_type": "stream",
     "text": [
      "Saving 6.0 x 4.0 in image.\n"
     ]
    },
    {
     "data": {
      "image/png": "[encoded data removed]",
      "text/plain": [
       "<matplotlib.figure.Figure at 0x7feced4fac50>"
      ]
     },
     "metadata": {},
     "output_type": "display_data"
    },
    {
     "name": "stdout",
     "output_type": "stream",
     "text": [
      "<ggplot: (8790973406097)>\n"
     ]
    }
   ],
   "source": [
    "# ggplot\n",
    "# Relies on list of samples generated from for loop above\n",
    "\n",
    "df = pd.DataFrame(samples,  columns=['Beta_posterior'])\n",
    "\n",
    "\n",
    "p = ggplot.ggplot(ggplot.aes(x='Beta_posterior'), data=df)\n",
    "p = (p + ggplot.geom_histogram(fill='#0072B2') + ggplot.theme_matplotlib() + \n",
    "ggplot.xlab(\"Beta posterior distribution\") + ggplot.ylab(\"Count\"))\n",
    "\n",
    "\n",
    "\n",
    "ggplot.ggsave(p, \"beta_posterior_hist.pdf\")\n",
    "print(p)"
   ]
  },
  {
   "cell_type": "code",
   "execution_count": 190,
   "metadata": {
    "collapsed": false
   },
   "outputs": [
    {
     "data": {
      "image/png": "[encoded data removed]",
      "text/plain": [
       "<matplotlib.figure.Figure at 0x7feced780dd0>"
      ]
     },
     "metadata": {},
     "output_type": "display_data"
    },
    {
     "name": "stdout",
     "output_type": "stream",
     "text": [
      "<ggplot: (8790973624733)>\n"
     ]
    }
   ],
   "source": [
    "# Try to get a \"trace\" of beta values\n",
    "\n",
    "t = range(1,1001)\n",
    "\n",
    "df['t'] = t\n",
    "\n",
    "\n",
    "trace = ggplot.ggplot(ggplot.aes(x='t', y='Beta_posterior'), data=df)\n",
    "trace = (trace + ggplot.geom_line()+ ggplot.theme_matplotlib() + \n",
    "ggplot.xlab(\"time where each point is a sample at 1000 transitions\"))\n",
    "\n",
    "print(trace)\n",
    "\n"
   ]
  },
  {
   "cell_type": "code",
   "execution_count": 191,
   "metadata": {
    "collapsed": false
   },
   "outputs": [
    {
     "name": "stdout",
     "output_type": "stream",
     "text": [
      "95% credible interval for beta values\n",
      "(-4.250137660060564, 3.7102200481356951)\n",
      "90% credible interval for beta values\n",
      "(-3.7039892143361701, 3.2393432379721316)\n",
      "mean of beta values\n",
      "0.276417588458\n",
      "Median of beta values\n",
      "0.627115285247\n",
      "Standard deviation for beta values\n",
      "2.15009499098\n",
      "posterior falling beneath 0\n",
      "0.39\n",
      "posterior falling above 0\n",
      "0.61\n"
     ]
    }
   ],
   "source": [
    "# Sample 95% credible interval for beta values\n",
    "a = np.percentile(samples, 2.5)\n",
    "b = np.percentile(samples, 97.5)\n",
    "print(\"95% credible interval for beta values\")\n",
    "print(a,b)\n",
    "\n",
    "# Sample 90% credible interval for beta values\n",
    "a = np.percentile(samples, 5)\n",
    "b = np.percentile(samples, 95)\n",
    "print(\"90% credible interval for beta values\")\n",
    "print(a,b)\n",
    "\n",
    "# Sample mean for beta values\n",
    "c = np.mean(samples)\n",
    "print(\"mean of beta values\")\n",
    "print(c)\n",
    "\n",
    "# Median of beta values\n",
    "z = np.median(samples)\n",
    "print(\"Median of beta values\")\n",
    "print(z)\n",
    "\n",
    "#Sample standard deviation for beta values\n",
    "d = np.std(samples)\n",
    "print(\"Standard deviation for beta values\")\n",
    "print(d)\n",
    "\n",
    "# Count values less than 0\n",
    "f = sum(i < 0 for i in samples)\n",
    "f = f/1000.\n",
    "print(\"posterior falling beneath 0\")\n",
    "print(f)\n",
    "\n",
    "# Count values greater than 0\n",
    "g = sum(i > 0 for i in samples)\n",
    "g = g/1000.\n",
    "print(\"posterior falling above 0\")\n",
    "print(g)\n"
   ]
  },
  {
   "cell_type": "code",
   "execution_count": 201,
   "metadata": {
    "collapsed": false
   },
   "outputs": [
    {
     "name": "stdout",
     "output_type": "stream",
     "text": [
      "          ACF  lagsize\n",
      "0    0.750034        1\n",
      "1    0.654859        2\n",
      "2    0.566804        3\n",
      "3    0.537266        4\n",
      "4    0.497619        5\n",
      "5    0.490665        6\n",
      "6    0.465161        7\n",
      "7    0.462814        8\n",
      "8    0.458529        9\n",
      "9    0.420608       10\n",
      "10   0.397388       11\n",
      "11   0.376021       12\n",
      "12   0.353545       13\n",
      "13   0.317102       14\n",
      "14   0.328304       15\n",
      "15   0.341369       16\n",
      "16   0.330286       17\n",
      "17   0.323631       18\n",
      "18   0.316960       19\n",
      "19   0.297402       20\n",
      "20   0.302414       21\n",
      "21   0.299929       22\n",
      "22   0.287748       23\n",
      "23   0.306219       24\n",
      "24   0.311253       25\n",
      "25   0.290470       26\n",
      "26   0.298047       27\n",
      "27   0.284003       28\n",
      "28   0.277942       29\n",
      "29   0.271349       30\n",
      "..        ...      ...\n",
      "470 -0.082155      471\n",
      "471 -0.077388      472\n",
      "472 -0.084437      473\n",
      "473 -0.079690      474\n",
      "474 -0.110218      475\n",
      "475 -0.119020      476\n",
      "476 -0.145361      477\n",
      "477 -0.135086      478\n",
      "478 -0.100939      479\n",
      "479 -0.086887      480\n",
      "480 -0.088909      481\n",
      "481 -0.090489      482\n",
      "482 -0.075749      483\n",
      "483 -0.125680      484\n",
      "484 -0.136204      485\n",
      "485 -0.150911      486\n",
      "486 -0.129160      487\n",
      "487 -0.138422      488\n",
      "488 -0.122051      489\n",
      "489 -0.090004      490\n",
      "490 -0.071332      491\n",
      "491 -0.058476      492\n",
      "492 -0.064044      493\n",
      "493 -0.066891      494\n",
      "494 -0.031854      495\n",
      "495 -0.014766      496\n",
      "496 -0.003928      497\n",
      "497  0.016568      498\n",
      "498  0.001058      499\n",
      "499  0.007606      500\n",
      "\n",
      "[500 rows x 2 columns]\n",
      "17.1604755944\n",
      "Effective Sample Size\n",
      "28.3118083274\n"
     ]
    },
    {
     "data": {
      "image/png": "[encoded data removed]",
      "text/plain": [
       "<matplotlib.figure.Figure at 0x7fecefc25f50>"
      ]
     },
     "metadata": {},
     "output_type": "display_data"
    },
    {
     "name": "stdout",
     "output_type": "stream",
     "text": [
      "<ggplot: (8790975432881)>\n"
     ]
    }
   ],
   "source": [
    "# Autocorrelation\n",
    "\n",
    "ACF = []\n",
    "for lag in range(1,501):\n",
    "    result = []\n",
    "    for row in range(lag,1000):\n",
    "        result.append(df.ix[row,\"Beta_posterior\"])\n",
    "    original = samples[:-lag]\n",
    "    ACF.append(sp.stats.pearsonr(original,result))\n",
    "    \n",
    "# Returns a list of tuples of ACF values for lags in range\n",
    "\n",
    "ACF = [x[0] for x in ACF]\n",
    "\n",
    "s0 = pd.Series(ACF, name='ACF')\n",
    "\n",
    "lagsize = range(1,501)\n",
    "s1 = pd.Series(range(1,501), name='lagsize')\n",
    "\n",
    "newdf = pd.DataFrame(s0, columns=[\"ACF\"])\n",
    "newdf['lagsize'] = s1\n",
    "\n",
    "print(newdf)\n",
    "\n",
    "# Effective sample size\n",
    "last_k =[ n for n,i in enumerate(ACF) if i<0.05 ][0]\n",
    "ACF_k = ACF[0:last_k]\n",
    "print('Effective Sample Size')\n",
    "print(1000/(1+(2*sum(ACF_k))))\n",
    "\n",
    "\n",
    "\n",
    "x = ggplot.ggplot(ggplot.aes(x='lagsize', y='ACF'), data=newdf)\n",
    "x = (x + ggplot.geom_bar(stat=\"bar\")+ggplot.theme_matplotlib())\n",
    "\n",
    "print(x)"
   ]
  },
  {
   "cell_type": "code",
   "execution_count": 67,
   "metadata": {
    "collapsed": false
   },
   "outputs": [
    {
     "ename": "KeyboardInterrupt",
     "evalue": "",
     "output_type": "error",
     "traceback": [
      "\u001b[1;31m---------------------------------------------------------------------------\u001b[0m",
      "\u001b[1;31mKeyboardInterrupt\u001b[0m                         Traceback (most recent call last)",
      "\u001b[1;32m<ipython-input-67-ec06b0b9f240>\u001b[0m in \u001b[0;36m<module>\u001b[1;34m()\u001b[0m\n\u001b[0;32m      5\u001b[0m \u001b[1;32mfor\u001b[0m \u001b[0m_\u001b[0m \u001b[1;32min\u001b[0m \u001b[0mrange\u001b[0m\u001b[1;33m(\u001b[0m\u001b[1;36m1000\u001b[0m\u001b[1;33m)\u001b[0m\u001b[1;33m:\u001b[0m\u001b[1;33m\u001b[0m\u001b[0m\n\u001b[0;32m      6\u001b[0m \u001b[1;33m\u001b[0m\u001b[0m\n\u001b[1;32m----> 7\u001b[1;33m     \u001b[0mv\u001b[0m\u001b[1;33m.\u001b[0m\u001b[0minfer\u001b[0m\u001b[1;33m(\u001b[0m\u001b[1;36m100000\u001b[0m\u001b[1;33m)\u001b[0m\u001b[1;33m\u001b[0m\u001b[0m\n\u001b[0m\u001b[0;32m      8\u001b[0m \u001b[1;33m\u001b[0m\u001b[0m\n\u001b[0;32m      9\u001b[0m     cluster_memberships = v.sample('(list ' + ' '.join('(cluster_membership %d)' % index\n",
      "\u001b[1;32m/usr/local/lib/python2.7/dist-packages/venture/ripl/ripl.pyc\u001b[0m in \u001b[0;36minfer\u001b[1;34m(self, params, type)\u001b[0m\n\u001b[0;32m    684\u001b[0m \u001b[1;33m\u001b[0m\u001b[0m\n\u001b[0;32m    685\u001b[0m     \u001b[1;32mdef\u001b[0m \u001b[0minfer\u001b[0m\u001b[1;33m(\u001b[0m\u001b[0mself\u001b[0m\u001b[1;33m,\u001b[0m \u001b[0mparams\u001b[0m\u001b[1;33m=\u001b[0m\u001b[0mNone\u001b[0m\u001b[1;33m,\u001b[0m \u001b[0mtype\u001b[0m\u001b[1;33m=\u001b[0m\u001b[0mFalse\u001b[0m\u001b[1;33m)\u001b[0m\u001b[1;33m:\u001b[0m\u001b[1;33m\u001b[0m\u001b[0m\n\u001b[1;32m--> 686\u001b[1;33m         \u001b[0mo\u001b[0m \u001b[1;33m=\u001b[0m \u001b[0mself\u001b[0m\u001b[1;33m.\u001b[0m\u001b[0mexecute_instruction\u001b[0m\u001b[1;33m(\u001b[0m\u001b[1;33m{\u001b[0m\u001b[1;34m'instruction'\u001b[0m\u001b[1;33m:\u001b[0m\u001b[1;34m'infer'\u001b[0m\u001b[1;33m,\u001b[0m \u001b[1;34m'expression'\u001b[0m\u001b[1;33m:\u001b[0m \u001b[0mself\u001b[0m\u001b[1;33m.\u001b[0m\u001b[0mdefaultInferProgram\u001b[0m\u001b[1;33m(\u001b[0m\u001b[0mparams\u001b[0m\u001b[1;33m)\u001b[0m\u001b[1;33m}\u001b[0m\u001b[1;33m)\u001b[0m\u001b[1;33m\u001b[0m\u001b[0m\n\u001b[0m\u001b[0;32m    687\u001b[0m         \u001b[0mvalue\u001b[0m \u001b[1;33m=\u001b[0m \u001b[0mo\u001b[0m\u001b[1;33m[\u001b[0m\u001b[1;34m\"value\"\u001b[0m\u001b[1;33m]\u001b[0m\u001b[1;33m\u001b[0m\u001b[0m\n\u001b[0;32m    688\u001b[0m         \u001b[1;32mreturn\u001b[0m \u001b[0mvalue\u001b[0m \u001b[1;32mif\u001b[0m \u001b[0mtype\u001b[0m \u001b[1;32melse\u001b[0m \u001b[0mu\u001b[0m\u001b[1;33m.\u001b[0m\u001b[0mstrip_types\u001b[0m\u001b[1;33m(\u001b[0m\u001b[0mvalue\u001b[0m\u001b[1;33m)\u001b[0m\u001b[1;33m\u001b[0m\u001b[0m\n",
      "\u001b[1;32m/usr/local/lib/python2.7/dist-packages/venture/ripl/ripl.pyc\u001b[0m in \u001b[0;36mexecute_instruction\u001b[1;34m(self, instruction, params)\u001b[0m\n\u001b[0;32m    137\u001b[0m                 \u001b[0mself\u001b[0m\u001b[1;33m.\u001b[0m\u001b[0mdirective_id_to_stringable_instruction\u001b[0m\u001b[1;33m[\u001b[0m\u001b[0mdid\u001b[0m\u001b[1;33m]\u001b[0m \u001b[1;33m=\u001b[0m \u001b[0mstringable_instruction\u001b[0m\u001b[1;33m\u001b[0m\u001b[0m\n\u001b[0;32m    138\u001b[0m                 \u001b[0mself\u001b[0m\u001b[1;33m.\u001b[0m\u001b[0mdirective_id_to_mode\u001b[0m\u001b[1;33m[\u001b[0m\u001b[0mdid\u001b[0m\u001b[1;33m]\u001b[0m \u001b[1;33m=\u001b[0m \u001b[0mself\u001b[0m\u001b[1;33m.\u001b[0m\u001b[0mmode\u001b[0m\u001b[1;33m\u001b[0m\u001b[0m\n\u001b[1;32m--> 139\u001b[1;33m             \u001b[0mret_value\u001b[0m \u001b[1;33m=\u001b[0m \u001b[0mself\u001b[0m\u001b[1;33m.\u001b[0m\u001b[0msivm\u001b[0m\u001b[1;33m.\u001b[0m\u001b[0mexecute_instruction\u001b[0m\u001b[1;33m(\u001b[0m\u001b[0mparsed_instruction\u001b[0m\u001b[1;33m)\u001b[0m\u001b[1;33m\u001b[0m\u001b[0m\n\u001b[0m\u001b[0;32m    140\u001b[0m         \u001b[1;32mexcept\u001b[0m \u001b[0mVentureException\u001b[0m \u001b[1;32mas\u001b[0m \u001b[0me\u001b[0m\u001b[1;33m:\u001b[0m\u001b[1;33m\u001b[0m\u001b[0m\n\u001b[0;32m    141\u001b[0m             \u001b[1;32mimport\u001b[0m \u001b[0msys\u001b[0m\u001b[1;33m\u001b[0m\u001b[0m\n",
      "\u001b[1;32m/usr/local/lib/python2.7/dist-packages/venture/sivm/venture_sivm.pyc\u001b[0m in \u001b[0;36mexecute_instruction\u001b[1;34m(self, instruction)\u001b[0m\n\u001b[0;32m     66\u001b[0m                 \u001b[1;32mreturn\u001b[0m \u001b[0mf\u001b[0m\u001b[1;33m(\u001b[0m\u001b[0minstruction\u001b[0m\u001b[1;33m)\u001b[0m\u001b[1;33m\u001b[0m\u001b[0m\n\u001b[0;32m     67\u001b[0m             \u001b[1;32melse\u001b[0m\u001b[1;33m:\u001b[0m\u001b[1;33m\u001b[0m\u001b[0m\n\u001b[1;32m---> 68\u001b[1;33m                 \u001b[0mresponse\u001b[0m \u001b[1;33m=\u001b[0m \u001b[0mself\u001b[0m\u001b[1;33m.\u001b[0m\u001b[0m_call_core_sivm_instruction\u001b[0m\u001b[1;33m(\u001b[0m\u001b[0minstruction\u001b[0m\u001b[1;33m)\u001b[0m\u001b[1;33m\u001b[0m\u001b[0m\n\u001b[0m\u001b[0;32m     69\u001b[0m                 \u001b[1;32mreturn\u001b[0m \u001b[0mresponse\u001b[0m\u001b[1;33m\u001b[0m\u001b[0m\n\u001b[0;32m     70\u001b[0m \u001b[1;33m\u001b[0m\u001b[0m\n",
      "\u001b[1;32m/usr/local/lib/python2.7/dist-packages/venture/sivm/venture_sivm.pyc\u001b[0m in \u001b[0;36m_call_core_sivm_instruction\u001b[1;34m(self, instruction)\u001b[0m\n\u001b[0;32m    127\u001b[0m             \u001b[0mdesugared_src_location\u001b[0m\u001b[1;33m[\u001b[0m\u001b[1;34m'expression_index'\u001b[0m\u001b[1;33m]\u001b[0m \u001b[1;33m=\u001b[0m \u001b[0mnew_index\u001b[0m\u001b[1;33m\u001b[0m\u001b[0m\n\u001b[0;32m    128\u001b[0m         \u001b[1;32mtry\u001b[0m\u001b[1;33m:\u001b[0m\u001b[1;33m\u001b[0m\u001b[0m\n\u001b[1;32m--> 129\u001b[1;33m             \u001b[0mresponse\u001b[0m \u001b[1;33m=\u001b[0m \u001b[0mself\u001b[0m\u001b[1;33m.\u001b[0m\u001b[0mcore_sivm\u001b[0m\u001b[1;33m.\u001b[0m\u001b[0mexecute_instruction\u001b[0m\u001b[1;33m(\u001b[0m\u001b[0mdesugared_instruction\u001b[0m\u001b[1;33m)\u001b[0m\u001b[1;33m\u001b[0m\u001b[0m\n\u001b[0m\u001b[0;32m    130\u001b[0m         \u001b[1;32mexcept\u001b[0m \u001b[0mVentureException\u001b[0m \u001b[1;32mas\u001b[0m \u001b[0me\u001b[0m\u001b[1;33m:\u001b[0m\u001b[1;33m\u001b[0m\u001b[0m\n\u001b[0;32m    131\u001b[0m             \u001b[1;31m# raise # One can suppress error annotation by uncommenting this\u001b[0m\u001b[1;33m\u001b[0m\u001b[1;33m\u001b[0m\u001b[0m\n",
      "\u001b[1;32m/usr/local/lib/python2.7/dist-packages/venture/sivm/core_sivm.pyc\u001b[0m in \u001b[0;36mexecute_instruction\u001b[1;34m(self, instruction)\u001b[0m\n\u001b[0;32m     44\u001b[0m         \u001b[0mutils\u001b[0m\u001b[1;33m.\u001b[0m\u001b[0mvalidate_instruction\u001b[0m\u001b[1;33m(\u001b[0m\u001b[0minstruction\u001b[0m\u001b[1;33m,\u001b[0m\u001b[0mself\u001b[0m\u001b[1;33m.\u001b[0m\u001b[0m_implemented_instructions\u001b[0m\u001b[1;33m)\u001b[0m\u001b[1;33m\u001b[0m\u001b[0m\n\u001b[0;32m     45\u001b[0m         \u001b[0mf\u001b[0m \u001b[1;33m=\u001b[0m \u001b[0mgetattr\u001b[0m\u001b[1;33m(\u001b[0m\u001b[0mself\u001b[0m\u001b[1;33m,\u001b[0m\u001b[1;34m'_do_'\u001b[0m\u001b[1;33m+\u001b[0m\u001b[0minstruction\u001b[0m\u001b[1;33m[\u001b[0m\u001b[1;34m'instruction'\u001b[0m\u001b[1;33m]\u001b[0m\u001b[1;33m)\u001b[0m\u001b[1;33m\u001b[0m\u001b[0m\n\u001b[1;32m---> 46\u001b[1;33m         \u001b[1;32mreturn\u001b[0m \u001b[0mf\u001b[0m\u001b[1;33m(\u001b[0m\u001b[0minstruction\u001b[0m\u001b[1;33m)\u001b[0m\u001b[1;33m\u001b[0m\u001b[0m\n\u001b[0m\u001b[0;32m     47\u001b[0m \u001b[1;33m\u001b[0m\u001b[0m\n\u001b[0;32m     48\u001b[0m     \u001b[1;31m###############################\u001b[0m\u001b[1;33m\u001b[0m\u001b[1;33m\u001b[0m\u001b[0m\n",
      "\u001b[1;32m/usr/local/lib/python2.7/dist-packages/venture/sivm/core_sivm.pyc\u001b[0m in \u001b[0;36m_do_infer\u001b[1;34m(self, instruction)\u001b[0m\n\u001b[0;32m    158\u001b[0m         e = utils.validate_arg(instruction,'expression',\n\u001b[0;32m    159\u001b[0m                 utils.validate_expression,modifier=_modify_expression, wrap_exception=False)\n\u001b[1;32m--> 160\u001b[1;33m         \u001b[1;33m(\u001b[0m\u001b[0mdid\u001b[0m\u001b[1;33m,\u001b[0m \u001b[0mval\u001b[0m\u001b[1;33m)\u001b[0m \u001b[1;33m=\u001b[0m \u001b[0mself\u001b[0m\u001b[1;33m.\u001b[0m\u001b[0mengine\u001b[0m\u001b[1;33m.\u001b[0m\u001b[0minfer\u001b[0m\u001b[1;33m(\u001b[0m\u001b[0me\u001b[0m\u001b[1;33m)\u001b[0m\u001b[1;33m\u001b[0m\u001b[0m\n\u001b[0m\u001b[0;32m    161\u001b[0m         \u001b[1;32mreturn\u001b[0m \u001b[1;33m{\u001b[0m\u001b[1;34m\"directive_id\"\u001b[0m\u001b[1;33m:\u001b[0m \u001b[0mdid\u001b[0m\u001b[1;33m,\u001b[0m \u001b[1;34m\"value\"\u001b[0m\u001b[1;33m:\u001b[0m\u001b[0mval\u001b[0m\u001b[1;33m}\u001b[0m\u001b[1;33m\u001b[0m\u001b[0m\n\u001b[0;32m    162\u001b[0m \u001b[1;33m\u001b[0m\u001b[0m\n",
      "\u001b[1;32m/usr/local/lib/python2.7/dist-packages/venture/engine/engine.pyc\u001b[0m in \u001b[0;36minfer\u001b[1;34m(self, program)\u001b[0m\n\u001b[0;32m    206\u001b[0m       \u001b[1;32mreturn\u001b[0m \u001b[1;33m(\u001b[0m\u001b[0mNone\u001b[0m\u001b[1;33m,\u001b[0m \u001b[0mNone\u001b[0m\u001b[1;33m)\u001b[0m \u001b[1;31m# The core_sivm expects a 2-tuple\u001b[0m\u001b[1;33m\u001b[0m\u001b[0m\n\u001b[0;32m    207\u001b[0m     \u001b[1;32melse\u001b[0m\u001b[1;33m:\u001b[0m\u001b[1;33m\u001b[0m\u001b[0m\n\u001b[1;32m--> 208\u001b[1;33m       \u001b[1;32mreturn\u001b[0m \u001b[0mself\u001b[0m\u001b[1;33m.\u001b[0m\u001b[0mevaluate\u001b[0m\u001b[1;33m(\u001b[0m\u001b[1;33m[\u001b[0m\u001b[0mv\u001b[0m\u001b[1;33m.\u001b[0m\u001b[0msym\u001b[0m\u001b[1;33m(\u001b[0m\u001b[1;34m\"run\"\u001b[0m\u001b[1;33m)\u001b[0m\u001b[1;33m,\u001b[0m \u001b[0mprogram\u001b[0m\u001b[1;33m]\u001b[0m\u001b[1;33m)\u001b[0m\u001b[1;33m\u001b[0m\u001b[0m\n\u001b[0m\u001b[0;32m    209\u001b[0m \u001b[1;33m\u001b[0m\u001b[0m\n\u001b[0;32m    210\u001b[0m   \u001b[1;32mdef\u001b[0m \u001b[0mis_infer_loop_program\u001b[0m\u001b[1;33m(\u001b[0m\u001b[0mself\u001b[0m\u001b[1;33m,\u001b[0m \u001b[0mprogram\u001b[0m\u001b[1;33m)\u001b[0m\u001b[1;33m:\u001b[0m\u001b[1;33m\u001b[0m\u001b[0m\n",
      "\u001b[1;32m/usr/local/lib/python2.7/dist-packages/venture/engine/engine.pyc\u001b[0m in \u001b[0;36mevaluate\u001b[1;34m(self, program)\u001b[0m\n\u001b[0;32m    169\u001b[0m   \u001b[1;32mdef\u001b[0m \u001b[0mevaluate\u001b[0m\u001b[1;33m(\u001b[0m\u001b[0mself\u001b[0m\u001b[1;33m,\u001b[0m \u001b[0mprogram\u001b[0m\u001b[1;33m)\u001b[0m\u001b[1;33m:\u001b[0m\u001b[1;33m\u001b[0m\u001b[0m\n\u001b[0;32m    170\u001b[0m     \u001b[1;32mwith\u001b[0m \u001b[0mself\u001b[0m\u001b[1;33m.\u001b[0m\u001b[0minference_trace\u001b[0m\u001b[1;33m(\u001b[0m\u001b[1;33m)\u001b[0m\u001b[1;33m:\u001b[0m\u001b[1;33m\u001b[0m\u001b[0m\n\u001b[1;32m--> 171\u001b[1;33m       \u001b[0mdid\u001b[0m \u001b[1;33m=\u001b[0m \u001b[0mself\u001b[0m\u001b[1;33m.\u001b[0m\u001b[0m_do_evaluate\u001b[0m\u001b[1;33m(\u001b[0m\u001b[0mprogram\u001b[0m\u001b[1;33m)\u001b[0m\u001b[1;33m\u001b[0m\u001b[0m\n\u001b[0m\u001b[0;32m    172\u001b[0m       \u001b[0mans\u001b[0m \u001b[1;33m=\u001b[0m \u001b[0mself\u001b[0m\u001b[1;33m.\u001b[0m\u001b[0minfer_trace\u001b[0m\u001b[1;33m.\u001b[0m\u001b[0mextractValue\u001b[0m\u001b[1;33m(\u001b[0m\u001b[0mdid\u001b[0m\u001b[1;33m)\u001b[0m\u001b[1;33m\u001b[0m\u001b[0m\n\u001b[0;32m    173\u001b[0m       \u001b[0mself\u001b[0m\u001b[1;33m.\u001b[0m\u001b[0minfer_trace\u001b[0m\u001b[1;33m.\u001b[0m\u001b[0muneval\u001b[0m\u001b[1;33m(\u001b[0m\u001b[0mdid\u001b[0m\u001b[1;33m)\u001b[0m \u001b[1;31m# TODO This becomes \"forget\" after the engine.Trace wrapper\u001b[0m\u001b[1;33m\u001b[0m\u001b[0m\n",
      "\u001b[1;32m/usr/local/lib/python2.7/dist-packages/venture/engine/engine.pyc\u001b[0m in \u001b[0;36m_do_evaluate\u001b[1;34m(self, program)\u001b[0m\n\u001b[0;32m    177\u001b[0m   \u001b[1;32mdef\u001b[0m \u001b[0m_do_evaluate\u001b[0m\u001b[1;33m(\u001b[0m\u001b[0mself\u001b[0m\u001b[1;33m,\u001b[0m \u001b[0mprogram\u001b[0m\u001b[1;33m)\u001b[0m\u001b[1;33m:\u001b[0m\u001b[1;33m\u001b[0m\u001b[0m\n\u001b[0;32m    178\u001b[0m     \u001b[0mdid\u001b[0m \u001b[1;33m=\u001b[0m \u001b[0mself\u001b[0m\u001b[1;33m.\u001b[0m\u001b[0mnextBaseAddr\u001b[0m\u001b[1;33m(\u001b[0m\u001b[1;33m)\u001b[0m\u001b[1;33m\u001b[0m\u001b[0m\n\u001b[1;32m--> 179\u001b[1;33m     \u001b[0mself\u001b[0m\u001b[1;33m.\u001b[0m\u001b[0minfer_trace\u001b[0m\u001b[1;33m.\u001b[0m\u001b[0meval\u001b[0m\u001b[1;33m(\u001b[0m\u001b[0mdid\u001b[0m\u001b[1;33m,\u001b[0m \u001b[0mprogram\u001b[0m\u001b[1;33m)\u001b[0m\u001b[1;33m\u001b[0m\u001b[0m\n\u001b[0m\u001b[0;32m    180\u001b[0m     \u001b[1;32mreturn\u001b[0m \u001b[0mdid\u001b[0m\u001b[1;33m\u001b[0m\u001b[0m\n\u001b[0;32m    181\u001b[0m \u001b[1;33m\u001b[0m\u001b[0m\n",
      "\u001b[1;32m/usr/local/lib/python2.7/dist-packages/venture/untraced/trace.pyc\u001b[0m in \u001b[0;36meval\u001b[1;34m(self, id, exp)\u001b[0m\n\u001b[0;32m     48\u001b[0m     \u001b[1;32massert\u001b[0m \u001b[0mid\u001b[0m \u001b[1;32mnot\u001b[0m \u001b[1;32min\u001b[0m \u001b[0mself\u001b[0m\u001b[1;33m.\u001b[0m\u001b[0mresults\u001b[0m\u001b[1;33m\u001b[0m\u001b[0m\n\u001b[0;32m     49\u001b[0m     \u001b[0mpy_exp\u001b[0m \u001b[1;33m=\u001b[0m \u001b[0mt\u001b[0m\u001b[1;33m.\u001b[0m\u001b[0mExpressionType\u001b[0m\u001b[1;33m(\u001b[0m\u001b[1;33m)\u001b[0m\u001b[1;33m.\u001b[0m\u001b[0masPython\u001b[0m\u001b[1;33m(\u001b[0m\u001b[0mvv\u001b[0m\u001b[1;33m.\u001b[0m\u001b[0mVentureValue\u001b[0m\u001b[1;33m.\u001b[0m\u001b[0mfromStackDict\u001b[0m\u001b[1;33m(\u001b[0m\u001b[0mexp\u001b[0m\u001b[1;33m)\u001b[0m\u001b[1;33m)\u001b[0m\u001b[1;33m\u001b[0m\u001b[0m\n\u001b[1;32m---> 50\u001b[1;33m     \u001b[0mval\u001b[0m \u001b[1;33m=\u001b[0m \u001b[0mevaluator\u001b[0m\u001b[1;33m.\u001b[0m\u001b[0meval\u001b[0m\u001b[1;33m(\u001b[0m\u001b[0maddr\u001b[0m\u001b[1;33m.\u001b[0m\u001b[0mAddress\u001b[0m\u001b[1;33m(\u001b[0m\u001b[0maddr\u001b[0m\u001b[1;33m.\u001b[0m\u001b[0mList\u001b[0m\u001b[1;33m(\u001b[0m\u001b[0mid\u001b[0m\u001b[1;33m)\u001b[0m\u001b[1;33m)\u001b[0m\u001b[1;33m,\u001b[0m \u001b[0mpy_exp\u001b[0m\u001b[1;33m,\u001b[0m \u001b[0mself\u001b[0m\u001b[1;33m.\u001b[0m\u001b[0menv\u001b[0m\u001b[1;33m)\u001b[0m\u001b[1;33m\u001b[0m\u001b[0m\n\u001b[0m\u001b[0;32m     51\u001b[0m     \u001b[1;32massert\u001b[0m \u001b[0misinstance\u001b[0m\u001b[1;33m(\u001b[0m\u001b[0mval\u001b[0m\u001b[1;33m,\u001b[0m \u001b[0mvv\u001b[0m\u001b[1;33m.\u001b[0m\u001b[0mVentureValue\u001b[0m\u001b[1;33m)\u001b[0m\u001b[1;33m\u001b[0m\u001b[0m\n\u001b[0;32m     52\u001b[0m     \u001b[0mself\u001b[0m\u001b[1;33m.\u001b[0m\u001b[0mresults\u001b[0m\u001b[1;33m[\u001b[0m\u001b[0mid\u001b[0m\u001b[1;33m]\u001b[0m \u001b[1;33m=\u001b[0m \u001b[0mval\u001b[0m\u001b[1;33m\u001b[0m\u001b[0m\n",
      "\u001b[1;32m/usr/local/lib/python2.7/dist-packages/venture/untraced/evaluator.pyc\u001b[0m in \u001b[0;36meval\u001b[1;34m(address, exp, env)\u001b[0m\n\u001b[0;32m     52\u001b[0m \u001b[1;33m\u001b[0m\u001b[0m\n\u001b[0;32m     53\u001b[0m     \u001b[1;32mtry\u001b[0m\u001b[1;33m:\u001b[0m\u001b[1;33m\u001b[0m\u001b[0m\n\u001b[1;32m---> 54\u001b[1;33m       \u001b[0mval\u001b[0m \u001b[1;33m=\u001b[0m \u001b[0mapply\u001b[0m\u001b[1;33m(\u001b[0m\u001b[0maddress\u001b[0m\u001b[1;33m,\u001b[0m \u001b[0mnodes\u001b[0m\u001b[1;33m,\u001b[0m \u001b[0menv\u001b[0m\u001b[1;33m)\u001b[0m\u001b[1;33m\u001b[0m\u001b[0m\n\u001b[0m\u001b[0;32m     55\u001b[0m     \u001b[1;32mexcept\u001b[0m \u001b[0mVentureNestedRiplMethodError\u001b[0m \u001b[1;32mas\u001b[0m \u001b[0merr\u001b[0m\u001b[1;33m:\u001b[0m\u001b[1;33m\u001b[0m\u001b[0m\n\u001b[0;32m     56\u001b[0m       \u001b[1;31m# This is a hack to allow errors raised by inference SP actions\u001b[0m\u001b[1;33m\u001b[0m\u001b[1;33m\u001b[0m\u001b[0m\n",
      "\u001b[1;32m/usr/local/lib/python2.7/dist-packages/venture/untraced/evaluator.pyc\u001b[0m in \u001b[0;36mapply\u001b[1;34m(address, nodes, env)\u001b[0m\n\u001b[0;32m     76\u001b[0m   \u001b[0mreq_args\u001b[0m \u001b[1;33m=\u001b[0m \u001b[0mRequestArgs\u001b[0m\u001b[1;33m(\u001b[0m\u001b[0maddress\u001b[0m\u001b[1;33m,\u001b[0m \u001b[0mnodes\u001b[0m\u001b[1;33m[\u001b[0m\u001b[1;36m1\u001b[0m\u001b[1;33m:\u001b[0m\u001b[1;33m]\u001b[0m\u001b[1;33m,\u001b[0m \u001b[0menv\u001b[0m\u001b[1;33m)\u001b[0m\u001b[1;33m\u001b[0m\u001b[0m\n\u001b[0;32m     77\u001b[0m   \u001b[0mrequests\u001b[0m \u001b[1;33m=\u001b[0m \u001b[0mapplyPSP\u001b[0m\u001b[1;33m(\u001b[0m\u001b[0mspr\u001b[0m\u001b[1;33m.\u001b[0m\u001b[0msp\u001b[0m\u001b[1;33m.\u001b[0m\u001b[0mrequestPSP\u001b[0m\u001b[1;33m,\u001b[0m \u001b[0mreq_args\u001b[0m\u001b[1;33m)\u001b[0m\u001b[1;33m\u001b[0m\u001b[0m\n\u001b[1;32m---> 78\u001b[1;33m   \u001b[0mreq_nodes\u001b[0m \u001b[1;33m=\u001b[0m \u001b[1;33m[\u001b[0m\u001b[0mevalRequest\u001b[0m\u001b[1;33m(\u001b[0m\u001b[0mreq_args\u001b[0m\u001b[1;33m,\u001b[0m \u001b[0mspr\u001b[0m\u001b[1;33m,\u001b[0m \u001b[0mr\u001b[0m\u001b[1;33m)\u001b[0m \u001b[1;32mfor\u001b[0m \u001b[0mr\u001b[0m \u001b[1;32min\u001b[0m \u001b[0mrequests\u001b[0m\u001b[1;33m.\u001b[0m\u001b[0mesrs\u001b[0m\u001b[1;33m]\u001b[0m\u001b[1;33m\u001b[0m\u001b[0m\n\u001b[0m\u001b[0;32m     79\u001b[0m   \u001b[1;32massert\u001b[0m \u001b[1;32mnot\u001b[0m \u001b[0mrequests\u001b[0m\u001b[1;33m.\u001b[0m\u001b[0mlsrs\u001b[0m\u001b[1;33m,\u001b[0m \u001b[1;34m\"The untraced evaluator does not yet support LSRs.\"\u001b[0m\u001b[1;33m\u001b[0m\u001b[0m\n\u001b[0;32m     80\u001b[0m   \u001b[1;32mreturn\u001b[0m \u001b[0mapplyPSP\u001b[0m\u001b[1;33m(\u001b[0m\u001b[0mspr\u001b[0m\u001b[1;33m.\u001b[0m\u001b[0msp\u001b[0m\u001b[1;33m.\u001b[0m\u001b[0moutputPSP\u001b[0m\u001b[1;33m,\u001b[0m \u001b[0mOutputArgs\u001b[0m\u001b[1;33m(\u001b[0m\u001b[0maddress\u001b[0m\u001b[1;33m,\u001b[0m \u001b[0mnodes\u001b[0m\u001b[1;33m[\u001b[0m\u001b[1;36m1\u001b[0m\u001b[1;33m:\u001b[0m\u001b[1;33m]\u001b[0m\u001b[1;33m,\u001b[0m \u001b[0menv\u001b[0m\u001b[1;33m,\u001b[0m \u001b[0mreq_nodes\u001b[0m\u001b[1;33m)\u001b[0m\u001b[1;33m)\u001b[0m\u001b[1;33m\u001b[0m\u001b[0m\n",
      "\u001b[1;32m/usr/local/lib/python2.7/dist-packages/venture/untraced/evaluator.pyc\u001b[0m in \u001b[0;36mevalRequest\u001b[1;34m(req_args, spr, r)\u001b[0m\n\u001b[0;32m    115\u001b[0m   \u001b[1;32melse\u001b[0m\u001b[1;33m:\u001b[0m\u001b[1;33m\u001b[0m\u001b[0m\n\u001b[0;32m    116\u001b[0m     \u001b[0mnew_addr\u001b[0m \u001b[1;33m=\u001b[0m \u001b[0mreq_args\u001b[0m\u001b[1;33m.\u001b[0m\u001b[0mnode\u001b[0m\u001b[1;33m.\u001b[0m\u001b[0maddress\u001b[0m\u001b[1;33m.\u001b[0m\u001b[0mrequest\u001b[0m\u001b[1;33m(\u001b[0m\u001b[0mr\u001b[0m\u001b[1;33m.\u001b[0m\u001b[0maddr\u001b[0m\u001b[1;33m)\u001b[0m\u001b[1;33m\u001b[0m\u001b[0m\n\u001b[1;32m--> 117\u001b[1;33m     \u001b[0mans\u001b[0m \u001b[1;33m=\u001b[0m \u001b[0mnode\u001b[0m\u001b[1;33m.\u001b[0m\u001b[0mNode\u001b[0m\u001b[1;33m(\u001b[0m\u001b[0mnew_addr\u001b[0m\u001b[1;33m,\u001b[0m \u001b[0meval\u001b[0m\u001b[1;33m(\u001b[0m\u001b[0mnew_addr\u001b[0m\u001b[1;33m,\u001b[0m \u001b[0mr\u001b[0m\u001b[1;33m.\u001b[0m\u001b[0mexp\u001b[0m\u001b[1;33m,\u001b[0m \u001b[0mr\u001b[0m\u001b[1;33m.\u001b[0m\u001b[0menv\u001b[0m\u001b[1;33m)\u001b[0m\u001b[1;33m)\u001b[0m\u001b[1;33m\u001b[0m\u001b[0m\n\u001b[0m\u001b[0;32m    118\u001b[0m     \u001b[1;32mif\u001b[0m \u001b[0mnonRepeatableRequestID\u001b[0m\u001b[1;33m(\u001b[0m\u001b[0mreq_args\u001b[0m\u001b[1;33m,\u001b[0m \u001b[0mr\u001b[0m\u001b[1;33m.\u001b[0m\u001b[0mid\u001b[0m\u001b[1;33m)\u001b[0m\u001b[1;33m:\u001b[0m\u001b[1;33m\u001b[0m\u001b[0m\n\u001b[0;32m    119\u001b[0m       \u001b[1;32mpass\u001b[0m\u001b[1;33m\u001b[0m\u001b[0m\n",
      "\u001b[1;32m/usr/local/lib/python2.7/dist-packages/venture/untraced/evaluator.pyc\u001b[0m in \u001b[0;36meval\u001b[1;34m(address, exp, env)\u001b[0m\n\u001b[0;32m     48\u001b[0m     \u001b[1;32mfor\u001b[0m \u001b[0mindex\u001b[0m\u001b[1;33m,\u001b[0m \u001b[0msubexp\u001b[0m \u001b[1;32min\u001b[0m \u001b[0menumerate\u001b[0m\u001b[1;33m(\u001b[0m\u001b[0mexp\u001b[0m\u001b[1;33m)\u001b[0m\u001b[1;33m:\u001b[0m\u001b[1;33m\u001b[0m\u001b[0m\n\u001b[0;32m     49\u001b[0m       \u001b[0maddr\u001b[0m \u001b[1;33m=\u001b[0m \u001b[0maddress\u001b[0m\u001b[1;33m.\u001b[0m\u001b[0mextend\u001b[0m\u001b[1;33m(\u001b[0m\u001b[0mindex\u001b[0m\u001b[1;33m)\u001b[0m\u001b[1;33m\u001b[0m\u001b[0m\n\u001b[1;32m---> 50\u001b[1;33m       \u001b[0mv\u001b[0m \u001b[1;33m=\u001b[0m \u001b[0meval\u001b[0m\u001b[1;33m(\u001b[0m\u001b[0maddr\u001b[0m\u001b[1;33m,\u001b[0m\u001b[0msubexp\u001b[0m\u001b[1;33m,\u001b[0m\u001b[0menv\u001b[0m\u001b[1;33m)\u001b[0m\u001b[1;33m\u001b[0m\u001b[0m\n\u001b[0m\u001b[0;32m     51\u001b[0m       \u001b[0mnodes\u001b[0m\u001b[1;33m.\u001b[0m\u001b[0mappend\u001b[0m\u001b[1;33m(\u001b[0m\u001b[0mnode\u001b[0m\u001b[1;33m.\u001b[0m\u001b[0mNode\u001b[0m\u001b[1;33m(\u001b[0m\u001b[0maddr\u001b[0m\u001b[1;33m,\u001b[0m \u001b[0mv\u001b[0m\u001b[1;33m)\u001b[0m\u001b[1;33m)\u001b[0m\u001b[1;33m\u001b[0m\u001b[0m\n\u001b[0;32m     52\u001b[0m \u001b[1;33m\u001b[0m\u001b[0m\n",
      "\u001b[1;32m/usr/local/lib/python2.7/dist-packages/venture/untraced/evaluator.pyc\u001b[0m in \u001b[0;36meval\u001b[1;34m(address, exp, env)\u001b[0m\n\u001b[0;32m     52\u001b[0m \u001b[1;33m\u001b[0m\u001b[0m\n\u001b[0;32m     53\u001b[0m     \u001b[1;32mtry\u001b[0m\u001b[1;33m:\u001b[0m\u001b[1;33m\u001b[0m\u001b[0m\n\u001b[1;32m---> 54\u001b[1;33m       \u001b[0mval\u001b[0m \u001b[1;33m=\u001b[0m \u001b[0mapply\u001b[0m\u001b[1;33m(\u001b[0m\u001b[0maddress\u001b[0m\u001b[1;33m,\u001b[0m \u001b[0mnodes\u001b[0m\u001b[1;33m,\u001b[0m \u001b[0menv\u001b[0m\u001b[1;33m)\u001b[0m\u001b[1;33m\u001b[0m\u001b[0m\n\u001b[0m\u001b[0;32m     55\u001b[0m     \u001b[1;32mexcept\u001b[0m \u001b[0mVentureNestedRiplMethodError\u001b[0m \u001b[1;32mas\u001b[0m \u001b[0merr\u001b[0m\u001b[1;33m:\u001b[0m\u001b[1;33m\u001b[0m\u001b[0m\n\u001b[0;32m     56\u001b[0m       \u001b[1;31m# This is a hack to allow errors raised by inference SP actions\u001b[0m\u001b[1;33m\u001b[0m\u001b[1;33m\u001b[0m\u001b[0m\n",
      "\u001b[1;32m/usr/local/lib/python2.7/dist-packages/venture/untraced/evaluator.pyc\u001b[0m in \u001b[0;36mapply\u001b[1;34m(address, nodes, env)\u001b[0m\n\u001b[0;32m     78\u001b[0m   \u001b[0mreq_nodes\u001b[0m \u001b[1;33m=\u001b[0m \u001b[1;33m[\u001b[0m\u001b[0mevalRequest\u001b[0m\u001b[1;33m(\u001b[0m\u001b[0mreq_args\u001b[0m\u001b[1;33m,\u001b[0m \u001b[0mspr\u001b[0m\u001b[1;33m,\u001b[0m \u001b[0mr\u001b[0m\u001b[1;33m)\u001b[0m \u001b[1;32mfor\u001b[0m \u001b[0mr\u001b[0m \u001b[1;32min\u001b[0m \u001b[0mrequests\u001b[0m\u001b[1;33m.\u001b[0m\u001b[0mesrs\u001b[0m\u001b[1;33m]\u001b[0m\u001b[1;33m\u001b[0m\u001b[0m\n\u001b[0;32m     79\u001b[0m   \u001b[1;32massert\u001b[0m \u001b[1;32mnot\u001b[0m \u001b[0mrequests\u001b[0m\u001b[1;33m.\u001b[0m\u001b[0mlsrs\u001b[0m\u001b[1;33m,\u001b[0m \u001b[1;34m\"The untraced evaluator does not yet support LSRs.\"\u001b[0m\u001b[1;33m\u001b[0m\u001b[0m\n\u001b[1;32m---> 80\u001b[1;33m   \u001b[1;32mreturn\u001b[0m \u001b[0mapplyPSP\u001b[0m\u001b[1;33m(\u001b[0m\u001b[0mspr\u001b[0m\u001b[1;33m.\u001b[0m\u001b[0msp\u001b[0m\u001b[1;33m.\u001b[0m\u001b[0moutputPSP\u001b[0m\u001b[1;33m,\u001b[0m \u001b[0mOutputArgs\u001b[0m\u001b[1;33m(\u001b[0m\u001b[0maddress\u001b[0m\u001b[1;33m,\u001b[0m \u001b[0mnodes\u001b[0m\u001b[1;33m[\u001b[0m\u001b[1;36m1\u001b[0m\u001b[1;33m:\u001b[0m\u001b[1;33m]\u001b[0m\u001b[1;33m,\u001b[0m \u001b[0menv\u001b[0m\u001b[1;33m,\u001b[0m \u001b[0mreq_nodes\u001b[0m\u001b[1;33m)\u001b[0m\u001b[1;33m)\u001b[0m\u001b[1;33m\u001b[0m\u001b[0m\n\u001b[0m\u001b[0;32m     81\u001b[0m \u001b[1;33m\u001b[0m\u001b[0m\n\u001b[0;32m     82\u001b[0m \u001b[1;32mclass\u001b[0m \u001b[0mRequestArgs\u001b[0m\u001b[1;33m(\u001b[0m\u001b[0mobject\u001b[0m\u001b[1;33m)\u001b[0m\u001b[1;33m:\u001b[0m\u001b[1;33m\u001b[0m\u001b[0m\n",
      "\u001b[1;32m/usr/local/lib/python2.7/dist-packages/venture/untraced/evaluator.pyc\u001b[0m in \u001b[0;36mapplyPSP\u001b[1;34m(psp, args)\u001b[0m\n\u001b[0;32m    105\u001b[0m \u001b[1;32mdef\u001b[0m \u001b[0mapplyPSP\u001b[0m\u001b[1;33m(\u001b[0m\u001b[0mpsp\u001b[0m\u001b[1;33m,\u001b[0m \u001b[0margs\u001b[0m\u001b[1;33m)\u001b[0m\u001b[1;33m:\u001b[0m\u001b[1;33m\u001b[0m\u001b[0m\n\u001b[0;32m    106\u001b[0m   \u001b[1;32massert\u001b[0m \u001b[0misinstance\u001b[0m\u001b[1;33m(\u001b[0m\u001b[0mpsp\u001b[0m\u001b[1;33m,\u001b[0m \u001b[0mPSP\u001b[0m\u001b[1;33m)\u001b[0m\u001b[1;33m\u001b[0m\u001b[0m\n\u001b[1;32m--> 107\u001b[1;33m   \u001b[0mval\u001b[0m \u001b[1;33m=\u001b[0m \u001b[0mpsp\u001b[0m\u001b[1;33m.\u001b[0m\u001b[0msimulate\u001b[0m\u001b[1;33m(\u001b[0m\u001b[0margs\u001b[0m\u001b[1;33m)\u001b[0m\u001b[1;33m\u001b[0m\u001b[0m\n\u001b[0m\u001b[0;32m    108\u001b[0m   \u001b[0mpsp\u001b[0m\u001b[1;33m.\u001b[0m\u001b[0mincorporate\u001b[0m\u001b[1;33m(\u001b[0m\u001b[0mval\u001b[0m\u001b[1;33m,\u001b[0m \u001b[0margs\u001b[0m\u001b[1;33m)\u001b[0m\u001b[1;33m\u001b[0m\u001b[0m\n\u001b[0;32m    109\u001b[0m   \u001b[1;32mreturn\u001b[0m \u001b[0mval\u001b[0m\u001b[1;33m\u001b[0m\u001b[0m\n",
      "\u001b[1;32m/usr/local/lib/python2.7/dist-packages/venture/lite/psp.pyc\u001b[0m in \u001b[0;36msimulate\u001b[1;34m(self, args)\u001b[0m\n\u001b[0;32m    349\u001b[0m \u001b[1;33m\u001b[0m\u001b[0m\n\u001b[0;32m    350\u001b[0m   \u001b[1;32mdef\u001b[0m \u001b[0msimulate\u001b[0m\u001b[1;33m(\u001b[0m\u001b[0mself\u001b[0m\u001b[1;33m,\u001b[0m\u001b[0margs\u001b[0m\u001b[1;33m)\u001b[0m\u001b[1;33m:\u001b[0m\u001b[1;33m\u001b[0m\u001b[0m\n\u001b[1;32m--> 351\u001b[1;33m     \u001b[1;32mreturn\u001b[0m \u001b[0mself\u001b[0m\u001b[1;33m.\u001b[0m\u001b[0mf_type\u001b[0m\u001b[1;33m.\u001b[0m\u001b[0mwrap_return\u001b[0m\u001b[1;33m(\u001b[0m\u001b[0mself\u001b[0m\u001b[1;33m.\u001b[0m\u001b[0mpsp\u001b[0m\u001b[1;33m.\u001b[0m\u001b[0msimulate\u001b[0m\u001b[1;33m(\u001b[0m\u001b[0mself\u001b[0m\u001b[1;33m.\u001b[0m\u001b[0mf_type\u001b[0m\u001b[1;33m.\u001b[0m\u001b[0munwrap_args\u001b[0m\u001b[1;33m(\u001b[0m\u001b[0margs\u001b[0m\u001b[1;33m)\u001b[0m\u001b[1;33m)\u001b[0m\u001b[1;33m)\u001b[0m\u001b[1;33m\u001b[0m\u001b[0m\n\u001b[0m\u001b[0;32m    352\u001b[0m   \u001b[1;32mdef\u001b[0m \u001b[0mgradientOfSimulate\u001b[0m\u001b[1;33m(\u001b[0m\u001b[0mself\u001b[0m\u001b[1;33m,\u001b[0m \u001b[0margs\u001b[0m\u001b[1;33m,\u001b[0m \u001b[0mvalue\u001b[0m\u001b[1;33m,\u001b[0m \u001b[0mdirection\u001b[0m\u001b[1;33m)\u001b[0m\u001b[1;33m:\u001b[0m\u001b[1;33m\u001b[0m\u001b[0m\n\u001b[0;32m    353\u001b[0m     \u001b[1;31m# TODO Should gradientOfSimulate unwrap the direction and wrap the\u001b[0m\u001b[1;33m\u001b[0m\u001b[1;33m\u001b[0m\u001b[0m\n",
      "\u001b[1;32m/usr/local/lib/python2.7/dist-packages/venture/lite/inference_sps.pyc\u001b[0m in \u001b[0;36msimulate\u001b[1;34m(self, args)\u001b[0m\n\u001b[0;32m     50\u001b[0m   \u001b[1;32mdef\u001b[0m \u001b[0msimulate\u001b[0m\u001b[1;33m(\u001b[0m\u001b[0mself\u001b[0m\u001b[1;33m,\u001b[0m \u001b[0margs\u001b[0m\u001b[1;33m)\u001b[0m\u001b[1;33m:\u001b[0m\u001b[1;33m\u001b[0m\u001b[0m\n\u001b[0;32m     51\u001b[0m     \u001b[0mengine\u001b[0m \u001b[1;33m=\u001b[0m \u001b[0margs\u001b[0m\u001b[1;33m.\u001b[0m\u001b[0moperandValues\u001b[0m\u001b[1;33m(\u001b[0m\u001b[1;33m)\u001b[0m\u001b[1;33m[\u001b[0m\u001b[1;36m0\u001b[0m\u001b[1;33m]\u001b[0m\u001b[1;33m\u001b[0m\u001b[0m\n\u001b[1;32m---> 52\u001b[1;33m     \u001b[0mans\u001b[0m \u001b[1;33m=\u001b[0m \u001b[0mengine\u001b[0m\u001b[1;33m.\u001b[0m\u001b[0mprimitive_infer\u001b[0m\u001b[1;33m(\u001b[0m\u001b[0mself\u001b[0m\u001b[1;33m.\u001b[0m\u001b[0mexp\u001b[0m\u001b[1;33m)\u001b[0m\u001b[1;33m\u001b[0m\u001b[0m\n\u001b[0m\u001b[0;32m     53\u001b[0m     \u001b[1;32mreturn\u001b[0m \u001b[1;33m(\u001b[0m\u001b[0mans\u001b[0m\u001b[1;33m,\u001b[0m \u001b[0mengine\u001b[0m\u001b[1;33m)\u001b[0m\u001b[1;33m\u001b[0m\u001b[0m\n\u001b[0;32m     54\u001b[0m \u001b[1;33m\u001b[0m\u001b[0m\n",
      "\u001b[1;32m/usr/local/lib/python2.7/dist-packages/venture/engine/inference.pyc\u001b[0m in \u001b[0;36mprimitive_infer\u001b[1;34m(self, exp)\u001b[0m\n\u001b[0;32m     88\u001b[0m       \u001b[1;32mreturn\u001b[0m \u001b[0mitem\u001b[0m\u001b[1;33m\u001b[0m\u001b[0m\n\u001b[0;32m     89\u001b[0m \u001b[1;33m\u001b[0m\u001b[0m\n\u001b[1;32m---> 90\u001b[1;33m   \u001b[1;32mdef\u001b[0m \u001b[0mprimitive_infer\u001b[0m\u001b[1;33m(\u001b[0m\u001b[0mself\u001b[0m\u001b[1;33m,\u001b[0m \u001b[0mexp\u001b[0m\u001b[1;33m)\u001b[0m\u001b[1;33m:\u001b[0m \u001b[0mself\u001b[0m\u001b[1;33m.\u001b[0m\u001b[0mengine\u001b[0m\u001b[1;33m.\u001b[0m\u001b[0mprimitive_infer\u001b[0m\u001b[1;33m(\u001b[0m\u001b[0mexp\u001b[0m\u001b[1;33m)\u001b[0m\u001b[1;33m\u001b[0m\u001b[0m\n\u001b[0m\u001b[0;32m     91\u001b[0m   \u001b[1;32mdef\u001b[0m \u001b[0mresample\u001b[0m\u001b[1;33m(\u001b[0m\u001b[0mself\u001b[0m\u001b[1;33m,\u001b[0m \u001b[0mct\u001b[0m\u001b[1;33m)\u001b[0m\u001b[1;33m:\u001b[0m \u001b[0mself\u001b[0m\u001b[1;33m.\u001b[0m\u001b[0mengine\u001b[0m\u001b[1;33m.\u001b[0m\u001b[0mresample\u001b[0m\u001b[1;33m(\u001b[0m\u001b[0mct\u001b[0m\u001b[1;33m,\u001b[0m \u001b[1;34m'sequential'\u001b[0m\u001b[1;33m)\u001b[0m\u001b[1;33m\u001b[0m\u001b[0m\n\u001b[0;32m     92\u001b[0m   \u001b[1;32mdef\u001b[0m \u001b[0mresample_serializing\u001b[0m\u001b[1;33m(\u001b[0m\u001b[0mself\u001b[0m\u001b[1;33m,\u001b[0m \u001b[0mct\u001b[0m\u001b[1;33m)\u001b[0m\u001b[1;33m:\u001b[0m \u001b[0mself\u001b[0m\u001b[1;33m.\u001b[0m\u001b[0mengine\u001b[0m\u001b[1;33m.\u001b[0m\u001b[0mresample\u001b[0m\u001b[1;33m(\u001b[0m\u001b[0mct\u001b[0m\u001b[1;33m,\u001b[0m \u001b[1;34m'serializing'\u001b[0m\u001b[1;33m)\u001b[0m\u001b[1;33m\u001b[0m\u001b[0m\n",
      "\u001b[1;32m/usr/local/lib/python2.7/dist-packages/venture/engine/engine.pyc\u001b[0m in \u001b[0;36mprimitive_infer\u001b[1;34m(self, exp)\u001b[0m\n\u001b[0;32m    238\u001b[0m       \u001b[0mself\u001b[0m\u001b[1;33m.\u001b[0m\u001b[0m_define_in\u001b[0m\u001b[1;33m(\u001b[0m\u001b[0mname\u001b[0m\u001b[1;33m,\u001b[0m \u001b[0mexp\u001b[0m\u001b[1;33m,\u001b[0m \u001b[0mnext_trace\u001b[0m\u001b[1;33m)\u001b[0m\u001b[1;33m\u001b[0m\u001b[0m\n\u001b[0;32m    239\u001b[0m \u001b[1;33m\u001b[0m\u001b[0m\n\u001b[1;32m--> 240\u001b[1;33m   \u001b[1;32mdef\u001b[0m \u001b[0mprimitive_infer\u001b[0m\u001b[1;33m(\u001b[0m\u001b[0mself\u001b[0m\u001b[1;33m,\u001b[0m \u001b[0mexp\u001b[0m\u001b[1;33m)\u001b[0m\u001b[1;33m:\u001b[0m \u001b[0mself\u001b[0m\u001b[1;33m.\u001b[0m\u001b[0mmodel\u001b[0m\u001b[1;33m.\u001b[0m\u001b[0mprimitive_infer\u001b[0m\u001b[1;33m(\u001b[0m\u001b[0mexp\u001b[0m\u001b[1;33m)\u001b[0m\u001b[1;33m\u001b[0m\u001b[0m\n\u001b[0m\u001b[0;32m    241\u001b[0m   \u001b[1;32mdef\u001b[0m \u001b[0mlogscore\u001b[0m\u001b[1;33m(\u001b[0m\u001b[0mself\u001b[0m\u001b[1;33m)\u001b[0m\u001b[1;33m:\u001b[0m \u001b[1;32mreturn\u001b[0m \u001b[0mself\u001b[0m\u001b[1;33m.\u001b[0m\u001b[0mmodel\u001b[0m\u001b[1;33m.\u001b[0m\u001b[0mlogscore\u001b[0m\u001b[1;33m(\u001b[0m\u001b[1;33m)\u001b[0m\u001b[1;33m\u001b[0m\u001b[0m\n\u001b[0;32m    242\u001b[0m   \u001b[1;32mdef\u001b[0m \u001b[0mlogscore_all\u001b[0m\u001b[1;33m(\u001b[0m\u001b[0mself\u001b[0m\u001b[1;33m)\u001b[0m\u001b[1;33m:\u001b[0m \u001b[1;32mreturn\u001b[0m \u001b[0mself\u001b[0m\u001b[1;33m.\u001b[0m\u001b[0mmodel\u001b[0m\u001b[1;33m.\u001b[0m\u001b[0mlogscore_all\u001b[0m\u001b[1;33m(\u001b[0m\u001b[1;33m)\u001b[0m\u001b[1;33m\u001b[0m\u001b[0m\n",
      "\u001b[1;32m/usr/local/lib/python2.7/dist-packages/venture/engine/trace_set.pyc\u001b[0m in \u001b[0;36mprimitive_infer\u001b[1;34m(self, exp)\u001b[0m\n\u001b[0;32m    194\u001b[0m \u001b[1;33m\u001b[0m\u001b[0m\n\u001b[0;32m    195\u001b[0m   \u001b[1;32mdef\u001b[0m \u001b[0mprimitive_infer\u001b[0m\u001b[1;33m(\u001b[0m\u001b[0mself\u001b[0m\u001b[1;33m,\u001b[0m \u001b[0mexp\u001b[0m\u001b[1;33m)\u001b[0m\u001b[1;33m:\u001b[0m\u001b[1;33m\u001b[0m\u001b[0m\n\u001b[1;32m--> 196\u001b[1;33m     \u001b[0mself\u001b[0m\u001b[1;33m.\u001b[0m\u001b[0mtraces\u001b[0m\u001b[1;33m.\u001b[0m\u001b[0mmap\u001b[0m\u001b[1;33m(\u001b[0m\u001b[1;34m'primitive_infer'\u001b[0m\u001b[1;33m,\u001b[0m \u001b[0mexp\u001b[0m\u001b[1;33m)\u001b[0m\u001b[1;33m\u001b[0m\u001b[0m\n\u001b[0m\u001b[0;32m    197\u001b[0m \u001b[1;33m\u001b[0m\u001b[0m\n\u001b[0;32m    198\u001b[0m   \u001b[1;32mdef\u001b[0m \u001b[0mlogscore\u001b[0m\u001b[1;33m(\u001b[0m\u001b[0mself\u001b[0m\u001b[1;33m)\u001b[0m\u001b[1;33m:\u001b[0m \u001b[1;32mreturn\u001b[0m \u001b[0mself\u001b[0m\u001b[1;33m.\u001b[0m\u001b[0mtraces\u001b[0m\u001b[1;33m.\u001b[0m\u001b[0mat_distinguished\u001b[0m\u001b[1;33m(\u001b[0m\u001b[1;34m'getGlobalLogScore'\u001b[0m\u001b[1;33m)\u001b[0m\u001b[1;33m\u001b[0m\u001b[0m\n",
      "\u001b[1;32m/usr/local/lib/python2.7/dist-packages/venture/multiprocess.pyc\u001b[0m in \u001b[0;36mmap\u001b[1;34m(self, cmd, *args, **kwargs)\u001b[0m\n\u001b[0;32m    192\u001b[0m     \u001b[1;34m'''Delegate command to all workers'''\u001b[0m\u001b[1;33m\u001b[0m\u001b[0m\n\u001b[0;32m    193\u001b[0m     \u001b[1;31m# send command\u001b[0m\u001b[1;33m\u001b[0m\u001b[1;33m\u001b[0m\u001b[0m\n\u001b[1;32m--> 194\u001b[1;33m     \u001b[1;32mfor\u001b[0m \u001b[0mpipe\u001b[0m \u001b[1;32min\u001b[0m \u001b[0mself\u001b[0m\u001b[1;33m.\u001b[0m\u001b[0mpipes\u001b[0m\u001b[1;33m:\u001b[0m \u001b[0mpipe\u001b[0m\u001b[1;33m.\u001b[0m\u001b[0msend\u001b[0m\u001b[1;33m(\u001b[0m\u001b[1;33m(\u001b[0m\u001b[0mcmd\u001b[0m\u001b[1;33m,\u001b[0m \u001b[0margs\u001b[0m\u001b[1;33m,\u001b[0m \u001b[0mkwargs\u001b[0m\u001b[1;33m,\u001b[0m \u001b[0mNone\u001b[0m\u001b[1;33m)\u001b[0m\u001b[1;33m)\u001b[0m\u001b[1;33m\u001b[0m\u001b[0m\n\u001b[0m\u001b[0;32m    195\u001b[0m     \u001b[1;32mif\u001b[0m \u001b[0mcmd\u001b[0m \u001b[1;33m==\u001b[0m \u001b[1;34m'stop'\u001b[0m\u001b[1;33m:\u001b[0m \u001b[1;32mreturn\u001b[0m\u001b[1;33m\u001b[0m\u001b[0m\n\u001b[0;32m    196\u001b[0m     \u001b[0mres\u001b[0m \u001b[1;33m=\u001b[0m \u001b[1;33m[\u001b[0m\u001b[1;33m]\u001b[0m\u001b[1;33m\u001b[0m\u001b[0m\n",
      "\u001b[1;32m/usr/local/lib/python2.7/dist-packages/venture/multiprocess.pyc\u001b[0m in \u001b[0;36msend\u001b[1;34m(self, obj)\u001b[0m\n\u001b[0;32m    544\u001b[0m \u001b[1;33m\u001b[0m\u001b[0m\n\u001b[0;32m    545\u001b[0m   \u001b[1;32mdef\u001b[0m \u001b[0msend\u001b[0m\u001b[1;33m(\u001b[0m\u001b[0mself\u001b[0m\u001b[1;33m,\u001b[0m \u001b[0mobj\u001b[0m\u001b[1;33m)\u001b[0m\u001b[1;33m:\u001b[0m\u001b[1;33m\u001b[0m\u001b[0m\n\u001b[1;32m--> 546\u001b[1;33m     \u001b[0mself\u001b[0m\u001b[1;33m.\u001b[0m\u001b[0mother\u001b[0m\u001b[1;33m.\u001b[0m\u001b[0memplace\u001b[0m\u001b[1;33m(\u001b[0m\u001b[0mobj\u001b[0m\u001b[1;33m)\u001b[0m\u001b[1;33m\u001b[0m\u001b[0m\n\u001b[0m\u001b[0;32m    547\u001b[0m \u001b[1;33m\u001b[0m\u001b[0m\n\u001b[0;32m    548\u001b[0m   \u001b[1;32mdef\u001b[0m \u001b[0memplace\u001b[0m\u001b[1;33m(\u001b[0m\u001b[0mself\u001b[0m\u001b[1;33m,\u001b[0m \u001b[0mobj\u001b[0m\u001b[1;33m)\u001b[0m\u001b[1;33m:\u001b[0m\u001b[1;33m\u001b[0m\u001b[0m\n",
      "\u001b[1;32m/usr/local/lib/python2.7/dist-packages/venture/multiprocess.pyc\u001b[0m in \u001b[0;36memplace\u001b[1;34m(self, obj)\u001b[0m\n\u001b[0;32m    549\u001b[0m     \u001b[0mself\u001b[0m\u001b[1;33m.\u001b[0m\u001b[0mobjs\u001b[0m\u001b[1;33m.\u001b[0m\u001b[0mappend\u001b[0m\u001b[1;33m(\u001b[0m\u001b[0mobj\u001b[0m\u001b[1;33m)\u001b[0m\u001b[1;33m\u001b[0m\u001b[0m\n\u001b[0;32m    550\u001b[0m     \u001b[1;32mfor\u001b[0m \u001b[0mcb\u001b[0m \u001b[1;32min\u001b[0m \u001b[0mself\u001b[0m\u001b[1;33m.\u001b[0m\u001b[0mcbs\u001b[0m\u001b[1;33m:\u001b[0m\u001b[1;33m\u001b[0m\u001b[0m\n\u001b[1;32m--> 551\u001b[1;33m       \u001b[0mcb\u001b[0m\u001b[1;33m(\u001b[0m\u001b[1;33m)\u001b[0m\u001b[1;33m\u001b[0m\u001b[0m\n\u001b[0m\u001b[0;32m    552\u001b[0m \u001b[1;33m\u001b[0m\u001b[0m\n\u001b[0;32m    553\u001b[0m   \u001b[1;32mdef\u001b[0m \u001b[0mrecv\u001b[0m\u001b[1;33m(\u001b[0m\u001b[0mself\u001b[0m\u001b[1;33m)\u001b[0m\u001b[1;33m:\u001b[0m\u001b[1;33m\u001b[0m\u001b[0m\n",
      "\u001b[1;32m/usr/local/lib/python2.7/dist-packages/venture/multiprocess.pyc\u001b[0m in \u001b[0;36mpoll\u001b[1;34m(self)\u001b[0m\n\u001b[0;32m    365\u001b[0m       \u001b[0mres\u001b[0m \u001b[1;33m=\u001b[0m \u001b[0mgetattr\u001b[0m\u001b[1;33m(\u001b[0m\u001b[0mself\u001b[0m\u001b[1;33m.\u001b[0m\u001b[0mobjs\u001b[0m\u001b[1;33m[\u001b[0m\u001b[0mindex\u001b[0m\u001b[1;33m]\u001b[0m\u001b[1;33m,\u001b[0m \u001b[0mcmd\u001b[0m\u001b[1;33m)\u001b[0m\u001b[1;33m(\u001b[0m\u001b[1;33m*\u001b[0m\u001b[0margs\u001b[0m\u001b[1;33m,\u001b[0m \u001b[1;33m**\u001b[0m\u001b[0mkwargs\u001b[0m\u001b[1;33m)\u001b[0m\u001b[1;33m\u001b[0m\u001b[0m\n\u001b[0;32m    366\u001b[0m     \u001b[1;32melse\u001b[0m\u001b[1;33m:\u001b[0m\u001b[1;33m\u001b[0m\u001b[0m\n\u001b[1;32m--> 367\u001b[1;33m       \u001b[0mres\u001b[0m \u001b[1;33m=\u001b[0m \u001b[1;33m[\u001b[0m\u001b[0mgetattr\u001b[0m\u001b[1;33m(\u001b[0m\u001b[0mo\u001b[0m\u001b[1;33m,\u001b[0m \u001b[0mcmd\u001b[0m\u001b[1;33m)\u001b[0m\u001b[1;33m(\u001b[0m\u001b[1;33m*\u001b[0m\u001b[0margs\u001b[0m\u001b[1;33m,\u001b[0m \u001b[1;33m**\u001b[0m\u001b[0mkwargs\u001b[0m\u001b[1;33m)\u001b[0m \u001b[1;32mfor\u001b[0m \u001b[0mo\u001b[0m \u001b[1;32min\u001b[0m \u001b[0mself\u001b[0m\u001b[1;33m.\u001b[0m\u001b[0mobjs\u001b[0m\u001b[1;33m]\u001b[0m\u001b[1;33m\u001b[0m\u001b[0m\n\u001b[0m\u001b[0;32m    368\u001b[0m     \u001b[0mself\u001b[0m\u001b[1;33m.\u001b[0m\u001b[0mpipe\u001b[0m\u001b[1;33m.\u001b[0m\u001b[0msend\u001b[0m\u001b[1;33m(\u001b[0m\u001b[0mres\u001b[0m\u001b[1;33m)\u001b[0m\u001b[1;33m\u001b[0m\u001b[0m\n\u001b[0;32m    369\u001b[0m     \u001b[1;32mreturn\u001b[0m \u001b[0mFalse\u001b[0m \u001b[1;31m# Maybe not done\u001b[0m\u001b[1;33m\u001b[0m\u001b[0m\n",
      "\u001b[1;32m/usr/local/lib/python2.7/dist-packages/venture/multiprocess.pyc\u001b[0m in \u001b[0;36mwrapped\u001b[1;34m(*args, **kwargs)\u001b[0m\n\u001b[0;32m    102\u001b[0m   \u001b[1;32mdef\u001b[0m \u001b[0mwrapped\u001b[0m\u001b[1;33m(\u001b[0m\u001b[1;33m*\u001b[0m\u001b[0margs\u001b[0m\u001b[1;33m,\u001b[0m \u001b[1;33m**\u001b[0m\u001b[0mkwargs\u001b[0m\u001b[1;33m)\u001b[0m\u001b[1;33m:\u001b[0m\u001b[1;33m\u001b[0m\u001b[0m\n\u001b[0;32m    103\u001b[0m     \u001b[1;32mtry\u001b[0m\u001b[1;33m:\u001b[0m\u001b[1;33m\u001b[0m\u001b[0m\n\u001b[1;32m--> 104\u001b[1;33m       \u001b[0mres\u001b[0m \u001b[1;33m=\u001b[0m \u001b[0mf\u001b[0m\u001b[1;33m(\u001b[0m\u001b[1;33m*\u001b[0m\u001b[0margs\u001b[0m\u001b[1;33m,\u001b[0m \u001b[1;33m**\u001b[0m\u001b[0mkwargs\u001b[0m\u001b[1;33m)\u001b[0m\u001b[1;33m\u001b[0m\u001b[0m\n\u001b[0m\u001b[0;32m    105\u001b[0m     \u001b[1;32mexcept\u001b[0m \u001b[0mException\u001b[0m\u001b[1;33m:\u001b[0m\u001b[1;33m\u001b[0m\u001b[0m\n\u001b[0;32m    106\u001b[0m       \u001b[1;31m# If I return the traceback object and try to format it\u001b[0m\u001b[1;33m\u001b[0m\u001b[1;33m\u001b[0m\u001b[0m\n",
      "\u001b[1;32m/usr/local/lib/python2.7/dist-packages/venture/multiprocess.pyc\u001b[0m in \u001b[0;36m<lambda>\u001b[1;34m(*args, **kwargs)\u001b[0m\n\u001b[0;32m    337\u001b[0m     \u001b[1;31m# @safely doesn't work as a decorator here; do it this way.\u001b[0m\u001b[1;33m\u001b[0m\u001b[1;33m\u001b[0m\u001b[0m\n\u001b[0;32m    338\u001b[0m     \u001b[1;31m# eta expand b/c getattr might fail pylint:disable=W0108\u001b[0m\u001b[1;33m\u001b[0m\u001b[1;33m\u001b[0m\u001b[0m\n\u001b[1;32m--> 339\u001b[1;33m     \u001b[1;32mreturn\u001b[0m \u001b[0msafely\u001b[0m\u001b[1;33m(\u001b[0m\u001b[1;32mlambda\u001b[0m \u001b[1;33m*\u001b[0m\u001b[0margs\u001b[0m\u001b[1;33m,\u001b[0m\u001b[1;33m**\u001b[0m\u001b[0mkwargs\u001b[0m\u001b[1;33m:\u001b[0m \u001b[0mgetattr\u001b[0m\u001b[1;33m(\u001b[0m\u001b[0mself\u001b[0m\u001b[1;33m.\u001b[0m\u001b[0mobj\u001b[0m\u001b[1;33m,\u001b[0m \u001b[0mattrname\u001b[0m\u001b[1;33m)\u001b[0m\u001b[1;33m(\u001b[0m\u001b[1;33m*\u001b[0m\u001b[0margs\u001b[0m\u001b[1;33m,\u001b[0m \u001b[1;33m**\u001b[0m\u001b[0mkwargs\u001b[0m\u001b[1;33m)\u001b[0m\u001b[1;33m)\u001b[0m\u001b[1;33m\u001b[0m\u001b[0m\n\u001b[0m\u001b[0;32m    340\u001b[0m \u001b[1;33m\u001b[0m\u001b[0m\n\u001b[0;32m    341\u001b[0m \u001b[1;33m\u001b[0m\u001b[0m\n",
      "\u001b[1;32m/usr/local/lib/python2.7/dist-packages/venture/puma/trace.pyc\u001b[0m in \u001b[0;36mprimitive_infer\u001b[1;34m(self, exp)\u001b[0m\n\u001b[0;32m     94\u001b[0m \u001b[1;33m\u001b[0m\u001b[0m\n\u001b[0;32m     95\u001b[0m   \u001b[1;32mdef\u001b[0m \u001b[0mprimitive_infer\u001b[0m\u001b[1;33m(\u001b[0m\u001b[0mself\u001b[0m\u001b[1;33m,\u001b[0m \u001b[0mexp\u001b[0m\u001b[1;33m)\u001b[0m\u001b[1;33m:\u001b[0m\u001b[1;33m\u001b[0m\u001b[0m\n\u001b[1;32m---> 96\u001b[1;33m     \u001b[0mself\u001b[0m\u001b[1;33m.\u001b[0m\u001b[0mtrace\u001b[0m\u001b[1;33m.\u001b[0m\u001b[0mprimitive_infer\u001b[0m\u001b[1;33m(\u001b[0m\u001b[0m_expToDict\u001b[0m\u001b[1;33m(\u001b[0m\u001b[0mexp\u001b[0m\u001b[1;33m)\u001b[0m\u001b[1;33m)\u001b[0m\u001b[1;33m\u001b[0m\u001b[0m\n\u001b[0m\u001b[0;32m     97\u001b[0m \u001b[1;33m\u001b[0m\u001b[0m\n\u001b[0;32m     98\u001b[0m   \u001b[1;32mdef\u001b[0m \u001b[0mlikelihood_at\u001b[0m\u001b[1;33m(\u001b[0m\u001b[0mself\u001b[0m\u001b[1;33m,\u001b[0m \u001b[0mscope\u001b[0m\u001b[1;33m,\u001b[0m \u001b[0mblock\u001b[0m\u001b[1;33m)\u001b[0m\u001b[1;33m:\u001b[0m\u001b[1;33m\u001b[0m\u001b[0m\n",
      "\u001b[1;31mKeyboardInterrupt\u001b[0m: "
     ]
    }
   ],
   "source": [
    "# Sample cluster assignments - make a list of all the assignments for each sample\n",
    "\n",
    "samples = list()\n",
    "\n",
    "for _ in range(1000):\n",
    "\n",
    "    v.infer(10000)\n",
    "    \n",
    "    cluster_memberships = v.sample('(list ' + ' '.join('(cluster_membership %d)' % index\n",
    "                                                   for index in range(len(X))) + ')')\n",
    "\n",
    "    cluster_numbers = np.unique(cluster_memberships)\n",
    "\n",
    "    canonical_cluster_memberships = np.zeros(len(cluster_memberships))\n",
    "    \n",
    "    for i, value in enumerate(cluster_numbers):\n",
    "        canonical_cluster_memberships[cluster_memberships==value] = i\n",
    "    \n",
    "    cluster_memberships = canonical_cluster_memberships\n",
    "\n",
    "    \n",
    "    samples.append(cluster_memberships)\n",
    "    \n",
    "samples = np.array(samples)\n",
    "\n",
    "# print(samples)\n",
    "\n",
    "# print(samples.shape) # check to see whether array is correct shape\n",
    "\n",
    "cluster_labels = np.unique(samples)\n",
    "\n",
    "co_occurrence_matrix = np.zeros((samples.shape[1], samples.shape[1]))\n",
    "\n",
    "for label in cluster_labels:\n",
    "    co_occurrence_matrix += np.dot((samples.T == label) * 1, (samples == label) * 1)\n",
    "    \n",
    "\n",
    "# Reshape co-occurence_matrix by linkage\n",
    "reshaped = sch.linkage(co_occurrence_matrix)\n",
    "    \n",
    "# print(co_occurrence_matrix)\n",
    "# print(co_occurrence_matrix.shape)\n",
    "\n",
    "# plt.clf()\n",
    "# fig, ax = plt.subplots(figsize=(10, 10), dpi=100)\n",
    "\n",
    "# ax.imshow(co_occurrence_matrix, interpolation='nearest') #interpolation changes fuzzyness. try 'none' or 'nearest'\n",
    "# plt.show()"
   ]
  },
  {
   "cell_type": "code",
   "execution_count": 68,
   "metadata": {
    "collapsed": false,
    "scrolled": true
   },
   "outputs": [
    {
     "data": {
      "text/plain": [
       "<matplotlib.figure.Figure at 0x7fecefdb1dd0>"
      ]
     },
     "metadata": {},
     "output_type": "display_data"
    },
    {
     "data": {
      "image/png": "[encoded data removed]",
      "text/plain": [
       "<matplotlib.figure.Figure at 0x7fecef6e9d10>"
      ]
     },
     "metadata": {},
     "output_type": "display_data"
    }
   ],
   "source": [
    "co_occurrence_matrix = np.divide(co_occurrence_matrix, 10)\n",
    "\n",
    "# Reshape co-occurence_matrix by linkage\n",
    "linkage = sch.linkage(co_occurrence_matrix)\n",
    "dendrogram_right = sch.dendrogram(linkage, orientation='right')\n",
    "dendrogram = sch.dendrogram(linkage)\n",
    "idx1 = dendrogram_right['leaves']\n",
    "idx2 = dendrogram['leaves']\n",
    "co_occurrence_matrix = co_occurrence_matrix[idx1,:]\n",
    "co_occurrence_matrix = co_occurrence_matrix[:,idx2]\n",
    "\n",
    "# Co-occurrence matrix figure\n",
    "\n",
    "plt.clf()\n",
    "fig, ax = plt.subplots(figsize=(10, 10), dpi=100)\n",
    "map=ax.imshow(co_occurrence_matrix, interpolation='nearest')\n",
    "plt.colorbar(map)\n",
    "plt.savefig('co-occurrence.pdf') # this line has to come before plt.show\n",
    "plt.show()\n",
    "\n",
    "# print(reshaped)\n",
    "# reshaped.shape\n",
    "\n",
    "# plt.clf()\n",
    "# fig, ax = plt.subplots(figsize=(10, 10), dpi=100)\n",
    "# ax.imshow(reshaped, interpolation='nearest') \n",
    "# plt.savefig('co-occurrence.pdf') # this line has to come before plt.show\n",
    "# plt.show()\n"
   ]
  },
  {
   "cell_type": "code",
   "execution_count": null,
   "metadata": {
    "collapsed": true
   },
   "outputs": [],
   "source": []
  },
  {
   "cell_type": "code",
   "execution_count": null,
   "metadata": {
    "collapsed": true
   },
   "outputs": [],
   "source": []
  }
 ],
 "metadata": {
  "kernelspec": {
   "display_name": "Python 2",
   "language": "python",
   "name": "python2"
  },
  "language_info": {
   "codemirror_mode": {
    "name": "ipython",
    "version": 2
   },
   "file_extension": ".py",
   "mimetype": "text/x-python",
   "name": "python",
   "nbconvert_exporter": "python",
   "pygments_lexer": "ipython2",
   "version": "2.7.6"
  }
 },
 "nbformat": 4,
 "nbformat_minor": 0
}
