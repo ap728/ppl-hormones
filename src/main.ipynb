{
 "cells": [
  {
   "cell_type": "code",
   "execution_count": 111,
   "metadata": {
    "collapsed": false
   },
   "outputs": [],
   "source": [
    "# Setup\n",
    "import matplotlib\n",
    "import numpy as np\n",
    "import scipy as sp\n",
    "import scipy.cluster.hierarchy as sch\n",
    "import matplotlib.pyplot as plt\n",
    "import pandas as pd\n",
    "import ggplot\n",
    "%matplotlib inline"
   ]
  },
  {
   "cell_type": "code",
   "execution_count": 112,
   "metadata": {
    "collapsed": true
   },
   "outputs": [],
   "source": [
    "# Start an inference server\n",
    "\n",
    "from venture.shortcuts import *\n",
    "v = make_church_prime_ripl()\n",
    "# x = Puma().make_church_prime_ripl()"
   ]
  },
  {
   "cell_type": "code",
   "execution_count": 113,
   "metadata": {
    "collapsed": false
   },
   "outputs": [],
   "source": [
    "# Forget everything\n",
    "\n",
    "v.clear()"
   ]
  },
  {
   "cell_type": "code",
   "execution_count": 114,
   "metadata": {
    "collapsed": false
   },
   "outputs": [],
   "source": [
    "# # Specify model 1\n",
    "\n",
    "# v.assume(\"offset_1\", \"(uniform_continuous -1 1)\")\n",
    "# v.assume(\"offset_2\", \"(uniform_continuous -1 1)\")\n",
    "# v.assume(\"linear\", \"(flip 0.5)\")\n",
    "# v.assume(\"beta_1\", \"(if linear (uniform_continuous -1 1) 0)\")\n",
    "# v.assume(\"quadratic\", \"(flip 0.5)\")\n",
    "# v.assume(\"beta_2\", \"(if quadratic (uniform_continuous -1 1) 0)\")\n",
    "# v.assume(\"noise_sd\", \"(exp (normal 0 2))\")\n",
    "\n",
    "# v.assume(\"f_1\", \"(lambda (x) (+ offset_1 (* beta_1 x) (* beta_2 x x)))\")\n",
    "# v.assume(\"f_2\", \"(lambda (x) (+ offset_2 (* beta_1 x) (* beta_2 x x)))\")\n",
    "\n",
    "# v.assume(\"cluster_membership\", \"(mem (lambda (index) (if (flip) 1 2)))\")\n",
    "\n",
    "# v.assume(\"f\", \"(lambda (x index) (if (eq (cluster_membership index) 1) (f_1 x) (f_2 x)))\")"
   ]
  },
  {
   "cell_type": "code",
   "execution_count": 115,
   "metadata": {
    "collapsed": false
   },
   "outputs": [
    {
     "data": {
      "text/plain": [
       "'<procedure>'"
      ]
     },
     "execution_count": 115,
     "metadata": {},
     "output_type": "execute_result"
    }
   ],
   "source": [
    "# Specify model 2\n",
    "\n",
    "# v.assume(\"cluster_membership_crp\", \"(make_sym_dir_mult 1 2)\")\n",
    "v.assume(\"cluster_membership_crp\", \"(make_crp 0.3)\")\n",
    "v.assume(\"cluster_membership\", \"(mem (lambda (index) (cluster_membership_crp)))\")\n",
    "# v.assume(\"cluster_membership\", \"(mem (lambda (index) (if (flip) 0 1)))\")\n",
    "\n",
    "v.assume(\"offset\", \"(mem (lambda (cluster_index) (uniform_continuous -20 50)))\")\n",
    "v.assume(\"beta\", \"(normal 4.3635 3.4178)\")\n",
    "v.assume(\"noise_sd\", \"(+ 0.1 (exp (normal 0 2)))\")\n",
    "\n",
    "v.assume(\"f\", \"(lambda (x index) (+ (offset (cluster_membership index)) (* beta x)))\")"
   ]
  },
  {
   "cell_type": "code",
   "execution_count": 116,
   "metadata": {
    "collapsed": false
   },
   "outputs": [
    {
     "data": {
      "text/plain": [
       "1"
      ]
     },
     "execution_count": 116,
     "metadata": {},
     "output_type": "execute_result"
    }
   ],
   "source": [
    "v.sample('(cluster_membership 0)')"
   ]
  },
  {
   "cell_type": "code",
   "execution_count": 117,
   "metadata": {
    "collapsed": false
   },
   "outputs": [],
   "source": [
    "# Start inference\n",
    "\n",
    "# v.start_continuous_inference()"
   ]
  },
  {
   "cell_type": "code",
   "execution_count": 118,
   "metadata": {
    "collapsed": false
   },
   "outputs": [],
   "source": [
    "# Create data\n",
    "\n",
    "X_1 = np.random.gamma(1, 1, 20)\n",
    "Y_1 = -0.2 + 0.5 * X_1 + 0.0 * X_1 * X_1\n",
    "Y_1 += 0.1 * np.random.randn(*X_1.shape)\n",
    "\n",
    "X_2 = np.random.gamma(1, 1, 10)\n",
    "Y_2 = +0.2 + 0.5 * X_2\n",
    "Y_2 += 0.1 * np.random.randn(*X_2.shape)\n",
    "\n",
    "X_3 = np.random.gamma(1, 1, 25)\n",
    "Y_3 = +0.7 + 0.5 * X_3\n",
    "Y_3 += 0.1 * np.random.randn(*X_3.shape)\n",
    "\n",
    "X = np.concatenate((X_1, X_2, X_3))\n",
    "Y = np.concatenate((Y_1, Y_2, Y_3))"
   ]
  },
  {
   "cell_type": "code",
   "execution_count": 119,
   "metadata": {
    "collapsed": false
   },
   "outputs": [],
   "source": [
    "# Read in CSV data\n",
    "\n",
    "mydata = pd.read_csv(\"for_python.csv\", header=0) #python starts counting at zero\n",
    "X = mydata['mynewdata.FAI']\n",
    "Y = mydata['mynewdata.AQ']\n"
   ]
  },
  {
   "cell_type": "code",
   "execution_count": 120,
   "metadata": {
    "collapsed": false
   },
   "outputs": [],
   "source": [
    "# Observe data\n",
    "\n",
    "for index, (x, y) in enumerate(zip(X, Y)):\n",
    "    v.observe(\"(normal (f %f %d) noise_sd)\" % (x, index), y)\n",
    "    index += 1"
   ]
  },
  {
   "cell_type": "code",
   "execution_count": 121,
   "metadata": {
    "collapsed": false
   },
   "outputs": [],
   "source": [
    "# v.sample(\"(cluster_membership 0)\")"
   ]
  },
  {
   "cell_type": "code",
   "execution_count": null,
   "metadata": {
    "collapsed": true
   },
   "outputs": [],
   "source": []
  },
  {
   "cell_type": "code",
   "execution_count": 122,
   "metadata": {
    "collapsed": false
   },
   "outputs": [
    {
     "data": {
      "image/png": "[encoded data removed]",
      "text/plain": [
       "<matplotlib.figure.Figure at 0x7f11dc178f90>"
      ]
     },
     "metadata": {},
     "output_type": "display_data"
    }
   ],
   "source": [
    "# Sample the parameters and draw a picture\n",
    "\n",
    "# Only necessary if not running continuous inference\n",
    "v.infer(5000)\n",
    "\n",
    "# sample = v.sample(\"(list offset_1 offset_2 beta_1 beta_2 noise_sd)\")\n",
    "# offset_1 = sample[0]\n",
    "# offset_2 = sample[1]\n",
    "# beta_1 = sample[2]\n",
    "# beta_2 = sample[3]\n",
    "# noise_sd = sample[4]\n",
    "\n",
    "# beta = v.sample(\"beta_1\")\n",
    "# offset_1 = v.sample(\"(offset 0)\")\n",
    "# offset_2 = v.sample(\"(offset 1)\")\n",
    "\n",
    "fig, ax = plt.subplots(figsize=(16, 10))\n",
    "plt.clf()\n",
    "\n",
    "cluster_memberships = v.sample('(list ' + ' '.join('(cluster_membership %d)' % index\n",
    "                                                   for index in range(len(X))) + ')')\n",
    "cluster_numbers = np.unique(cluster_memberships)\n",
    "canonical_cluster_memberships = np.zeros(len(cluster_memberships))\n",
    "for i, value in enumerate(cluster_numbers):\n",
    "    canonical_cluster_memberships[cluster_memberships==value] = i\n",
    "cluster_memberships = canonical_cluster_memberships\n",
    "\n",
    "for (cluster_index, x, y) in zip(cluster_memberships, X, Y):\n",
    "#     cluster_index = v.sample(\"(cluster_membership %d)\" % index)\n",
    "#     y_hat = v.sample(\"(f (0 0))\")# % (x, index))\n",
    "#     print(cluster_index)\n",
    "    if cluster_index == 0:\n",
    "        color = 'b'\n",
    "    elif cluster_index == 1:\n",
    "        color = 'r'\n",
    "    elif cluster_index == 2:\n",
    "        color = 'm'\n",
    "    elif cluster_index == 3:\n",
    "        color = 'c'\n",
    "    else:\n",
    "        color = 'k'\n",
    "    plt.scatter(x, y, color=color, s=50)\n",
    "\n",
    "# plt.scatter(X, Y, color='r', s=50)\n",
    "# plt.scatter(X_2, Y_2, color='b', s=50)\n",
    "# plot_x = np.linspace(min(X), max(X), 100)\n",
    "# # plt.plot(plot_x, offset_1 + beta * plot_x, ls='-', color='g', lw=5)\n",
    "# # plt.plot(plot_x, offset_2 + beta * plot_x, ls='-', color='g', lw=5)\n",
    "\n",
    "# plt.show()"
   ]
  },
  {
   "cell_type": "code",
   "execution_count": 123,
   "metadata": {
    "collapsed": false
   },
   "outputs": [
    {
     "data": {
      "text/plain": [
       "array([ 0.,  0.,  0.,  0.,  0.,  0.,  1.,  1.,  0.,  0.,  0.,  0.,  1.,\n",
       "        1.,  1.,  1.,  1.,  1.,  0.,  0.,  1.,  1.,  0.,  1.,  1.,  1.,\n",
       "        1.,  1.,  3.,  2.,  0.,  1.,  1.,  1.,  1.,  0.,  0.,  0.,  0.,\n",
       "        1.,  0.,  3.,  1.,  1.,  0.,  2.])"
      ]
     },
     "execution_count": 123,
     "metadata": {},
     "output_type": "execute_result"
    }
   ],
   "source": [
    "cluster_memberships"
   ]
  },
  {
   "cell_type": "code",
   "execution_count": 124,
   "metadata": {
    "collapsed": false
   },
   "outputs": [],
   "source": [
    "# # Sample in a loop to get distribution\n",
    "\n",
    "# samples = list()\n",
    "\n",
    "# for i in range(100):\n",
    "    \n",
    "# #     print(i)\n",
    "    \n",
    "#     v.infer(50)\n",
    "\n",
    "#     sample = v.sample(\"(list offset beta_1 beta_2 noise_sd linear quadratic)\")\n",
    "#     offset = sample[0]\n",
    "#     beta_1 = sample[1]\n",
    "#     beta_2 = sample[2]\n",
    "#     noise_sd = sample[3]\n",
    "#     linear = sample[4]\n",
    "#     quadratic = sample[5]\n",
    "    \n",
    "#     samples.append(linear)\n",
    "    \n",
    "# fig, ax = plt.subplots(figsize=(16, 10))\n",
    "# plt.clf()\n",
    "\n",
    "# plt.hist(samples)\n",
    "\n",
    "# plt.show()"
   ]
  },
  {
   "cell_type": "code",
   "execution_count": null,
   "metadata": {
    "collapsed": true
   },
   "outputs": [],
   "source": [
    "# Stop inference\n",
    "\n",
    "# v.stop_continuous_inference()"
   ]
  },
  {
   "cell_type": "code",
   "execution_count": null,
   "metadata": {
    "collapsed": false,
    "scrolled": true
   },
   "outputs": [],
   "source": [
    "# Sample the parameters and draw a picture\n",
    "\n",
    "samples = list()\n",
    "\n",
    "for _ in range(1000):\n",
    "\n",
    "    v.infer(10000)\n",
    "\n",
    "    cluster_memberships = v.sample('(list ' + ' '.join('(cluster_membership %d)' % index\n",
    "                                                       for index in range(len(X))) + ')')\n",
    "    cluster_numbers = np.unique(cluster_memberships)\n",
    "    \n",
    "    samples.append(len(cluster_numbers))\n",
    "    \n",
    "    \n",
    "fig, ax = plt.subplots(figsize=(16, 10))\n",
    "plt.clf()\n",
    "\n",
    "plt.hist(samples, bins=[0,1,2,3,4,5]) # Pyplot does dumb things with bins when left alone.\n",
    "\n",
    "plt.show()"
   ]
  },
  {
   "cell_type": "code",
   "execution_count": null,
   "metadata": {
    "collapsed": false
   },
   "outputs": [],
   "source": [
    "# ggplot\n",
    "# Relies on list of samples generated from for loop above\n",
    "\n",
    "df = pd.DataFrame(samples,  columns=['cluster_num_count'])\n",
    "\n",
    "# subtract 0.5 from all values to center\n",
    "df['cluster_num_count'] = df['cluster_num_count']-0.5\n",
    "\n",
    "p = ggplot.ggplot(ggplot.aes(x='cluster_num_count'), data=df)\n",
    "p = (p + ggplot.geom_histogram(binwidth=1, fill='#CC79A7') + ggplot.theme_matplotlib() + ggplot.xlim(0,(max(df['cluster_num_count'])+1)) + \n",
    "ggplot.scale_x_continuous(breaks = range(1,10)) + ggplot.xlab(\"Number of clusters\") + ggplot.ylab(\"Count\"))\n",
    "\n",
    "\n",
    "\n",
    "# ggplot.ggsave(p, \"cluster_num_hist.pdf\")\n",
    "print(p)"
   ]
  },
  {
   "cell_type": "code",
   "execution_count": null,
   "metadata": {
    "collapsed": false
   },
   "outputs": [],
   "source": [
    "# Sample the parameters and draw a picture\n",
    "\n",
    "samples = list()\n",
    "\n",
    "for _ in range(1000):\n",
    "\n",
    "    v.infer(10000)\n",
    "    \n",
    "    param_beta = v.sample('beta')\n",
    "\n",
    "    samples.append(param_beta)\n",
    "    \n",
    "fig, ax = plt.subplots(figsize=(16, 10))\n",
    "plt.clf()\n",
    "\n",
    "plt.hist(samples, bins=20)\n",
    "\n",
    "plt.show()"
   ]
  },
  {
   "cell_type": "code",
   "execution_count": null,
   "metadata": {
    "collapsed": false
   },
   "outputs": [],
   "source": [
    "# ggplot\n",
    "# Relies on list of samples generated from for loop above\n",
    "\n",
    "df = pd.DataFrame(samples,  columns=['Beta_posterior'])\n",
    "\n",
    "\n",
    "p = ggplot.ggplot(ggplot.aes(x='Beta_posterior'), data=df)\n",
    "p = (p + ggplot.geom_histogram(fill='#0072B2') + ggplot.theme_matplotlib() + \n",
    "ggplot.xlab(\"Beta posterior distribution\") + ggplot.ylab(\"Count\"))\n",
    "\n",
    "\n",
    "\n",
    "ggplot.ggsave(p, \"beta_posterior_hist.pdf\")\n",
    "print(p)"
   ]
  },
  {
   "cell_type": "code",
   "execution_count": null,
   "metadata": {
    "collapsed": false
   },
   "outputs": [],
   "source": [
    "# Sample 95% credible interval for beta values\n",
    "a = np.percentile(samples, 2.5)\n",
    "b = np.percentile(samples, 97.5)\n",
    "print(a,b)"
   ]
  },
  {
   "cell_type": "code",
   "execution_count": null,
   "metadata": {
    "collapsed": false
   },
   "outputs": [],
   "source": [
    "# Sample cluster assignments - make a list of all the assignments for each sample\n",
    "\n",
    "samples = list()\n",
    "\n",
    "for _ in range(1000):\n",
    "\n",
    "    v.infer(10000)\n",
    "    \n",
    "    cluster_memberships = v.sample('(list ' + ' '.join('(cluster_membership %d)' % index\n",
    "                                                   for index in range(len(X))) + ')')\n",
    "\n",
    "    cluster_numbers = np.unique(cluster_memberships)\n",
    "\n",
    "    canonical_cluster_memberships = np.zeros(len(cluster_memberships))\n",
    "    \n",
    "    for i, value in enumerate(cluster_numbers):\n",
    "        canonical_cluster_memberships[cluster_memberships==value] = i\n",
    "    \n",
    "    cluster_memberships = canonical_cluster_memberships\n",
    "\n",
    "    \n",
    "    samples.append(cluster_memberships)\n",
    "    \n",
    "samples = np.array(samples)\n",
    "\n",
    "# print(samples)\n",
    "\n",
    "# print(samples.shape) # check to see whether array is correct shape\n",
    "\n",
    "cluster_labels = np.unique(samples)\n",
    "\n",
    "co_occurrence_matrix = np.zeros((samples.shape[1], samples.shape[1]))\n",
    "\n",
    "for label in cluster_labels:\n",
    "    co_occurrence_matrix += np.dot((samples.T == label) * 1, (samples == label) * 1)\n",
    "    \n",
    "\n",
    "# Reshape co-occurence_matrix by linkage\n",
    "reshaped = sch.linkage(co_occurrence_matrix)\n",
    "    \n",
    "# print(co_occurrence_matrix)\n",
    "# print(co_occurrence_matrix.shape)\n",
    "\n",
    "# plt.clf()\n",
    "# fig, ax = plt.subplots(figsize=(10, 10), dpi=100)\n",
    "\n",
    "# ax.imshow(co_occurrence_matrix, interpolation='nearest') #interpolation changes fuzzyness. try 'none' or 'nearest'\n",
    "# plt.show()"
   ]
  },
  {
   "cell_type": "code",
   "execution_count": null,
   "metadata": {
    "collapsed": false
   },
   "outputs": [],
   "source": [
    "co_occurrence_matrix = np.divide(co_occurrence_matrix, 10000)\n",
    "\n",
    "# Reshape co-occurence_matrix by linkage\n",
    "linkage = sch.linkage(co_occurrence_matrix)\n",
    "dendrogram_right = sch.dendrogram(linkage, orientation='right')\n",
    "dendrogram = sch.dendrogram(linkage)\n",
    "idx1 = dendrogram_right['leaves']\n",
    "idx2 = dendrogram['leaves']\n",
    "co_occurrence_matrix = co_occurrence_matrix[idx1,:]\n",
    "co_occurrence_matrix = co_occurrence_matrix[:,idx2]\n",
    "\n",
    "# Co-occurrence matrix figure\n",
    "\n",
    "plt.clf()\n",
    "fig, ax = plt.subplots(figsize=(10, 10), dpi=100)\n",
    "map=ax.imshow(co_occurrence_matrix, interpolation='nearest')\n",
    "plt.colorbar(map)\n",
    "plt.savefig('co-occurrence.pdf') # this line has to come before plt.show\n",
    "plt.show()\n",
    "\n",
    "# print(reshaped)\n",
    "# reshaped.shape\n",
    "\n",
    "# plt.clf()\n",
    "# fig, ax = plt.subplots(figsize=(10, 10), dpi=100)\n",
    "# ax.imshow(reshaped, interpolation='nearest') \n",
    "# plt.savefig('co-occurrence.pdf') # this line has to come before plt.show\n",
    "# plt.show()\n"
   ]
  },
  {
   "cell_type": "code",
   "execution_count": null,
   "metadata": {
    "collapsed": true
   },
   "outputs": [],
   "source": []
  },
  {
   "cell_type": "code",
   "execution_count": null,
   "metadata": {
    "collapsed": true
   },
   "outputs": [],
   "source": []
  }
 ],
 "metadata": {
  "kernelspec": {
   "display_name": "Python 2",
   "language": "python",
   "name": "python2"
  },
  "language_info": {
   "codemirror_mode": {
    "name": "ipython",
    "version": 2
   },
   "file_extension": ".py",
   "mimetype": "text/x-python",
   "name": "python",
   "nbconvert_exporter": "python",
   "pygments_lexer": "ipython2",
   "version": "2.7.6"
  }
 },
 "nbformat": 4,
 "nbformat_minor": 0
}
