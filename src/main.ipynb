{
 "cells": [
  {
   "cell_type": "code",
   "execution_count": 53,
   "metadata": {
    "collapsed": false
   },
   "outputs": [],
   "source": [
    "# Setup\n",
    "import matplotlib\n",
    "import numpy as np\n",
    "import scipy as sp\n",
    "import scipy.cluster.hierarchy as sch\n",
    "import matplotlib.pyplot as plt\n",
    "import pandas as pd\n",
    "import ggplot\n",
    "%matplotlib inline"
   ]
  },
  {
   "cell_type": "code",
   "execution_count": 54,
   "metadata": {
    "collapsed": true
   },
   "outputs": [],
   "source": [
    "# Start an inference server\n",
    "\n",
    "from venture.shortcuts import *\n",
    "v = make_church_prime_ripl()\n",
    "# x = Puma().make_church_prime_ripl()"
   ]
  },
  {
   "cell_type": "code",
   "execution_count": 55,
   "metadata": {
    "collapsed": false
   },
   "outputs": [],
   "source": [
    "# Forget everything\n",
    "\n",
    "v.clear()"
   ]
  },
  {
   "cell_type": "code",
   "execution_count": 56,
   "metadata": {
    "collapsed": true
   },
   "outputs": [],
   "source": [
    "# Define a function for computing the HDI\n",
    "\n",
    "def HDI_from_MCMC(posterior_samples, credible_mass):\n",
    "    # Computes highest density interval from a sample of representative values,\n",
    "    # estimated as the shortest credible interval\n",
    "    # Takes Arguments posterior_samples (samples from posterior) and credible mass (normally .95)\n",
    "    sorted_points = sorted(posterior_samples)\n",
    "    ciIdxInc = np.ceil(credible_mass * len(sorted_points)).astype('int')\n",
    "    nCIs = len(sorted_points) - ciIdxInc\n",
    "    ciWidth = [0]*nCIs\n",
    "    for i in range(0, nCIs):\n",
    "        ciWidth[i] = sorted_points[i + ciIdxInc] - sorted_points[i]\n",
    "    HDImin = sorted_points[ciWidth.index(min(ciWidth))]\n",
    "    HDImax = sorted_points[ciWidth.index(min(ciWidth))+ciIdxInc]\n",
    "    return(HDImin, HDImax)\n"
   ]
  },
  {
   "cell_type": "code",
   "execution_count": 57,
   "metadata": {
    "collapsed": false
   },
   "outputs": [],
   "source": [
    "# # Specify model 1\n",
    "\n",
    "# v.assume(\"offset_1\", \"(uniform_continuous -1 1)\")\n",
    "# v.assume(\"offset_2\", \"(uniform_continuous -1 1)\")\n",
    "# v.assume(\"linear\", \"(flip 0.5)\")\n",
    "# v.assume(\"beta_1\", \"(if linear (uniform_continuous -1 1) 0)\")\n",
    "# v.assume(\"quadratic\", \"(flip 0.5)\")\n",
    "# v.assume(\"beta_2\", \"(if quadratic (uniform_continuous -1 1) 0)\")\n",
    "# v.assume(\"noise_sd\", \"(exp (normal 0 2))\")\n",
    "\n",
    "# v.assume(\"f_1\", \"(lambda (x) (+ offset_1 (* beta_1 x) (* beta_2 x x)))\")\n",
    "# v.assume(\"f_2\", \"(lambda (x) (+ offset_2 (* beta_1 x) (* beta_2 x x)))\")\n",
    "\n",
    "# v.assume(\"cluster_membership\", \"(mem (lambda (index) (if (flip) 1 2)))\")\n",
    "\n",
    "# v.assume(\"f\", \"(lambda (x index) (if (eq (cluster_membership index) 1) (f_1 x) (f_2 x)))\")"
   ]
  },
  {
   "cell_type": "code",
   "execution_count": 58,
   "metadata": {
    "collapsed": false
   },
   "outputs": [
    {
     "data": {
      "text/plain": [
       "'<procedure>'"
      ]
     },
     "execution_count": 58,
     "metadata": {},
     "output_type": "execute_result"
    }
   ],
   "source": [
    "# Specify model 2\n",
    "\n",
    "# v.assume(\"cluster_membership_crp\", \"(make_sym_dir_mult 1 2)\")\n",
    "v.assume(\"cluster_membership_crp\", \"(make_crp 0.3)\")\n",
    "v.assume(\"cluster_membership\", \"(mem (lambda (index) (cluster_membership_crp)))\")\n",
    "# v.assume(\"cluster_membership\", \"(mem (lambda (index) (if (flip) 0 1)))\")\n",
    "\n",
    "v.assume(\"offset\", \"(mem (lambda (cluster_index) (uniform_continuous -20 50)))\")\n",
    "v.assume(\"beta\", \"(normal 1.5 5)\")\n",
    "v.assume(\"noise_sd\", \"(+ 0.1 (exp (normal 0 2)))\")\n",
    "\n",
    "v.assume(\"f\", \"(lambda (x index) (+ (offset (cluster_membership index)) (* beta x)))\")"
   ]
  },
  {
   "cell_type": "code",
   "execution_count": 59,
   "metadata": {
    "collapsed": false
   },
   "outputs": [
    {
     "data": {
      "text/plain": [
       "1"
      ]
     },
     "execution_count": 59,
     "metadata": {},
     "output_type": "execute_result"
    }
   ],
   "source": [
    "v.sample('(cluster_membership 0)')"
   ]
  },
  {
   "cell_type": "code",
   "execution_count": 60,
   "metadata": {
    "collapsed": false
   },
   "outputs": [],
   "source": [
    "# Start inference\n",
    "\n",
    "# v.start_continuous_inference()"
   ]
  },
  {
   "cell_type": "code",
   "execution_count": 61,
   "metadata": {
    "collapsed": false
   },
   "outputs": [],
   "source": [
    "# Create data\n",
    "\n",
    "# X_1 = np.random.gamma(1, 1, 20)\n",
    "# Y_1 = -0.4 + 0.5 * X_1 + 0.0 * X_1 * X_1\n",
    "# Y_1 += 0.5 * np.random.randn(*X_1.shape)\n",
    "\n",
    "# X_2 = np.random.gamma(1, 1, 10)\n",
    "# Y_2 = +3 + 0.5 * X_2\n",
    "# Y_2 += 0.5 * np.random.randn(*X_2.shape)\n",
    "\n",
    "# X_3 = np.random.gamma(1, 1, 25)\n",
    "# Y_3 = +0.7 + 0.5 * X_3\n",
    "# Y_3 += 0.5 * np.random.randn(*X_3.shape)\n",
    "\n",
    "# X = np.concatenate((X_1, X_2, X_3))\n",
    "# Y = np.concatenate((Y_1, Y_2, Y_3))"
   ]
  },
  {
   "cell_type": "code",
   "execution_count": 62,
   "metadata": {
    "collapsed": false
   },
   "outputs": [],
   "source": [
    "# Read in CSV data\n",
    "\n",
    "mydata = pd.read_csv(\"for_python.csv\", header=0) #python starts counting at zero\n",
    "X = mydata['mynewdata.FAI']\n",
    "Y = mydata['mynewdata.AQ']\n"
   ]
  },
  {
   "cell_type": "code",
   "execution_count": 63,
   "metadata": {
    "collapsed": false
   },
   "outputs": [],
   "source": [
    "# Observe data\n",
    "\n",
    "for index, (x, y) in enumerate(zip(X, Y)):\n",
    "    v.observe(\"(normal (f %f %d) noise_sd)\" % (x, index), y)\n",
    "    index += 1"
   ]
  },
  {
   "cell_type": "code",
   "execution_count": 64,
   "metadata": {
    "collapsed": false
   },
   "outputs": [],
   "source": [
    "# v.sample(\"(cluster_membership 0)\")"
   ]
  },
  {
   "cell_type": "code",
   "execution_count": 65,
   "metadata": {
    "collapsed": false
   },
   "outputs": [
    {
     "data": {
      "image/png": "[encoded data removed]",
      "text/plain": [
       "<matplotlib.figure.Figure at 0x7fdc7f5d0f50>"
      ]
     },
     "metadata": {},
     "output_type": "display_data"
    }
   ],
   "source": [
    "# Sample the parameters and draw a picture\n",
    "\n",
    "# Only necessary if not running continuous inference\n",
    "v.infer(5000)\n",
    "\n",
    "# sample = v.sample(\"(list offset_1 offset_2 beta_1 beta_2 noise_sd)\")\n",
    "# offset_1 = sample[0]\n",
    "# offset_2 = sample[1]\n",
    "# beta_1 = sample[2]\n",
    "# beta_2 = sample[3]\n",
    "# noise_sd = sample[4]\n",
    "\n",
    "# beta = v.sample(\"beta_1\")\n",
    "# offset_1 = v.sample(\"(offset 0)\")\n",
    "# offset_2 = v.sample(\"(offset 1)\")\n",
    "\n",
    "fig, ax = plt.subplots(figsize=(16, 10))\n",
    "plt.clf()\n",
    "\n",
    "cluster_memberships = v.sample('(list ' + ' '.join('(cluster_membership %d)' % index\n",
    "                                                   for index in range(len(X))) + ')')\n",
    "cluster_numbers = np.unique(cluster_memberships)\n",
    "canonical_cluster_memberships = np.zeros(len(cluster_memberships))\n",
    "for i, value in enumerate(cluster_numbers):\n",
    "    canonical_cluster_memberships[cluster_memberships==value] = i\n",
    "cluster_memberships = canonical_cluster_memberships\n",
    "\n",
    "for (cluster_index, x, y) in zip(cluster_memberships, X, Y):\n",
    "#     cluster_index = v.sample(\"(cluster_membership %d)\" % index)\n",
    "#     y_hat = v.sample(\"(f (0 0))\")# % (x, index))\n",
    "#     print(cluster_index)\n",
    "    if cluster_index == 0:\n",
    "        color = 'b'\n",
    "    elif cluster_index == 1:\n",
    "        color = 'r'\n",
    "    elif cluster_index == 2:\n",
    "        color = 'm'\n",
    "    elif cluster_index == 3:\n",
    "        color = 'c'\n",
    "    else:\n",
    "        color = 'k'\n",
    "    plt.scatter(x, y, color=color, s=50)\n",
    "\n",
    "# plt.scatter(X, Y, color='r', s=50)\n",
    "# plt.scatter(X_2, Y_2, color='b', s=50)\n",
    "# plot_x = np.linspace(min(X), max(X), 100)\n",
    "# # plt.plot(plot_x, offset_1 + beta * plot_x, ls='-', color='g', lw=5)\n",
    "# # plt.plot(plot_x, offset_2 + beta * plot_x, ls='-', color='g', lw=5)\n",
    "\n",
    "# plt.show()"
   ]
  },
  {
   "cell_type": "code",
   "execution_count": 66,
   "metadata": {
    "collapsed": false
   },
   "outputs": [
    {
     "data": {
      "text/plain": [
       "array([ 2.,  0.,  0.,  1.,  0.,  0.,  1.,  1.,  2.,  0.,  2.,  1.,  1.,\n",
       "        1.,  1.,  1.,  1.,  1.,  1.,  1.,  1.,  1.,  0.,  1.,  1.,  1.,\n",
       "        1.,  1.,  1.,  1.,  1.,  1.,  1.,  1.,  1.,  1.,  0.,  1.,  1.,\n",
       "        1.,  0.,  1.,  1.,  0.,  1.])"
      ]
     },
     "execution_count": 66,
     "metadata": {},
     "output_type": "execute_result"
    }
   ],
   "source": [
    "cluster_memberships"
   ]
  },
  {
   "cell_type": "code",
   "execution_count": 67,
   "metadata": {
    "collapsed": false
   },
   "outputs": [],
   "source": [
    "# # Sample in a loop to get distribution\n",
    "\n",
    "# samples = list()\n",
    "\n",
    "# for i in range(100):\n",
    "    \n",
    "# #     print(i)\n",
    "    \n",
    "#     v.infer(50)\n",
    "\n",
    "#     sample = v.sample(\"(list offset beta_1 beta_2 noise_sd linear quadratic)\")\n",
    "#     offset = sample[0]\n",
    "#     beta_1 = sample[1]\n",
    "#     beta_2 = sample[2]\n",
    "#     noise_sd = sample[3]\n",
    "#     linear = sample[4]\n",
    "#     quadratic = sample[5]\n",
    "    \n",
    "#     samples.append(linear)\n",
    "    \n",
    "# fig, ax = plt.subplots(figsize=(16, 10))\n",
    "# plt.clf()\n",
    "\n",
    "# plt.hist(samples)\n",
    "\n",
    "# plt.show()"
   ]
  },
  {
   "cell_type": "code",
   "execution_count": null,
   "metadata": {
    "collapsed": true
   },
   "outputs": [],
   "source": [
    "# Stop inference\n",
    "\n",
    "# v.stop_continuous_inference()"
   ]
  },
  {
   "cell_type": "code",
   "execution_count": null,
   "metadata": {
    "collapsed": false,
    "scrolled": true
   },
   "outputs": [],
   "source": [
    "# Sample the parameters and draw a picture\n",
    "\n",
    "cluster_iterations = 1000\n",
    "samples = list()\n",
    "\n",
    "for _ in range(cluster_iterations):\n",
    "\n",
    "    v.infer(1000)\n",
    "\n",
    "    cluster_memberships = v.sample('(list ' + ' '.join('(cluster_membership %d)' % index\n",
    "                                                       for index in range(len(X))) + ')')\n",
    "    cluster_numbers = np.unique(cluster_memberships)\n",
    "    \n",
    "    samples.append(len(cluster_numbers))\n",
    "\n",
    "\n",
    "# Plot using matplotlib - histograms for ggplot were unreliable due to strange decision making for binning\n",
    "\n",
    "# Instead of using histogram, use bar chart after calling np.bincount - more flexible for graphic making\n",
    "counts = np.bincount(samples)  \n",
    "\n",
    "\n",
    "plt.clf()\n",
    "fig, ax = plt.subplots(figsize=(10,16))\n",
    "ax.bar(range(len(counts)), height=counts, width=1, align='center')\n",
    "ax.set(xticks=range(10), xlim=[-1, 10])\n",
    "plt.xlabel('Number of clusters')\n",
    "plt.ylabel('Count')\n",
    "# plt.savefig('cluster_num_hist.pdf') # must come before plt.show\n",
    "plt.show()\n",
    "\n"
   ]
  },
  {
   "cell_type": "code",
   "execution_count": null,
   "metadata": {
    "collapsed": false
   },
   "outputs": [],
   "source": [
    "# Try to get a \"trace\" of number of clusters\n",
    "df_cluster = pd.DataFrame(samples,  columns=['cluster_num_count'])\n",
    "\n",
    "t = range(1,(cluster_iterations+1))\n",
    "\n",
    "df_cluster['t'] = t\n",
    "\n",
    "# Write this trace to file\n",
    "import os.path\n",
    "\n",
    "\n",
    "def next_cluster_file_name():\n",
    "    num = 1\n",
    "    while True:\n",
    "        file_name = 'cluster_trace%d.csv' % num\n",
    "        if not os.path.exists(file_name):\n",
    "            return file_name\n",
    "        num += 1\n",
    "\n",
    "\n",
    "df_cluster.to_csv(next_cluster_file_name())\n",
    "\n",
    "# print(df)\n",
    "\n",
    "trace = ggplot.ggplot(ggplot.aes(x='t', y='cluster_num_count'), data=df_cluster)\n",
    "trace = (trace + ggplot.geom_line()+ ggplot.theme_matplotlib() + \n",
    "ggplot.xlab(\"time where each point is a sample at 1000 transitions\"))\n",
    "\n",
    "print(trace)\n"
   ]
  },
  {
   "cell_type": "code",
   "execution_count": null,
   "metadata": {
    "collapsed": false
   },
   "outputs": [],
   "source": [
    "# Autocorrelation\n",
    "\n",
    "ACF = []\n",
    "for lag in range(1,(cluster_iterations/2+4)):\n",
    "    result = []\n",
    "    for row in range(lag,cluster_iterations): # Can't be more than the number of sample points taken\n",
    "        result.append(df_cluster.ix[row,\"cluster_num_count\"])\n",
    "    original = samples[:-lag]\n",
    "    ACF.append(sp.stats.spearmanr(original,result))\n",
    "    \n",
    "# Returns a list of tuples of ACF values for lags in range\n",
    "\n",
    "ACF = [x[0] for x in ACF]\n",
    "\n",
    "s0 = pd.Series(ACF, name='ACF')\n",
    "\n",
    "lagsize = range(1,cluster_iterations)\n",
    "s1 = pd.Series(range(1,cluster_iterations), name='lagsize')\n",
    "\n",
    "newdf = pd.DataFrame(s0, columns=[\"ACF\"])\n",
    "newdf['lagsize'] = s1\n",
    "\n",
    "print(newdf)\n",
    "\n",
    "x = ggplot.ggplot(ggplot.aes(x='lagsize', y='ACF'), data=newdf)\n",
    "x = (x + ggplot.geom_bar(stat=\"bar\")+ggplot.theme_matplotlib())\n",
    "\n",
    "print(x)\n",
    "\n",
    "# Effective sample size\n",
    "last_k =[ n for n,i in enumerate(ACF) if i<0.05 ][0]\n",
    "ACF_k = ACF[0:last_k]\n",
    "print('Effective Sample Size')\n",
    "print(cluster_iterations/(1+(2*sum(ACF_k))))\n"
   ]
  },
  {
   "cell_type": "code",
   "execution_count": null,
   "metadata": {
    "collapsed": false
   },
   "outputs": [],
   "source": [
    "# Find median of above\n",
    "np.median(samples)"
   ]
  },
  {
   "cell_type": "code",
   "execution_count": null,
   "metadata": {
    "collapsed": false
   },
   "outputs": [],
   "source": [
    "# Sample the parameters and draw a picture\n",
    "\n",
    "samples = list()\n",
    "beta_iterations = 1000\n",
    "\n",
    "for _ in range(beta_iterations):\n",
    "\n",
    "    v.infer(1000)\n",
    "    \n",
    "    param_beta = v.sample('beta')\n",
    "\n",
    "    samples.append(param_beta)\n",
    "    \n",
    "fig, ax = plt.subplots(figsize=(16, 10))\n",
    "plt.clf()\n",
    "\n",
    "plt.hist(samples)\n",
    "plt.savefig(\"beta_posterior_hist.pdf\")\n",
    "plt.show()"
   ]
  },
  {
   "cell_type": "code",
   "execution_count": null,
   "metadata": {
    "collapsed": false,
    "scrolled": true
   },
   "outputs": [],
   "source": [
    "# ggplot\n",
    "# Relies on list of samples generated from for loop above\n",
    "\n",
    "df = pd.DataFrame(samples,  columns=['Beta_posterior'])\n",
    "\n",
    "\n",
    "p = ggplot.ggplot(ggplot.aes(x='Beta_posterior'), data=df)\n",
    "p = (p + ggplot.geom_histogram(fill='#0072B2') + ggplot.theme_matplotlib() + \n",
    "ggplot.xlab(\"Beta posterior distribution\") + ggplot.ylab(\"Count\"))\n",
    "\n",
    "\n",
    "\n",
    "ggplot.ggsave(p, \"beta_posterior_hist.pdf\")\n",
    "print(p)"
   ]
  },
  {
   "cell_type": "code",
   "execution_count": null,
   "metadata": {
    "collapsed": false
   },
   "outputs": [],
   "source": [
    "# Try to get a \"trace\" of beta values\n",
    "\n",
    "df = pd.DataFrame(samples,  columns=['Beta_posterior'])\n",
    "t = range(1,(beta_iterations+1))\n",
    "\n",
    "df['t'] = t\n",
    "\n",
    "# Write this trace to file\n",
    "\n",
    "def next_beta_file_name():\n",
    "    num = 1\n",
    "    while True:\n",
    "        file_name = 'beta_trace%d.csv' % num\n",
    "        if not os.path.exists(file_name):\n",
    "            return file_name\n",
    "        num += 1\n",
    "\n",
    "\n",
    "df.to_csv(next_beta_file_name())\n",
    "\n",
    "\n",
    "\n",
    "\n",
    "trace = ggplot.ggplot(ggplot.aes(x='t', y='Beta_posterior'), data=df)\n",
    "trace = (trace + ggplot.geom_line()+ ggplot.theme_matplotlib() + \n",
    "ggplot.xlab(\"time where each point is a sample at 1000 transitions\"))\n",
    "\n",
    "print(trace)\n",
    "\n"
   ]
  },
  {
   "cell_type": "code",
   "execution_count": null,
   "metadata": {
    "collapsed": false
   },
   "outputs": [],
   "source": [
    "# Sample 95% equal tails interval for beta values\n",
    "a = np.percentile(samples, 2.5)\n",
    "b = np.percentile(samples, 97.5)\n",
    "print(\"95% equal tails interval for beta values\")\n",
    "print(a,b)\n",
    "\n",
    "# Sample 95% HDI interval for beta values\n",
    "j = HDI_from_MCMC(samples, .95)\n",
    "print(\"95% HDI for beta values\")\n",
    "print(j)\n",
    "\n",
    "# Sample 90% equal tails interval for beta values\n",
    "a = np.percentile(samples, 5)\n",
    "b = np.percentile(samples, 95)\n",
    "print(\"90% equal tails interval for beta values\")\n",
    "print(a,b)\n",
    "\n",
    "# Sample mean for beta values\n",
    "c = np.mean(samples)\n",
    "print(\"mean of beta values\")\n",
    "print(c)\n",
    "\n",
    "# Median of beta values\n",
    "z = np.median(samples)\n",
    "print(\"Median of beta values\")\n",
    "print(z)\n",
    "\n",
    "#Sample standard deviation for beta values\n",
    "d = np.std(samples)\n",
    "print(\"Standard deviation for beta values\")\n",
    "print(d)\n",
    "\n",
    "# Count values less than 0\n",
    "f = sum(i < 0 for i in samples)\n",
    "f = f/1000.\n",
    "print(\"posterior falling beneath 0\")\n",
    "print(f)\n",
    "\n",
    "# Count values greater than 0\n",
    "g = sum(i > 0 for i in samples)\n",
    "g = g/1000.\n",
    "print(\"posterior falling above 0\")\n",
    "print(g)\n"
   ]
  },
  {
   "cell_type": "code",
   "execution_count": null,
   "metadata": {
    "collapsed": false
   },
   "outputs": [],
   "source": [
    "# Autocorrelation\n",
    "\n",
    "ACF = []\n",
    "for lag in range(1,beta_iterations):\n",
    "    result = []\n",
    "    for row in range(lag,beta_iterations):\n",
    "        result.append(df.ix[row,\"Beta_posterior\"])\n",
    "    original = samples[:-lag]\n",
    "    ACF.append(sp.stats.pearsonr(original,result))\n",
    "    \n",
    "# Returns a list of tuples of ACF values for lags in range\n",
    "\n",
    "ACF = [x[0] for x in ACF]\n",
    "\n",
    "s0 = pd.Series(ACF, name='ACF')\n",
    "\n",
    "lagsize = range(1,501)\n",
    "s1 = pd.Series(range(1,501), name='lagsize')\n",
    "\n",
    "newdf = pd.DataFrame(s0, columns=[\"ACF\"])\n",
    "newdf['lagsize'] = s1\n",
    "\n",
    "print(newdf)\n",
    "\n",
    "# Effective sample size\n",
    "last_k =[ n for n,i in enumerate(ACF) if i<0.05 ][0]\n",
    "ACF_k = ACF[0:last_k]\n",
    "print('Effective Sample Size')\n",
    "print(beta_iterations/(1+(2*sum(ACF_k))))\n",
    "\n",
    "\n",
    "\n",
    "x = ggplot.ggplot(ggplot.aes(x='lagsize', y='ACF'), data=newdf)\n",
    "x = (x + ggplot.geom_bar(stat=\"bar\")+ggplot.theme_matplotlib())\n",
    "\n",
    "print(x)"
   ]
  },
  {
   "cell_type": "code",
   "execution_count": null,
   "metadata": {
    "collapsed": false
   },
   "outputs": [],
   "source": [
    "# Sample cluster assignments - make a list of all the assignments for each sample\n",
    "\n",
    "samples = list()\n",
    "\n",
    "for _ in range(1000):\n",
    "\n",
    "    v.infer(1000)\n",
    "    \n",
    "    cluster_memberships = v.sample('(list ' + ' '.join('(cluster_membership %d)' % index\n",
    "                                                   for index in range(len(X))) + ')')\n",
    "\n",
    "    cluster_numbers = np.unique(cluster_memberships)\n",
    "\n",
    "    canonical_cluster_memberships = np.zeros(len(cluster_memberships))\n",
    "    \n",
    "    for i, value in enumerate(cluster_numbers):\n",
    "        canonical_cluster_memberships[cluster_memberships==value] = i\n",
    "    \n",
    "    cluster_memberships = canonical_cluster_memberships\n",
    "\n",
    "    \n",
    "    samples.append(cluster_memberships)\n",
    "    \n",
    "samples = np.array(samples)\n",
    "\n",
    "# print(samples)\n",
    "\n",
    "# print(samples.shape) # check to see whether array is correct shape\n",
    "\n",
    "cluster_labels = np.unique(samples)\n",
    "\n",
    "co_occurrence_matrix = np.zeros((samples.shape[1], samples.shape[1]))\n",
    "\n",
    "for label in cluster_labels:\n",
    "    co_occurrence_matrix += np.dot((samples.T == label) * 1, (samples == label) * 1)\n",
    "    \n",
    "\n",
    "# Reshape co-occurence_matrix by linkage\n",
    "reshaped = sch.linkage(co_occurrence_matrix)\n",
    "    \n",
    "# print(co_occurrence_matrix)\n",
    "# print(co_occurrence_matrix.shape)\n",
    "\n",
    "# plt.clf()\n",
    "# fig, ax = plt.subplots(figsize=(10, 10), dpi=100)\n",
    "\n",
    "# ax.imshow(co_occurrence_matrix, interpolation='nearest') #interpolation changes fuzzyness. try 'none' or 'nearest'\n",
    "# plt.show()"
   ]
  },
  {
   "cell_type": "code",
   "execution_count": null,
   "metadata": {
    "collapsed": false,
    "scrolled": true
   },
   "outputs": [],
   "source": [
    "co_occurrence_matrix = np.divide(co_occurrence_matrix, 10)\n",
    "\n",
    "# Reshape co-occurence_matrix by linkage\n",
    "linkage = sch.linkage(co_occurrence_matrix)\n",
    "dendrogram_right = sch.dendrogram(linkage, orientation='right')\n",
    "dendrogram = sch.dendrogram(linkage)\n",
    "idx1 = dendrogram_right['leaves']\n",
    "idx2 = dendrogram['leaves']\n",
    "co_occurrence_matrix = co_occurrence_matrix[idx1,:]\n",
    "co_occurrence_matrix = co_occurrence_matrix[:,idx2]\n",
    "\n",
    "# Co-occurrence matrix figure\n",
    "\n",
    "plt.clf()\n",
    "fig, ax = plt.subplots(figsize=(10, 10), dpi=100)\n",
    "map=ax.imshow(co_occurrence_matrix, interpolation='nearest')\n",
    "plt.colorbar(map)\n",
    "plt.savefig('co-occurrence.pdf') # this line has to come before plt.show\n",
    "plt.show()\n",
    "\n",
    "# print(reshaped)\n",
    "# reshaped.shape\n",
    "\n",
    "# plt.clf()\n",
    "# fig, ax = plt.subplots(figsize=(10, 10), dpi=100)\n",
    "# ax.imshow(reshaped, interpolation='nearest') \n",
    "# plt.savefig('co-occurrence.pdf') # this line has to come before plt.show\n",
    "# plt.show()\n"
   ]
  },
  {
   "cell_type": "code",
   "execution_count": null,
   "metadata": {
    "collapsed": true
   },
   "outputs": [],
   "source": []
  },
  {
   "cell_type": "code",
   "execution_count": null,
   "metadata": {
    "collapsed": true
   },
   "outputs": [],
   "source": []
  }
 ],
 "metadata": {
  "kernelspec": {
   "display_name": "Python 2",
   "language": "python",
   "name": "python2"
  },
  "language_info": {
   "codemirror_mode": {
    "name": "ipython",
    "version": 2
   },
   "file_extension": ".py",
   "mimetype": "text/x-python",
   "name": "python",
   "nbconvert_exporter": "python",
   "pygments_lexer": "ipython2",
   "version": "2.7.6"
  }
 },
 "nbformat": 4,
 "nbformat_minor": 0
}
