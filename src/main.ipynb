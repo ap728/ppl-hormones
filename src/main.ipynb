{
 "cells": [
  {
   "cell_type": "code",
   "execution_count": 46,
   "metadata": {
    "collapsed": false
   },
   "outputs": [],
   "source": [
    "# Setup\n",
    "import matplotlib\n",
    "import numpy as np\n",
    "import scipy as sp\n",
    "import scipy.cluster.hierarchy as sch\n",
    "import matplotlib.pyplot as plt\n",
    "import pandas as pd\n",
    "import ggplot\n",
    "%matplotlib inline"
   ]
  },
  {
   "cell_type": "code",
   "execution_count": 47,
   "metadata": {
    "collapsed": true
   },
   "outputs": [],
   "source": [
    "# Start an inference server\n",
    "\n",
    "from venture.shortcuts import *\n",
    "v = make_church_prime_ripl()\n",
    "# x = Puma().make_church_prime_ripl()"
   ]
  },
  {
   "cell_type": "code",
   "execution_count": 48,
   "metadata": {
    "collapsed": false
   },
   "outputs": [],
   "source": [
    "# Forget everything\n",
    "\n",
    "v.clear()"
   ]
  },
  {
   "cell_type": "code",
   "execution_count": 49,
   "metadata": {
    "collapsed": false
   },
   "outputs": [],
   "source": [
    "# # Specify model 1\n",
    "\n",
    "# v.assume(\"offset_1\", \"(uniform_continuous -1 1)\")\n",
    "# v.assume(\"offset_2\", \"(uniform_continuous -1 1)\")\n",
    "# v.assume(\"linear\", \"(flip 0.5)\")\n",
    "# v.assume(\"beta_1\", \"(if linear (uniform_continuous -1 1) 0)\")\n",
    "# v.assume(\"quadratic\", \"(flip 0.5)\")\n",
    "# v.assume(\"beta_2\", \"(if quadratic (uniform_continuous -1 1) 0)\")\n",
    "# v.assume(\"noise_sd\", \"(exp (normal 0 2))\")\n",
    "\n",
    "# v.assume(\"f_1\", \"(lambda (x) (+ offset_1 (* beta_1 x) (* beta_2 x x)))\")\n",
    "# v.assume(\"f_2\", \"(lambda (x) (+ offset_2 (* beta_1 x) (* beta_2 x x)))\")\n",
    "\n",
    "# v.assume(\"cluster_membership\", \"(mem (lambda (index) (if (flip) 1 2)))\")\n",
    "\n",
    "# v.assume(\"f\", \"(lambda (x index) (if (eq (cluster_membership index) 1) (f_1 x) (f_2 x)))\")"
   ]
  },
  {
   "cell_type": "code",
   "execution_count": 50,
   "metadata": {
    "collapsed": false
   },
   "outputs": [
    {
     "data": {
      "text/plain": [
       "'<procedure>'"
      ]
     },
     "execution_count": 50,
     "metadata": {},
     "output_type": "execute_result"
    }
   ],
   "source": [
    "# Specify model 2\n",
    "\n",
    "# v.assume(\"cluster_membership_crp\", \"(make_sym_dir_mult 1 2)\")\n",
    "v.assume(\"cluster_membership_crp\", \"(make_crp 0.3)\")\n",
    "v.assume(\"cluster_membership\", \"(mem (lambda (index) (cluster_membership_crp)))\")\n",
    "# v.assume(\"cluster_membership\", \"(mem (lambda (index) (if (flip) 0 1)))\")\n",
    "\n",
    "v.assume(\"offset\", \"(mem (lambda (cluster_index) (uniform_continuous -20 50)))\")\n",
    "v.assume(\"beta\", \"(normal 3.4830 3.8094)\")\n",
    "v.assume(\"noise_sd\", \"(+ 0.1 (exp (normal 0 2)))\")\n",
    "\n",
    "v.assume(\"f\", \"(lambda (x index) (+ (offset (cluster_membership index)) (* beta x)))\")"
   ]
  },
  {
   "cell_type": "code",
   "execution_count": 51,
   "metadata": {
    "collapsed": false
   },
   "outputs": [
    {
     "data": {
      "text/plain": [
       "1"
      ]
     },
     "execution_count": 51,
     "metadata": {},
     "output_type": "execute_result"
    }
   ],
   "source": [
    "v.sample('(cluster_membership 0)')"
   ]
  },
  {
   "cell_type": "code",
   "execution_count": 52,
   "metadata": {
    "collapsed": false
   },
   "outputs": [],
   "source": [
    "# Start inference\n",
    "\n",
    "# v.start_continuous_inference()"
   ]
  },
  {
   "cell_type": "code",
   "execution_count": 53,
   "metadata": {
    "collapsed": false
   },
   "outputs": [],
   "source": [
    "# Create data\n",
    "\n",
    "X_1 = np.random.gamma(1, 1, 20)\n",
    "Y_1 = -0.2 + 0.5 * X_1 + 0.0 * X_1 * X_1\n",
    "Y_1 += 0.1 * np.random.randn(*X_1.shape)\n",
    "\n",
    "X_2 = np.random.gamma(1, 1, 10)\n",
    "Y_2 = +0.2 + 0.5 * X_2\n",
    "Y_2 += 0.1 * np.random.randn(*X_2.shape)\n",
    "\n",
    "X_3 = np.random.gamma(1, 1, 25)\n",
    "Y_3 = +0.7 + 0.5 * X_3\n",
    "Y_3 += 0.1 * np.random.randn(*X_3.shape)\n",
    "\n",
    "X = np.concatenate((X_1, X_2, X_3))\n",
    "Y = np.concatenate((Y_1, Y_2, Y_3))"
   ]
  },
  {
   "cell_type": "code",
   "execution_count": 54,
   "metadata": {
    "collapsed": false
   },
   "outputs": [],
   "source": [
    "# Read in CSV data\n",
    "\n",
    "mydata = pd.read_csv(\"for_python.csv\", header=0) #python starts counting at zero\n",
    "X = mydata['mynewdata.FAI']\n",
    "Y = mydata['mynewdata.AQ']\n"
   ]
  },
  {
   "cell_type": "code",
   "execution_count": 55,
   "metadata": {
    "collapsed": false
   },
   "outputs": [],
   "source": [
    "# Observe data\n",
    "\n",
    "for index, (x, y) in enumerate(zip(X, Y)):\n",
    "    v.observe(\"(normal (f %f %d) noise_sd)\" % (x, index), y)\n",
    "    index += 1"
   ]
  },
  {
   "cell_type": "code",
   "execution_count": 56,
   "metadata": {
    "collapsed": false
   },
   "outputs": [],
   "source": [
    "# v.sample(\"(cluster_membership 0)\")"
   ]
  },
  {
   "cell_type": "code",
   "execution_count": null,
   "metadata": {
    "collapsed": true
   },
   "outputs": [],
   "source": []
  },
  {
   "cell_type": "code",
   "execution_count": 57,
   "metadata": {
    "collapsed": false
   },
   "outputs": [
    {
     "data": {
      "image/png": "[encoded data removed]",
      "text/plain": [
       "<matplotlib.figure.Figure at 0x7fecf0323090>"
      ]
     },
     "metadata": {},
     "output_type": "display_data"
    }
   ],
   "source": [
    "# Sample the parameters and draw a picture\n",
    "\n",
    "# Only necessary if not running continuous inference\n",
    "v.infer(5000)\n",
    "\n",
    "# sample = v.sample(\"(list offset_1 offset_2 beta_1 beta_2 noise_sd)\")\n",
    "# offset_1 = sample[0]\n",
    "# offset_2 = sample[1]\n",
    "# beta_1 = sample[2]\n",
    "# beta_2 = sample[3]\n",
    "# noise_sd = sample[4]\n",
    "\n",
    "# beta = v.sample(\"beta_1\")\n",
    "# offset_1 = v.sample(\"(offset 0)\")\n",
    "# offset_2 = v.sample(\"(offset 1)\")\n",
    "\n",
    "fig, ax = plt.subplots(figsize=(16, 10))\n",
    "plt.clf()\n",
    "\n",
    "cluster_memberships = v.sample('(list ' + ' '.join('(cluster_membership %d)' % index\n",
    "                                                   for index in range(len(X))) + ')')\n",
    "cluster_numbers = np.unique(cluster_memberships)\n",
    "canonical_cluster_memberships = np.zeros(len(cluster_memberships))\n",
    "for i, value in enumerate(cluster_numbers):\n",
    "    canonical_cluster_memberships[cluster_memberships==value] = i\n",
    "cluster_memberships = canonical_cluster_memberships\n",
    "\n",
    "for (cluster_index, x, y) in zip(cluster_memberships, X, Y):\n",
    "#     cluster_index = v.sample(\"(cluster_membership %d)\" % index)\n",
    "#     y_hat = v.sample(\"(f (0 0))\")# % (x, index))\n",
    "#     print(cluster_index)\n",
    "    if cluster_index == 0:\n",
    "        color = 'b'\n",
    "    elif cluster_index == 1:\n",
    "        color = 'r'\n",
    "    elif cluster_index == 2:\n",
    "        color = 'm'\n",
    "    elif cluster_index == 3:\n",
    "        color = 'c'\n",
    "    else:\n",
    "        color = 'k'\n",
    "    plt.scatter(x, y, color=color, s=50)\n",
    "\n",
    "# plt.scatter(X, Y, color='r', s=50)\n",
    "# plt.scatter(X_2, Y_2, color='b', s=50)\n",
    "# plot_x = np.linspace(min(X), max(X), 100)\n",
    "# # plt.plot(plot_x, offset_1 + beta * plot_x, ls='-', color='g', lw=5)\n",
    "# # plt.plot(plot_x, offset_2 + beta * plot_x, ls='-', color='g', lw=5)\n",
    "\n",
    "# plt.show()"
   ]
  },
  {
   "cell_type": "code",
   "execution_count": 58,
   "metadata": {
    "collapsed": false
   },
   "outputs": [
    {
     "data": {
      "text/plain": [
       "array([ 0.,  0.,  0.,  0.,  0.,  0.,  1.,  1.,  0.,  0.,  0.,  1.,  1.,\n",
       "        0.,  1.,  1.,  1.,  1.,  1.,  0.,  1.,  1.,  0.,  1.,  1.,  1.,\n",
       "        1.,  1.,  1.,  1.,  1.,  0.,  0.,  0.,  1.,  1.,  0.,  1.])"
      ]
     },
     "execution_count": 58,
     "metadata": {},
     "output_type": "execute_result"
    }
   ],
   "source": [
    "cluster_memberships"
   ]
  },
  {
   "cell_type": "code",
   "execution_count": 59,
   "metadata": {
    "collapsed": false
   },
   "outputs": [],
   "source": [
    "# # Sample in a loop to get distribution\n",
    "\n",
    "# samples = list()\n",
    "\n",
    "# for i in range(100):\n",
    "    \n",
    "# #     print(i)\n",
    "    \n",
    "#     v.infer(50)\n",
    "\n",
    "#     sample = v.sample(\"(list offset beta_1 beta_2 noise_sd linear quadratic)\")\n",
    "#     offset = sample[0]\n",
    "#     beta_1 = sample[1]\n",
    "#     beta_2 = sample[2]\n",
    "#     noise_sd = sample[3]\n",
    "#     linear = sample[4]\n",
    "#     quadratic = sample[5]\n",
    "    \n",
    "#     samples.append(linear)\n",
    "    \n",
    "# fig, ax = plt.subplots(figsize=(16, 10))\n",
    "# plt.clf()\n",
    "\n",
    "# plt.hist(samples)\n",
    "\n",
    "# plt.show()"
   ]
  },
  {
   "cell_type": "code",
   "execution_count": 60,
   "metadata": {
    "collapsed": true
   },
   "outputs": [],
   "source": [
    "# Stop inference\n",
    "\n",
    "# v.stop_continuous_inference()"
   ]
  },
  {
   "cell_type": "code",
   "execution_count": 93,
   "metadata": {
    "collapsed": false,
    "scrolled": true
   },
   "outputs": [
    {
     "data": {
      "image/png": "[encoded data removed]",
      "text/plain": [
       "<matplotlib.figure.Figure at 0x7fecefdb17d0>"
      ]
     },
     "metadata": {},
     "output_type": "display_data"
    }
   ],
   "source": [
    "# Sample the parameters and draw a picture\n",
    "\n",
    "samples = list()\n",
    "\n",
    "for _ in range(1000):\n",
    "\n",
    "    v.infer(100)\n",
    "\n",
    "    cluster_memberships = v.sample('(list ' + ' '.join('(cluster_membership %d)' % index\n",
    "                                                       for index in range(len(X))) + ')')\n",
    "    cluster_numbers = np.unique(cluster_memberships)\n",
    "    \n",
    "    samples.append(len(cluster_numbers))\n",
    "    \n",
    "    \n",
    "fig, ax = plt.subplots(figsize=(16, 10))\n",
    "plt.clf()\n",
    "\n",
    "plt.hist(samples, bins=[0,1,2,3,4,5]) # Pyplot does dumb things with bins when left alone.\n",
    "\n",
    "plt.show()"
   ]
  },
  {
   "cell_type": "code",
   "execution_count": 94,
   "metadata": {
    "collapsed": false
   },
   "outputs": [
    {
     "name": "stderr",
     "output_type": "stream",
     "text": [
      "Saving 6.0 x 4.0 in image.\n"
     ]
    },
    {
     "data": {
      "image/png": "[encoded data removed]",
      "text/plain": [
       "<matplotlib.figure.Figure at 0x7fecefed8310>"
      ]
     },
     "metadata": {},
     "output_type": "display_data"
    },
    {
     "name": "stdout",
     "output_type": "stream",
     "text": [
      "<ggplot: (8790976187509)>\n"
     ]
    }
   ],
   "source": [
    "# ggplot\n",
    "# Relies on list of samples generated from for loop above\n",
    "\n",
    "df = pd.DataFrame(samples,  columns=['cluster_num_count'])\n",
    "\n",
    "# subtract 0.5 from all values to center\n",
    "df['cluster_num_count'] = df['cluster_num_count']-0.5\n",
    "\n",
    "p = ggplot.ggplot(ggplot.aes(x='cluster_num_count'), data=df)\n",
    "p = (p + ggplot.geom_histogram(binwidth=1, fill='#CC79A7') + ggplot.theme_matplotlib() + ggplot.xlim(0,(max(df['cluster_num_count'])+1)) + \n",
    "ggplot.scale_x_continuous(breaks = range(1,10)) + ggplot.xlab(\"Number of clusters\") + ggplot.ylab(\"Count\"))\n",
    "\n",
    "\n",
    "\n",
    "ggplot.ggsave(p, \"cluster_num_hist.pdf\")\n",
    "print(p)"
   ]
  },
  {
   "cell_type": "code",
   "execution_count": 107,
   "metadata": {
    "collapsed": false
   },
   "outputs": [
    {
     "name": "stdout",
     "output_type": "stream",
     "text": [
      "     cluster_num_count     t\n",
      "0                    3     1\n",
      "1                    3     2\n",
      "2                    2     3\n",
      "3                    2     4\n",
      "4                    2     5\n",
      "5                    2     6\n",
      "6                    2     7\n",
      "7                    2     8\n",
      "8                    2     9\n",
      "9                    2    10\n",
      "10                   2    11\n",
      "11                   2    12\n",
      "12                   2    13\n",
      "13                   3    14\n",
      "14                   2    15\n",
      "15                   2    16\n",
      "16                   2    17\n",
      "17                   2    18\n",
      "18                   2    19\n",
      "19                   2    20\n",
      "20                   3    21\n",
      "21                   2    22\n",
      "22                   2    23\n",
      "23                   2    24\n",
      "24                   2    25\n",
      "25                   3    26\n",
      "26                   3    27\n",
      "27                   3    28\n",
      "28                   3    29\n",
      "29                   3    30\n",
      "..                 ...   ...\n",
      "970                  2   971\n",
      "971                  2   972\n",
      "972                  2   973\n",
      "973                  3   974\n",
      "974                  3   975\n",
      "975                  4   976\n",
      "976                  4   977\n",
      "977                  4   978\n",
      "978                  4   979\n",
      "979                  3   980\n",
      "980                  3   981\n",
      "981                  3   982\n",
      "982                  4   983\n",
      "983                  3   984\n",
      "984                  3   985\n",
      "985                  3   986\n",
      "986                  3   987\n",
      "987                  3   988\n",
      "988                  4   989\n",
      "989                  3   990\n",
      "990                  3   991\n",
      "991                  3   992\n",
      "992                  4   993\n",
      "993                  3   994\n",
      "994                  3   995\n",
      "995                  3   996\n",
      "996                  3   997\n",
      "997                  3   998\n",
      "998                  3   999\n",
      "999                  3  1000\n",
      "\n",
      "[1000 rows x 2 columns]\n"
     ]
    },
    {
     "data": {
      "image/png": "[encoded data removed]",
      "text/plain": [
       "<matplotlib.figure.Figure at 0x7fecf00499d0>"
      ]
     },
     "metadata": {},
     "output_type": "display_data"
    },
    {
     "name": "stdout",
     "output_type": "stream",
     "text": [
      "<ggplot: (8790975806073)>\n"
     ]
    }
   ],
   "source": [
    "# Try to get a \"trace\" of number of clusters\n",
    "df = pd.DataFrame(samples,  columns=['cluster_num_count'])\n",
    "\n",
    "t = range(1,1001)\n",
    "\n",
    "df['t'] = t\n",
    "\n",
    "print(df)\n",
    "\n",
    "trace = ggplot.ggplot(ggplot.aes(x='t', y='cluster_num_count'), data=df)\n",
    "trace = (trace + ggplot.geom_line()+ ggplot.theme_matplotlib() + \n",
    "ggplot.xlab(\"time where each point is a sample at 1000 transitions\"))\n",
    "\n",
    "print(trace)\n"
   ]
  },
  {
   "cell_type": "code",
   "execution_count": 171,
   "metadata": {
    "collapsed": false
   },
   "outputs": [
    {
     "name": "stdout",
     "output_type": "stream",
     "text": [
      "         ACF  lagsize\n",
      "0   0.874869        1\n",
      "1   0.792981        2\n",
      "2   0.731658        3\n",
      "3   0.685009        4\n",
      "4   0.639234        5\n",
      "5   0.610007        6\n",
      "6   0.583519        7\n",
      "7   0.557289        8\n",
      "8   0.531660        9\n",
      "9   0.498610       10\n",
      "10  0.474774       11\n",
      "11  0.444681       12\n",
      "12  0.413374       13\n",
      "13  0.386513       14\n",
      "14  0.372765       15\n",
      "15  0.359930       16\n",
      "16  0.348009       17\n",
      "17  0.340924       18\n",
      "18  0.345699       19\n",
      "19  0.324453       20\n"
     ]
    }
   ],
   "source": [
    "# Autocorrelation\n",
    "\n",
    "ACF = []\n",
    "for lag in range(1,21):\n",
    "    result = []\n",
    "    for row in range(lag,1000):\n",
    "        result.append(df.ix[row,\"cluster_num_count\"])\n",
    "    original = samples[:-lag]\n",
    "    ACF.append(sp.stats.pearsonr(original,result))\n",
    "    \n",
    "# print(ACF)\n",
    "ACF = [x[0] for x in ACF]\n",
    "# print(ACF)\n",
    "\n",
    "s0 = pd.Series(ACF, name='ACF')\n",
    "\n",
    "lagsize = range(1,21)\n",
    "s1 = pd.Series(range(1,21), name='lagsize')\n",
    "\n",
    "newdf = pd.DataFrame(s0, columns=[\"ACF\"])\n",
    "newdf['lagsize'] = s1\n",
    "\n",
    "print(newdf)"
   ]
  },
  {
   "cell_type": "code",
   "execution_count": 63,
   "metadata": {
    "collapsed": false
   },
   "outputs": [
    {
     "data": {
      "text/plain": [
       "3.0"
      ]
     },
     "execution_count": 63,
     "metadata": {},
     "output_type": "execute_result"
    }
   ],
   "source": [
    "# Find median of above\n",
    "np.median(samples)"
   ]
  },
  {
   "cell_type": "code",
   "execution_count": 88,
   "metadata": {
    "collapsed": false
   },
   "outputs": [
    {
     "data": {
      "image/png": "[encoded data removed]",
      "text/plain": [
       "<matplotlib.figure.Figure at 0x7fecf00ca9d0>"
      ]
     },
     "metadata": {},
     "output_type": "display_data"
    }
   ],
   "source": [
    "# Sample the parameters and draw a picture\n",
    "\n",
    "samples = list()\n",
    "\n",
    "for _ in range(1000):\n",
    "\n",
    "    v.infer(1000)\n",
    "    \n",
    "    param_beta = v.sample('beta')\n",
    "\n",
    "    samples.append(param_beta)\n",
    "    \n",
    "fig, ax = plt.subplots(figsize=(16, 10))\n",
    "plt.clf()\n",
    "\n",
    "plt.hist(samples, bins=20)\n",
    "\n",
    "plt.show()"
   ]
  },
  {
   "cell_type": "code",
   "execution_count": 89,
   "metadata": {
    "collapsed": false,
    "scrolled": true
   },
   "outputs": [
    {
     "name": "stderr",
     "output_type": "stream",
     "text": [
      "Saving 6.0 x 4.0 in image.\n"
     ]
    },
    {
     "data": {
      "image/png": "[encoded data removed]",
      "text/plain": [
       "<matplotlib.figure.Figure at 0x7fecefb4ec50>"
      ]
     },
     "metadata": {},
     "output_type": "display_data"
    },
    {
     "name": "stdout",
     "output_type": "stream",
     "text": [
      "<ggplot: (8790975589485)>\n"
     ]
    }
   ],
   "source": [
    "# ggplot\n",
    "# Relies on list of samples generated from for loop above\n",
    "\n",
    "df = pd.DataFrame(samples,  columns=['Beta_posterior'])\n",
    "\n",
    "\n",
    "p = ggplot.ggplot(ggplot.aes(x='Beta_posterior'), data=df)\n",
    "p = (p + ggplot.geom_histogram(fill='#0072B2') + ggplot.theme_matplotlib() + \n",
    "ggplot.xlab(\"Beta posterior distribution\") + ggplot.ylab(\"Count\"))\n",
    "\n",
    "\n",
    "\n",
    "ggplot.ggsave(p, \"beta_posterior_hist.pdf\")\n",
    "print(p)"
   ]
  },
  {
   "cell_type": "code",
   "execution_count": 92,
   "metadata": {
    "collapsed": false
   },
   "outputs": [
    {
     "data": {
      "image/png": "[encoded data removed]",
      "text/plain": [
       "<matplotlib.figure.Figure at 0x7fecefe8c3d0>"
      ]
     },
     "metadata": {},
     "output_type": "display_data"
    },
    {
     "name": "stdout",
     "output_type": "stream",
     "text": [
      "<ggplot: (8790976196361)>\n"
     ]
    }
   ],
   "source": [
    "# Try to get a \"trace\" of beta values\n",
    "\n",
    "t = range(1,1001)\n",
    "\n",
    "df['t'] = t\n",
    "\n",
    "\n",
    "trace = ggplot.ggplot(ggplot.aes(x='t', y='Beta_posterior'), data=df)\n",
    "trace = (trace + ggplot.geom_line()+ ggplot.theme_matplotlib() + \n",
    "ggplot.xlab(\"time where each point is a sample at 1000 transitions\"))\n",
    "\n",
    "print(trace)\n",
    "\n"
   ]
  },
  {
   "cell_type": "code",
   "execution_count": 91,
   "metadata": {
    "collapsed": false
   },
   "outputs": [
    {
     "name": "stdout",
     "output_type": "stream",
     "text": [
      "95% credible interval for beta values\n",
      "(-3.6864139222337173, 3.9331154725268291)\n",
      "90% credible interval for beta values\n",
      "(-3.0086928917780158, 3.3953109409126792)\n",
      "mean of beta values\n",
      "0.478180082706\n",
      "Median of beta values\n",
      "0.690048865654\n",
      "Standard deviation for beta values\n",
      "1.88943522946\n",
      "posterior falling beneath 0\n",
      "0.342\n",
      "posterior falling above 0\n",
      "0.658\n"
     ]
    }
   ],
   "source": [
    "# Sample 95% credible interval for beta values\n",
    "a = np.percentile(samples, 2.5)\n",
    "b = np.percentile(samples, 97.5)\n",
    "print(\"95% credible interval for beta values\")\n",
    "print(a,b)\n",
    "\n",
    "# Sample 90% credible interval for beta values\n",
    "a = np.percentile(samples, 5)\n",
    "b = np.percentile(samples, 95)\n",
    "print(\"90% credible interval for beta values\")\n",
    "print(a,b)\n",
    "\n",
    "# Sample mean for beta values\n",
    "c = np.mean(samples)\n",
    "print(\"mean of beta values\")\n",
    "print(c)\n",
    "\n",
    "# Median of beta values\n",
    "z = np.median(samples)\n",
    "print(\"Median of beta values\")\n",
    "print(z)\n",
    "\n",
    "#Sample standard deviation for beta values\n",
    "d = np.std(samples)\n",
    "print(\"Standard deviation for beta values\")\n",
    "print(d)\n",
    "\n",
    "# Count values less than 0\n",
    "f = sum(i < 0 for i in samples)\n",
    "f = f/1000.\n",
    "print(\"posterior falling beneath 0\")\n",
    "print(f)\n",
    "\n",
    "# Count values greater than 0\n",
    "g = sum(i > 0 for i in samples)\n",
    "g = g/1000.\n",
    "print(\"posterior falling above 0\")\n",
    "print(g)\n"
   ]
  },
  {
   "cell_type": "code",
   "execution_count": 67,
   "metadata": {
    "collapsed": false
   },
   "outputs": [
    {
     "ename": "KeyboardInterrupt",
     "evalue": "",
     "output_type": "error",
     "traceback": [
      "\u001b[1;31m---------------------------------------------------------------------------\u001b[0m",
      "\u001b[1;31mKeyboardInterrupt\u001b[0m                         Traceback (most recent call last)",
      "\u001b[1;32m<ipython-input-67-ec06b0b9f240>\u001b[0m in \u001b[0;36m<module>\u001b[1;34m()\u001b[0m\n\u001b[0;32m      5\u001b[0m \u001b[1;32mfor\u001b[0m \u001b[0m_\u001b[0m \u001b[1;32min\u001b[0m \u001b[0mrange\u001b[0m\u001b[1;33m(\u001b[0m\u001b[1;36m1000\u001b[0m\u001b[1;33m)\u001b[0m\u001b[1;33m:\u001b[0m\u001b[1;33m\u001b[0m\u001b[0m\n\u001b[0;32m      6\u001b[0m \u001b[1;33m\u001b[0m\u001b[0m\n\u001b[1;32m----> 7\u001b[1;33m     \u001b[0mv\u001b[0m\u001b[1;33m.\u001b[0m\u001b[0minfer\u001b[0m\u001b[1;33m(\u001b[0m\u001b[1;36m100000\u001b[0m\u001b[1;33m)\u001b[0m\u001b[1;33m\u001b[0m\u001b[0m\n\u001b[0m\u001b[0;32m      8\u001b[0m \u001b[1;33m\u001b[0m\u001b[0m\n\u001b[0;32m      9\u001b[0m     cluster_memberships = v.sample('(list ' + ' '.join('(cluster_membership %d)' % index\n",
      "\u001b[1;32m/usr/local/lib/python2.7/dist-packages/venture/ripl/ripl.pyc\u001b[0m in \u001b[0;36minfer\u001b[1;34m(self, params, type)\u001b[0m\n\u001b[0;32m    684\u001b[0m \u001b[1;33m\u001b[0m\u001b[0m\n\u001b[0;32m    685\u001b[0m     \u001b[1;32mdef\u001b[0m \u001b[0minfer\u001b[0m\u001b[1;33m(\u001b[0m\u001b[0mself\u001b[0m\u001b[1;33m,\u001b[0m \u001b[0mparams\u001b[0m\u001b[1;33m=\u001b[0m\u001b[0mNone\u001b[0m\u001b[1;33m,\u001b[0m \u001b[0mtype\u001b[0m\u001b[1;33m=\u001b[0m\u001b[0mFalse\u001b[0m\u001b[1;33m)\u001b[0m\u001b[1;33m:\u001b[0m\u001b[1;33m\u001b[0m\u001b[0m\n\u001b[1;32m--> 686\u001b[1;33m         \u001b[0mo\u001b[0m \u001b[1;33m=\u001b[0m \u001b[0mself\u001b[0m\u001b[1;33m.\u001b[0m\u001b[0mexecute_instruction\u001b[0m\u001b[1;33m(\u001b[0m\u001b[1;33m{\u001b[0m\u001b[1;34m'instruction'\u001b[0m\u001b[1;33m:\u001b[0m\u001b[1;34m'infer'\u001b[0m\u001b[1;33m,\u001b[0m \u001b[1;34m'expression'\u001b[0m\u001b[1;33m:\u001b[0m \u001b[0mself\u001b[0m\u001b[1;33m.\u001b[0m\u001b[0mdefaultInferProgram\u001b[0m\u001b[1;33m(\u001b[0m\u001b[0mparams\u001b[0m\u001b[1;33m)\u001b[0m\u001b[1;33m}\u001b[0m\u001b[1;33m)\u001b[0m\u001b[1;33m\u001b[0m\u001b[0m\n\u001b[0m\u001b[0;32m    687\u001b[0m         \u001b[0mvalue\u001b[0m \u001b[1;33m=\u001b[0m \u001b[0mo\u001b[0m\u001b[1;33m[\u001b[0m\u001b[1;34m\"value\"\u001b[0m\u001b[1;33m]\u001b[0m\u001b[1;33m\u001b[0m\u001b[0m\n\u001b[0;32m    688\u001b[0m         \u001b[1;32mreturn\u001b[0m \u001b[0mvalue\u001b[0m \u001b[1;32mif\u001b[0m \u001b[0mtype\u001b[0m \u001b[1;32melse\u001b[0m \u001b[0mu\u001b[0m\u001b[1;33m.\u001b[0m\u001b[0mstrip_types\u001b[0m\u001b[1;33m(\u001b[0m\u001b[0mvalue\u001b[0m\u001b[1;33m)\u001b[0m\u001b[1;33m\u001b[0m\u001b[0m\n",
      "\u001b[1;32m/usr/local/lib/python2.7/dist-packages/venture/ripl/ripl.pyc\u001b[0m in \u001b[0;36mexecute_instruction\u001b[1;34m(self, instruction, params)\u001b[0m\n\u001b[0;32m    137\u001b[0m                 \u001b[0mself\u001b[0m\u001b[1;33m.\u001b[0m\u001b[0mdirective_id_to_stringable_instruction\u001b[0m\u001b[1;33m[\u001b[0m\u001b[0mdid\u001b[0m\u001b[1;33m]\u001b[0m \u001b[1;33m=\u001b[0m \u001b[0mstringable_instruction\u001b[0m\u001b[1;33m\u001b[0m\u001b[0m\n\u001b[0;32m    138\u001b[0m                 \u001b[0mself\u001b[0m\u001b[1;33m.\u001b[0m\u001b[0mdirective_id_to_mode\u001b[0m\u001b[1;33m[\u001b[0m\u001b[0mdid\u001b[0m\u001b[1;33m]\u001b[0m \u001b[1;33m=\u001b[0m \u001b[0mself\u001b[0m\u001b[1;33m.\u001b[0m\u001b[0mmode\u001b[0m\u001b[1;33m\u001b[0m\u001b[0m\n\u001b[1;32m--> 139\u001b[1;33m             \u001b[0mret_value\u001b[0m \u001b[1;33m=\u001b[0m \u001b[0mself\u001b[0m\u001b[1;33m.\u001b[0m\u001b[0msivm\u001b[0m\u001b[1;33m.\u001b[0m\u001b[0mexecute_instruction\u001b[0m\u001b[1;33m(\u001b[0m\u001b[0mparsed_instruction\u001b[0m\u001b[1;33m)\u001b[0m\u001b[1;33m\u001b[0m\u001b[0m\n\u001b[0m\u001b[0;32m    140\u001b[0m         \u001b[1;32mexcept\u001b[0m \u001b[0mVentureException\u001b[0m \u001b[1;32mas\u001b[0m \u001b[0me\u001b[0m\u001b[1;33m:\u001b[0m\u001b[1;33m\u001b[0m\u001b[0m\n\u001b[0;32m    141\u001b[0m             \u001b[1;32mimport\u001b[0m \u001b[0msys\u001b[0m\u001b[1;33m\u001b[0m\u001b[0m\n",
      "\u001b[1;32m/usr/local/lib/python2.7/dist-packages/venture/sivm/venture_sivm.pyc\u001b[0m in \u001b[0;36mexecute_instruction\u001b[1;34m(self, instruction)\u001b[0m\n\u001b[0;32m     66\u001b[0m                 \u001b[1;32mreturn\u001b[0m \u001b[0mf\u001b[0m\u001b[1;33m(\u001b[0m\u001b[0minstruction\u001b[0m\u001b[1;33m)\u001b[0m\u001b[1;33m\u001b[0m\u001b[0m\n\u001b[0;32m     67\u001b[0m             \u001b[1;32melse\u001b[0m\u001b[1;33m:\u001b[0m\u001b[1;33m\u001b[0m\u001b[0m\n\u001b[1;32m---> 68\u001b[1;33m                 \u001b[0mresponse\u001b[0m \u001b[1;33m=\u001b[0m \u001b[0mself\u001b[0m\u001b[1;33m.\u001b[0m\u001b[0m_call_core_sivm_instruction\u001b[0m\u001b[1;33m(\u001b[0m\u001b[0minstruction\u001b[0m\u001b[1;33m)\u001b[0m\u001b[1;33m\u001b[0m\u001b[0m\n\u001b[0m\u001b[0;32m     69\u001b[0m                 \u001b[1;32mreturn\u001b[0m \u001b[0mresponse\u001b[0m\u001b[1;33m\u001b[0m\u001b[0m\n\u001b[0;32m     70\u001b[0m \u001b[1;33m\u001b[0m\u001b[0m\n",
      "\u001b[1;32m/usr/local/lib/python2.7/dist-packages/venture/sivm/venture_sivm.pyc\u001b[0m in \u001b[0;36m_call_core_sivm_instruction\u001b[1;34m(self, instruction)\u001b[0m\n\u001b[0;32m    127\u001b[0m             \u001b[0mdesugared_src_location\u001b[0m\u001b[1;33m[\u001b[0m\u001b[1;34m'expression_index'\u001b[0m\u001b[1;33m]\u001b[0m \u001b[1;33m=\u001b[0m \u001b[0mnew_index\u001b[0m\u001b[1;33m\u001b[0m\u001b[0m\n\u001b[0;32m    128\u001b[0m         \u001b[1;32mtry\u001b[0m\u001b[1;33m:\u001b[0m\u001b[1;33m\u001b[0m\u001b[0m\n\u001b[1;32m--> 129\u001b[1;33m             \u001b[0mresponse\u001b[0m \u001b[1;33m=\u001b[0m \u001b[0mself\u001b[0m\u001b[1;33m.\u001b[0m\u001b[0mcore_sivm\u001b[0m\u001b[1;33m.\u001b[0m\u001b[0mexecute_instruction\u001b[0m\u001b[1;33m(\u001b[0m\u001b[0mdesugared_instruction\u001b[0m\u001b[1;33m)\u001b[0m\u001b[1;33m\u001b[0m\u001b[0m\n\u001b[0m\u001b[0;32m    130\u001b[0m         \u001b[1;32mexcept\u001b[0m \u001b[0mVentureException\u001b[0m \u001b[1;32mas\u001b[0m \u001b[0me\u001b[0m\u001b[1;33m:\u001b[0m\u001b[1;33m\u001b[0m\u001b[0m\n\u001b[0;32m    131\u001b[0m             \u001b[1;31m# raise # One can suppress error annotation by uncommenting this\u001b[0m\u001b[1;33m\u001b[0m\u001b[1;33m\u001b[0m\u001b[0m\n",
      "\u001b[1;32m/usr/local/lib/python2.7/dist-packages/venture/sivm/core_sivm.pyc\u001b[0m in \u001b[0;36mexecute_instruction\u001b[1;34m(self, instruction)\u001b[0m\n\u001b[0;32m     44\u001b[0m         \u001b[0mutils\u001b[0m\u001b[1;33m.\u001b[0m\u001b[0mvalidate_instruction\u001b[0m\u001b[1;33m(\u001b[0m\u001b[0minstruction\u001b[0m\u001b[1;33m,\u001b[0m\u001b[0mself\u001b[0m\u001b[1;33m.\u001b[0m\u001b[0m_implemented_instructions\u001b[0m\u001b[1;33m)\u001b[0m\u001b[1;33m\u001b[0m\u001b[0m\n\u001b[0;32m     45\u001b[0m         \u001b[0mf\u001b[0m \u001b[1;33m=\u001b[0m \u001b[0mgetattr\u001b[0m\u001b[1;33m(\u001b[0m\u001b[0mself\u001b[0m\u001b[1;33m,\u001b[0m\u001b[1;34m'_do_'\u001b[0m\u001b[1;33m+\u001b[0m\u001b[0minstruction\u001b[0m\u001b[1;33m[\u001b[0m\u001b[1;34m'instruction'\u001b[0m\u001b[1;33m]\u001b[0m\u001b[1;33m)\u001b[0m\u001b[1;33m\u001b[0m\u001b[0m\n\u001b[1;32m---> 46\u001b[1;33m         \u001b[1;32mreturn\u001b[0m \u001b[0mf\u001b[0m\u001b[1;33m(\u001b[0m\u001b[0minstruction\u001b[0m\u001b[1;33m)\u001b[0m\u001b[1;33m\u001b[0m\u001b[0m\n\u001b[0m\u001b[0;32m     47\u001b[0m \u001b[1;33m\u001b[0m\u001b[0m\n\u001b[0;32m     48\u001b[0m     \u001b[1;31m###############################\u001b[0m\u001b[1;33m\u001b[0m\u001b[1;33m\u001b[0m\u001b[0m\n",
      "\u001b[1;32m/usr/local/lib/python2.7/dist-packages/venture/sivm/core_sivm.pyc\u001b[0m in \u001b[0;36m_do_infer\u001b[1;34m(self, instruction)\u001b[0m\n\u001b[0;32m    158\u001b[0m         e = utils.validate_arg(instruction,'expression',\n\u001b[0;32m    159\u001b[0m                 utils.validate_expression,modifier=_modify_expression, wrap_exception=False)\n\u001b[1;32m--> 160\u001b[1;33m         \u001b[1;33m(\u001b[0m\u001b[0mdid\u001b[0m\u001b[1;33m,\u001b[0m \u001b[0mval\u001b[0m\u001b[1;33m)\u001b[0m \u001b[1;33m=\u001b[0m \u001b[0mself\u001b[0m\u001b[1;33m.\u001b[0m\u001b[0mengine\u001b[0m\u001b[1;33m.\u001b[0m\u001b[0minfer\u001b[0m\u001b[1;33m(\u001b[0m\u001b[0me\u001b[0m\u001b[1;33m)\u001b[0m\u001b[1;33m\u001b[0m\u001b[0m\n\u001b[0m\u001b[0;32m    161\u001b[0m         \u001b[1;32mreturn\u001b[0m \u001b[1;33m{\u001b[0m\u001b[1;34m\"directive_id\"\u001b[0m\u001b[1;33m:\u001b[0m \u001b[0mdid\u001b[0m\u001b[1;33m,\u001b[0m \u001b[1;34m\"value\"\u001b[0m\u001b[1;33m:\u001b[0m\u001b[0mval\u001b[0m\u001b[1;33m}\u001b[0m\u001b[1;33m\u001b[0m\u001b[0m\n\u001b[0;32m    162\u001b[0m \u001b[1;33m\u001b[0m\u001b[0m\n",
      "\u001b[1;32m/usr/local/lib/python2.7/dist-packages/venture/engine/engine.pyc\u001b[0m in \u001b[0;36minfer\u001b[1;34m(self, program)\u001b[0m\n\u001b[0;32m    206\u001b[0m       \u001b[1;32mreturn\u001b[0m \u001b[1;33m(\u001b[0m\u001b[0mNone\u001b[0m\u001b[1;33m,\u001b[0m \u001b[0mNone\u001b[0m\u001b[1;33m)\u001b[0m \u001b[1;31m# The core_sivm expects a 2-tuple\u001b[0m\u001b[1;33m\u001b[0m\u001b[0m\n\u001b[0;32m    207\u001b[0m     \u001b[1;32melse\u001b[0m\u001b[1;33m:\u001b[0m\u001b[1;33m\u001b[0m\u001b[0m\n\u001b[1;32m--> 208\u001b[1;33m       \u001b[1;32mreturn\u001b[0m \u001b[0mself\u001b[0m\u001b[1;33m.\u001b[0m\u001b[0mevaluate\u001b[0m\u001b[1;33m(\u001b[0m\u001b[1;33m[\u001b[0m\u001b[0mv\u001b[0m\u001b[1;33m.\u001b[0m\u001b[0msym\u001b[0m\u001b[1;33m(\u001b[0m\u001b[1;34m\"run\"\u001b[0m\u001b[1;33m)\u001b[0m\u001b[1;33m,\u001b[0m \u001b[0mprogram\u001b[0m\u001b[1;33m]\u001b[0m\u001b[1;33m)\u001b[0m\u001b[1;33m\u001b[0m\u001b[0m\n\u001b[0m\u001b[0;32m    209\u001b[0m \u001b[1;33m\u001b[0m\u001b[0m\n\u001b[0;32m    210\u001b[0m   \u001b[1;32mdef\u001b[0m \u001b[0mis_infer_loop_program\u001b[0m\u001b[1;33m(\u001b[0m\u001b[0mself\u001b[0m\u001b[1;33m,\u001b[0m \u001b[0mprogram\u001b[0m\u001b[1;33m)\u001b[0m\u001b[1;33m:\u001b[0m\u001b[1;33m\u001b[0m\u001b[0m\n",
      "\u001b[1;32m/usr/local/lib/python2.7/dist-packages/venture/engine/engine.pyc\u001b[0m in \u001b[0;36mevaluate\u001b[1;34m(self, program)\u001b[0m\n\u001b[0;32m    169\u001b[0m   \u001b[1;32mdef\u001b[0m \u001b[0mevaluate\u001b[0m\u001b[1;33m(\u001b[0m\u001b[0mself\u001b[0m\u001b[1;33m,\u001b[0m \u001b[0mprogram\u001b[0m\u001b[1;33m)\u001b[0m\u001b[1;33m:\u001b[0m\u001b[1;33m\u001b[0m\u001b[0m\n\u001b[0;32m    170\u001b[0m     \u001b[1;32mwith\u001b[0m \u001b[0mself\u001b[0m\u001b[1;33m.\u001b[0m\u001b[0minference_trace\u001b[0m\u001b[1;33m(\u001b[0m\u001b[1;33m)\u001b[0m\u001b[1;33m:\u001b[0m\u001b[1;33m\u001b[0m\u001b[0m\n\u001b[1;32m--> 171\u001b[1;33m       \u001b[0mdid\u001b[0m \u001b[1;33m=\u001b[0m \u001b[0mself\u001b[0m\u001b[1;33m.\u001b[0m\u001b[0m_do_evaluate\u001b[0m\u001b[1;33m(\u001b[0m\u001b[0mprogram\u001b[0m\u001b[1;33m)\u001b[0m\u001b[1;33m\u001b[0m\u001b[0m\n\u001b[0m\u001b[0;32m    172\u001b[0m       \u001b[0mans\u001b[0m \u001b[1;33m=\u001b[0m \u001b[0mself\u001b[0m\u001b[1;33m.\u001b[0m\u001b[0minfer_trace\u001b[0m\u001b[1;33m.\u001b[0m\u001b[0mextractValue\u001b[0m\u001b[1;33m(\u001b[0m\u001b[0mdid\u001b[0m\u001b[1;33m)\u001b[0m\u001b[1;33m\u001b[0m\u001b[0m\n\u001b[0;32m    173\u001b[0m       \u001b[0mself\u001b[0m\u001b[1;33m.\u001b[0m\u001b[0minfer_trace\u001b[0m\u001b[1;33m.\u001b[0m\u001b[0muneval\u001b[0m\u001b[1;33m(\u001b[0m\u001b[0mdid\u001b[0m\u001b[1;33m)\u001b[0m \u001b[1;31m# TODO This becomes \"forget\" after the engine.Trace wrapper\u001b[0m\u001b[1;33m\u001b[0m\u001b[0m\n",
      "\u001b[1;32m/usr/local/lib/python2.7/dist-packages/venture/engine/engine.pyc\u001b[0m in \u001b[0;36m_do_evaluate\u001b[1;34m(self, program)\u001b[0m\n\u001b[0;32m    177\u001b[0m   \u001b[1;32mdef\u001b[0m \u001b[0m_do_evaluate\u001b[0m\u001b[1;33m(\u001b[0m\u001b[0mself\u001b[0m\u001b[1;33m,\u001b[0m \u001b[0mprogram\u001b[0m\u001b[1;33m)\u001b[0m\u001b[1;33m:\u001b[0m\u001b[1;33m\u001b[0m\u001b[0m\n\u001b[0;32m    178\u001b[0m     \u001b[0mdid\u001b[0m \u001b[1;33m=\u001b[0m \u001b[0mself\u001b[0m\u001b[1;33m.\u001b[0m\u001b[0mnextBaseAddr\u001b[0m\u001b[1;33m(\u001b[0m\u001b[1;33m)\u001b[0m\u001b[1;33m\u001b[0m\u001b[0m\n\u001b[1;32m--> 179\u001b[1;33m     \u001b[0mself\u001b[0m\u001b[1;33m.\u001b[0m\u001b[0minfer_trace\u001b[0m\u001b[1;33m.\u001b[0m\u001b[0meval\u001b[0m\u001b[1;33m(\u001b[0m\u001b[0mdid\u001b[0m\u001b[1;33m,\u001b[0m \u001b[0mprogram\u001b[0m\u001b[1;33m)\u001b[0m\u001b[1;33m\u001b[0m\u001b[0m\n\u001b[0m\u001b[0;32m    180\u001b[0m     \u001b[1;32mreturn\u001b[0m \u001b[0mdid\u001b[0m\u001b[1;33m\u001b[0m\u001b[0m\n\u001b[0;32m    181\u001b[0m \u001b[1;33m\u001b[0m\u001b[0m\n",
      "\u001b[1;32m/usr/local/lib/python2.7/dist-packages/venture/untraced/trace.pyc\u001b[0m in \u001b[0;36meval\u001b[1;34m(self, id, exp)\u001b[0m\n\u001b[0;32m     48\u001b[0m     \u001b[1;32massert\u001b[0m \u001b[0mid\u001b[0m \u001b[1;32mnot\u001b[0m \u001b[1;32min\u001b[0m \u001b[0mself\u001b[0m\u001b[1;33m.\u001b[0m\u001b[0mresults\u001b[0m\u001b[1;33m\u001b[0m\u001b[0m\n\u001b[0;32m     49\u001b[0m     \u001b[0mpy_exp\u001b[0m \u001b[1;33m=\u001b[0m \u001b[0mt\u001b[0m\u001b[1;33m.\u001b[0m\u001b[0mExpressionType\u001b[0m\u001b[1;33m(\u001b[0m\u001b[1;33m)\u001b[0m\u001b[1;33m.\u001b[0m\u001b[0masPython\u001b[0m\u001b[1;33m(\u001b[0m\u001b[0mvv\u001b[0m\u001b[1;33m.\u001b[0m\u001b[0mVentureValue\u001b[0m\u001b[1;33m.\u001b[0m\u001b[0mfromStackDict\u001b[0m\u001b[1;33m(\u001b[0m\u001b[0mexp\u001b[0m\u001b[1;33m)\u001b[0m\u001b[1;33m)\u001b[0m\u001b[1;33m\u001b[0m\u001b[0m\n\u001b[1;32m---> 50\u001b[1;33m     \u001b[0mval\u001b[0m \u001b[1;33m=\u001b[0m \u001b[0mevaluator\u001b[0m\u001b[1;33m.\u001b[0m\u001b[0meval\u001b[0m\u001b[1;33m(\u001b[0m\u001b[0maddr\u001b[0m\u001b[1;33m.\u001b[0m\u001b[0mAddress\u001b[0m\u001b[1;33m(\u001b[0m\u001b[0maddr\u001b[0m\u001b[1;33m.\u001b[0m\u001b[0mList\u001b[0m\u001b[1;33m(\u001b[0m\u001b[0mid\u001b[0m\u001b[1;33m)\u001b[0m\u001b[1;33m)\u001b[0m\u001b[1;33m,\u001b[0m \u001b[0mpy_exp\u001b[0m\u001b[1;33m,\u001b[0m \u001b[0mself\u001b[0m\u001b[1;33m.\u001b[0m\u001b[0menv\u001b[0m\u001b[1;33m)\u001b[0m\u001b[1;33m\u001b[0m\u001b[0m\n\u001b[0m\u001b[0;32m     51\u001b[0m     \u001b[1;32massert\u001b[0m \u001b[0misinstance\u001b[0m\u001b[1;33m(\u001b[0m\u001b[0mval\u001b[0m\u001b[1;33m,\u001b[0m \u001b[0mvv\u001b[0m\u001b[1;33m.\u001b[0m\u001b[0mVentureValue\u001b[0m\u001b[1;33m)\u001b[0m\u001b[1;33m\u001b[0m\u001b[0m\n\u001b[0;32m     52\u001b[0m     \u001b[0mself\u001b[0m\u001b[1;33m.\u001b[0m\u001b[0mresults\u001b[0m\u001b[1;33m[\u001b[0m\u001b[0mid\u001b[0m\u001b[1;33m]\u001b[0m \u001b[1;33m=\u001b[0m \u001b[0mval\u001b[0m\u001b[1;33m\u001b[0m\u001b[0m\n",
      "\u001b[1;32m/usr/local/lib/python2.7/dist-packages/venture/untraced/evaluator.pyc\u001b[0m in \u001b[0;36meval\u001b[1;34m(address, exp, env)\u001b[0m\n\u001b[0;32m     52\u001b[0m \u001b[1;33m\u001b[0m\u001b[0m\n\u001b[0;32m     53\u001b[0m     \u001b[1;32mtry\u001b[0m\u001b[1;33m:\u001b[0m\u001b[1;33m\u001b[0m\u001b[0m\n\u001b[1;32m---> 54\u001b[1;33m       \u001b[0mval\u001b[0m \u001b[1;33m=\u001b[0m \u001b[0mapply\u001b[0m\u001b[1;33m(\u001b[0m\u001b[0maddress\u001b[0m\u001b[1;33m,\u001b[0m \u001b[0mnodes\u001b[0m\u001b[1;33m,\u001b[0m \u001b[0menv\u001b[0m\u001b[1;33m)\u001b[0m\u001b[1;33m\u001b[0m\u001b[0m\n\u001b[0m\u001b[0;32m     55\u001b[0m     \u001b[1;32mexcept\u001b[0m \u001b[0mVentureNestedRiplMethodError\u001b[0m \u001b[1;32mas\u001b[0m \u001b[0merr\u001b[0m\u001b[1;33m:\u001b[0m\u001b[1;33m\u001b[0m\u001b[0m\n\u001b[0;32m     56\u001b[0m       \u001b[1;31m# This is a hack to allow errors raised by inference SP actions\u001b[0m\u001b[1;33m\u001b[0m\u001b[1;33m\u001b[0m\u001b[0m\n",
      "\u001b[1;32m/usr/local/lib/python2.7/dist-packages/venture/untraced/evaluator.pyc\u001b[0m in \u001b[0;36mapply\u001b[1;34m(address, nodes, env)\u001b[0m\n\u001b[0;32m     76\u001b[0m   \u001b[0mreq_args\u001b[0m \u001b[1;33m=\u001b[0m \u001b[0mRequestArgs\u001b[0m\u001b[1;33m(\u001b[0m\u001b[0maddress\u001b[0m\u001b[1;33m,\u001b[0m \u001b[0mnodes\u001b[0m\u001b[1;33m[\u001b[0m\u001b[1;36m1\u001b[0m\u001b[1;33m:\u001b[0m\u001b[1;33m]\u001b[0m\u001b[1;33m,\u001b[0m \u001b[0menv\u001b[0m\u001b[1;33m)\u001b[0m\u001b[1;33m\u001b[0m\u001b[0m\n\u001b[0;32m     77\u001b[0m   \u001b[0mrequests\u001b[0m \u001b[1;33m=\u001b[0m \u001b[0mapplyPSP\u001b[0m\u001b[1;33m(\u001b[0m\u001b[0mspr\u001b[0m\u001b[1;33m.\u001b[0m\u001b[0msp\u001b[0m\u001b[1;33m.\u001b[0m\u001b[0mrequestPSP\u001b[0m\u001b[1;33m,\u001b[0m \u001b[0mreq_args\u001b[0m\u001b[1;33m)\u001b[0m\u001b[1;33m\u001b[0m\u001b[0m\n\u001b[1;32m---> 78\u001b[1;33m   \u001b[0mreq_nodes\u001b[0m \u001b[1;33m=\u001b[0m \u001b[1;33m[\u001b[0m\u001b[0mevalRequest\u001b[0m\u001b[1;33m(\u001b[0m\u001b[0mreq_args\u001b[0m\u001b[1;33m,\u001b[0m \u001b[0mspr\u001b[0m\u001b[1;33m,\u001b[0m \u001b[0mr\u001b[0m\u001b[1;33m)\u001b[0m \u001b[1;32mfor\u001b[0m \u001b[0mr\u001b[0m \u001b[1;32min\u001b[0m \u001b[0mrequests\u001b[0m\u001b[1;33m.\u001b[0m\u001b[0mesrs\u001b[0m\u001b[1;33m]\u001b[0m\u001b[1;33m\u001b[0m\u001b[0m\n\u001b[0m\u001b[0;32m     79\u001b[0m   \u001b[1;32massert\u001b[0m \u001b[1;32mnot\u001b[0m \u001b[0mrequests\u001b[0m\u001b[1;33m.\u001b[0m\u001b[0mlsrs\u001b[0m\u001b[1;33m,\u001b[0m \u001b[1;34m\"The untraced evaluator does not yet support LSRs.\"\u001b[0m\u001b[1;33m\u001b[0m\u001b[0m\n\u001b[0;32m     80\u001b[0m   \u001b[1;32mreturn\u001b[0m \u001b[0mapplyPSP\u001b[0m\u001b[1;33m(\u001b[0m\u001b[0mspr\u001b[0m\u001b[1;33m.\u001b[0m\u001b[0msp\u001b[0m\u001b[1;33m.\u001b[0m\u001b[0moutputPSP\u001b[0m\u001b[1;33m,\u001b[0m \u001b[0mOutputArgs\u001b[0m\u001b[1;33m(\u001b[0m\u001b[0maddress\u001b[0m\u001b[1;33m,\u001b[0m \u001b[0mnodes\u001b[0m\u001b[1;33m[\u001b[0m\u001b[1;36m1\u001b[0m\u001b[1;33m:\u001b[0m\u001b[1;33m]\u001b[0m\u001b[1;33m,\u001b[0m \u001b[0menv\u001b[0m\u001b[1;33m,\u001b[0m \u001b[0mreq_nodes\u001b[0m\u001b[1;33m)\u001b[0m\u001b[1;33m)\u001b[0m\u001b[1;33m\u001b[0m\u001b[0m\n",
      "\u001b[1;32m/usr/local/lib/python2.7/dist-packages/venture/untraced/evaluator.pyc\u001b[0m in \u001b[0;36mevalRequest\u001b[1;34m(req_args, spr, r)\u001b[0m\n\u001b[0;32m    115\u001b[0m   \u001b[1;32melse\u001b[0m\u001b[1;33m:\u001b[0m\u001b[1;33m\u001b[0m\u001b[0m\n\u001b[0;32m    116\u001b[0m     \u001b[0mnew_addr\u001b[0m \u001b[1;33m=\u001b[0m \u001b[0mreq_args\u001b[0m\u001b[1;33m.\u001b[0m\u001b[0mnode\u001b[0m\u001b[1;33m.\u001b[0m\u001b[0maddress\u001b[0m\u001b[1;33m.\u001b[0m\u001b[0mrequest\u001b[0m\u001b[1;33m(\u001b[0m\u001b[0mr\u001b[0m\u001b[1;33m.\u001b[0m\u001b[0maddr\u001b[0m\u001b[1;33m)\u001b[0m\u001b[1;33m\u001b[0m\u001b[0m\n\u001b[1;32m--> 117\u001b[1;33m     \u001b[0mans\u001b[0m \u001b[1;33m=\u001b[0m \u001b[0mnode\u001b[0m\u001b[1;33m.\u001b[0m\u001b[0mNode\u001b[0m\u001b[1;33m(\u001b[0m\u001b[0mnew_addr\u001b[0m\u001b[1;33m,\u001b[0m \u001b[0meval\u001b[0m\u001b[1;33m(\u001b[0m\u001b[0mnew_addr\u001b[0m\u001b[1;33m,\u001b[0m \u001b[0mr\u001b[0m\u001b[1;33m.\u001b[0m\u001b[0mexp\u001b[0m\u001b[1;33m,\u001b[0m \u001b[0mr\u001b[0m\u001b[1;33m.\u001b[0m\u001b[0menv\u001b[0m\u001b[1;33m)\u001b[0m\u001b[1;33m)\u001b[0m\u001b[1;33m\u001b[0m\u001b[0m\n\u001b[0m\u001b[0;32m    118\u001b[0m     \u001b[1;32mif\u001b[0m \u001b[0mnonRepeatableRequestID\u001b[0m\u001b[1;33m(\u001b[0m\u001b[0mreq_args\u001b[0m\u001b[1;33m,\u001b[0m \u001b[0mr\u001b[0m\u001b[1;33m.\u001b[0m\u001b[0mid\u001b[0m\u001b[1;33m)\u001b[0m\u001b[1;33m:\u001b[0m\u001b[1;33m\u001b[0m\u001b[0m\n\u001b[0;32m    119\u001b[0m       \u001b[1;32mpass\u001b[0m\u001b[1;33m\u001b[0m\u001b[0m\n",
      "\u001b[1;32m/usr/local/lib/python2.7/dist-packages/venture/untraced/evaluator.pyc\u001b[0m in \u001b[0;36meval\u001b[1;34m(address, exp, env)\u001b[0m\n\u001b[0;32m     48\u001b[0m     \u001b[1;32mfor\u001b[0m \u001b[0mindex\u001b[0m\u001b[1;33m,\u001b[0m \u001b[0msubexp\u001b[0m \u001b[1;32min\u001b[0m \u001b[0menumerate\u001b[0m\u001b[1;33m(\u001b[0m\u001b[0mexp\u001b[0m\u001b[1;33m)\u001b[0m\u001b[1;33m:\u001b[0m\u001b[1;33m\u001b[0m\u001b[0m\n\u001b[0;32m     49\u001b[0m       \u001b[0maddr\u001b[0m \u001b[1;33m=\u001b[0m \u001b[0maddress\u001b[0m\u001b[1;33m.\u001b[0m\u001b[0mextend\u001b[0m\u001b[1;33m(\u001b[0m\u001b[0mindex\u001b[0m\u001b[1;33m)\u001b[0m\u001b[1;33m\u001b[0m\u001b[0m\n\u001b[1;32m---> 50\u001b[1;33m       \u001b[0mv\u001b[0m \u001b[1;33m=\u001b[0m \u001b[0meval\u001b[0m\u001b[1;33m(\u001b[0m\u001b[0maddr\u001b[0m\u001b[1;33m,\u001b[0m\u001b[0msubexp\u001b[0m\u001b[1;33m,\u001b[0m\u001b[0menv\u001b[0m\u001b[1;33m)\u001b[0m\u001b[1;33m\u001b[0m\u001b[0m\n\u001b[0m\u001b[0;32m     51\u001b[0m       \u001b[0mnodes\u001b[0m\u001b[1;33m.\u001b[0m\u001b[0mappend\u001b[0m\u001b[1;33m(\u001b[0m\u001b[0mnode\u001b[0m\u001b[1;33m.\u001b[0m\u001b[0mNode\u001b[0m\u001b[1;33m(\u001b[0m\u001b[0maddr\u001b[0m\u001b[1;33m,\u001b[0m \u001b[0mv\u001b[0m\u001b[1;33m)\u001b[0m\u001b[1;33m)\u001b[0m\u001b[1;33m\u001b[0m\u001b[0m\n\u001b[0;32m     52\u001b[0m \u001b[1;33m\u001b[0m\u001b[0m\n",
      "\u001b[1;32m/usr/local/lib/python2.7/dist-packages/venture/untraced/evaluator.pyc\u001b[0m in \u001b[0;36meval\u001b[1;34m(address, exp, env)\u001b[0m\n\u001b[0;32m     52\u001b[0m \u001b[1;33m\u001b[0m\u001b[0m\n\u001b[0;32m     53\u001b[0m     \u001b[1;32mtry\u001b[0m\u001b[1;33m:\u001b[0m\u001b[1;33m\u001b[0m\u001b[0m\n\u001b[1;32m---> 54\u001b[1;33m       \u001b[0mval\u001b[0m \u001b[1;33m=\u001b[0m \u001b[0mapply\u001b[0m\u001b[1;33m(\u001b[0m\u001b[0maddress\u001b[0m\u001b[1;33m,\u001b[0m \u001b[0mnodes\u001b[0m\u001b[1;33m,\u001b[0m \u001b[0menv\u001b[0m\u001b[1;33m)\u001b[0m\u001b[1;33m\u001b[0m\u001b[0m\n\u001b[0m\u001b[0;32m     55\u001b[0m     \u001b[1;32mexcept\u001b[0m \u001b[0mVentureNestedRiplMethodError\u001b[0m \u001b[1;32mas\u001b[0m \u001b[0merr\u001b[0m\u001b[1;33m:\u001b[0m\u001b[1;33m\u001b[0m\u001b[0m\n\u001b[0;32m     56\u001b[0m       \u001b[1;31m# This is a hack to allow errors raised by inference SP actions\u001b[0m\u001b[1;33m\u001b[0m\u001b[1;33m\u001b[0m\u001b[0m\n",
      "\u001b[1;32m/usr/local/lib/python2.7/dist-packages/venture/untraced/evaluator.pyc\u001b[0m in \u001b[0;36mapply\u001b[1;34m(address, nodes, env)\u001b[0m\n\u001b[0;32m     78\u001b[0m   \u001b[0mreq_nodes\u001b[0m \u001b[1;33m=\u001b[0m \u001b[1;33m[\u001b[0m\u001b[0mevalRequest\u001b[0m\u001b[1;33m(\u001b[0m\u001b[0mreq_args\u001b[0m\u001b[1;33m,\u001b[0m \u001b[0mspr\u001b[0m\u001b[1;33m,\u001b[0m \u001b[0mr\u001b[0m\u001b[1;33m)\u001b[0m \u001b[1;32mfor\u001b[0m \u001b[0mr\u001b[0m \u001b[1;32min\u001b[0m \u001b[0mrequests\u001b[0m\u001b[1;33m.\u001b[0m\u001b[0mesrs\u001b[0m\u001b[1;33m]\u001b[0m\u001b[1;33m\u001b[0m\u001b[0m\n\u001b[0;32m     79\u001b[0m   \u001b[1;32massert\u001b[0m \u001b[1;32mnot\u001b[0m \u001b[0mrequests\u001b[0m\u001b[1;33m.\u001b[0m\u001b[0mlsrs\u001b[0m\u001b[1;33m,\u001b[0m \u001b[1;34m\"The untraced evaluator does not yet support LSRs.\"\u001b[0m\u001b[1;33m\u001b[0m\u001b[0m\n\u001b[1;32m---> 80\u001b[1;33m   \u001b[1;32mreturn\u001b[0m \u001b[0mapplyPSP\u001b[0m\u001b[1;33m(\u001b[0m\u001b[0mspr\u001b[0m\u001b[1;33m.\u001b[0m\u001b[0msp\u001b[0m\u001b[1;33m.\u001b[0m\u001b[0moutputPSP\u001b[0m\u001b[1;33m,\u001b[0m \u001b[0mOutputArgs\u001b[0m\u001b[1;33m(\u001b[0m\u001b[0maddress\u001b[0m\u001b[1;33m,\u001b[0m \u001b[0mnodes\u001b[0m\u001b[1;33m[\u001b[0m\u001b[1;36m1\u001b[0m\u001b[1;33m:\u001b[0m\u001b[1;33m]\u001b[0m\u001b[1;33m,\u001b[0m \u001b[0menv\u001b[0m\u001b[1;33m,\u001b[0m \u001b[0mreq_nodes\u001b[0m\u001b[1;33m)\u001b[0m\u001b[1;33m)\u001b[0m\u001b[1;33m\u001b[0m\u001b[0m\n\u001b[0m\u001b[0;32m     81\u001b[0m \u001b[1;33m\u001b[0m\u001b[0m\n\u001b[0;32m     82\u001b[0m \u001b[1;32mclass\u001b[0m \u001b[0mRequestArgs\u001b[0m\u001b[1;33m(\u001b[0m\u001b[0mobject\u001b[0m\u001b[1;33m)\u001b[0m\u001b[1;33m:\u001b[0m\u001b[1;33m\u001b[0m\u001b[0m\n",
      "\u001b[1;32m/usr/local/lib/python2.7/dist-packages/venture/untraced/evaluator.pyc\u001b[0m in \u001b[0;36mapplyPSP\u001b[1;34m(psp, args)\u001b[0m\n\u001b[0;32m    105\u001b[0m \u001b[1;32mdef\u001b[0m \u001b[0mapplyPSP\u001b[0m\u001b[1;33m(\u001b[0m\u001b[0mpsp\u001b[0m\u001b[1;33m,\u001b[0m \u001b[0margs\u001b[0m\u001b[1;33m)\u001b[0m\u001b[1;33m:\u001b[0m\u001b[1;33m\u001b[0m\u001b[0m\n\u001b[0;32m    106\u001b[0m   \u001b[1;32massert\u001b[0m \u001b[0misinstance\u001b[0m\u001b[1;33m(\u001b[0m\u001b[0mpsp\u001b[0m\u001b[1;33m,\u001b[0m \u001b[0mPSP\u001b[0m\u001b[1;33m)\u001b[0m\u001b[1;33m\u001b[0m\u001b[0m\n\u001b[1;32m--> 107\u001b[1;33m   \u001b[0mval\u001b[0m \u001b[1;33m=\u001b[0m \u001b[0mpsp\u001b[0m\u001b[1;33m.\u001b[0m\u001b[0msimulate\u001b[0m\u001b[1;33m(\u001b[0m\u001b[0margs\u001b[0m\u001b[1;33m)\u001b[0m\u001b[1;33m\u001b[0m\u001b[0m\n\u001b[0m\u001b[0;32m    108\u001b[0m   \u001b[0mpsp\u001b[0m\u001b[1;33m.\u001b[0m\u001b[0mincorporate\u001b[0m\u001b[1;33m(\u001b[0m\u001b[0mval\u001b[0m\u001b[1;33m,\u001b[0m \u001b[0margs\u001b[0m\u001b[1;33m)\u001b[0m\u001b[1;33m\u001b[0m\u001b[0m\n\u001b[0;32m    109\u001b[0m   \u001b[1;32mreturn\u001b[0m \u001b[0mval\u001b[0m\u001b[1;33m\u001b[0m\u001b[0m\n",
      "\u001b[1;32m/usr/local/lib/python2.7/dist-packages/venture/lite/psp.pyc\u001b[0m in \u001b[0;36msimulate\u001b[1;34m(self, args)\u001b[0m\n\u001b[0;32m    349\u001b[0m \u001b[1;33m\u001b[0m\u001b[0m\n\u001b[0;32m    350\u001b[0m   \u001b[1;32mdef\u001b[0m \u001b[0msimulate\u001b[0m\u001b[1;33m(\u001b[0m\u001b[0mself\u001b[0m\u001b[1;33m,\u001b[0m\u001b[0margs\u001b[0m\u001b[1;33m)\u001b[0m\u001b[1;33m:\u001b[0m\u001b[1;33m\u001b[0m\u001b[0m\n\u001b[1;32m--> 351\u001b[1;33m     \u001b[1;32mreturn\u001b[0m \u001b[0mself\u001b[0m\u001b[1;33m.\u001b[0m\u001b[0mf_type\u001b[0m\u001b[1;33m.\u001b[0m\u001b[0mwrap_return\u001b[0m\u001b[1;33m(\u001b[0m\u001b[0mself\u001b[0m\u001b[1;33m.\u001b[0m\u001b[0mpsp\u001b[0m\u001b[1;33m.\u001b[0m\u001b[0msimulate\u001b[0m\u001b[1;33m(\u001b[0m\u001b[0mself\u001b[0m\u001b[1;33m.\u001b[0m\u001b[0mf_type\u001b[0m\u001b[1;33m.\u001b[0m\u001b[0munwrap_args\u001b[0m\u001b[1;33m(\u001b[0m\u001b[0margs\u001b[0m\u001b[1;33m)\u001b[0m\u001b[1;33m)\u001b[0m\u001b[1;33m)\u001b[0m\u001b[1;33m\u001b[0m\u001b[0m\n\u001b[0m\u001b[0;32m    352\u001b[0m   \u001b[1;32mdef\u001b[0m \u001b[0mgradientOfSimulate\u001b[0m\u001b[1;33m(\u001b[0m\u001b[0mself\u001b[0m\u001b[1;33m,\u001b[0m \u001b[0margs\u001b[0m\u001b[1;33m,\u001b[0m \u001b[0mvalue\u001b[0m\u001b[1;33m,\u001b[0m \u001b[0mdirection\u001b[0m\u001b[1;33m)\u001b[0m\u001b[1;33m:\u001b[0m\u001b[1;33m\u001b[0m\u001b[0m\n\u001b[0;32m    353\u001b[0m     \u001b[1;31m# TODO Should gradientOfSimulate unwrap the direction and wrap the\u001b[0m\u001b[1;33m\u001b[0m\u001b[1;33m\u001b[0m\u001b[0m\n",
      "\u001b[1;32m/usr/local/lib/python2.7/dist-packages/venture/lite/inference_sps.pyc\u001b[0m in \u001b[0;36msimulate\u001b[1;34m(self, args)\u001b[0m\n\u001b[0;32m     50\u001b[0m   \u001b[1;32mdef\u001b[0m \u001b[0msimulate\u001b[0m\u001b[1;33m(\u001b[0m\u001b[0mself\u001b[0m\u001b[1;33m,\u001b[0m \u001b[0margs\u001b[0m\u001b[1;33m)\u001b[0m\u001b[1;33m:\u001b[0m\u001b[1;33m\u001b[0m\u001b[0m\n\u001b[0;32m     51\u001b[0m     \u001b[0mengine\u001b[0m \u001b[1;33m=\u001b[0m \u001b[0margs\u001b[0m\u001b[1;33m.\u001b[0m\u001b[0moperandValues\u001b[0m\u001b[1;33m(\u001b[0m\u001b[1;33m)\u001b[0m\u001b[1;33m[\u001b[0m\u001b[1;36m0\u001b[0m\u001b[1;33m]\u001b[0m\u001b[1;33m\u001b[0m\u001b[0m\n\u001b[1;32m---> 52\u001b[1;33m     \u001b[0mans\u001b[0m \u001b[1;33m=\u001b[0m \u001b[0mengine\u001b[0m\u001b[1;33m.\u001b[0m\u001b[0mprimitive_infer\u001b[0m\u001b[1;33m(\u001b[0m\u001b[0mself\u001b[0m\u001b[1;33m.\u001b[0m\u001b[0mexp\u001b[0m\u001b[1;33m)\u001b[0m\u001b[1;33m\u001b[0m\u001b[0m\n\u001b[0m\u001b[0;32m     53\u001b[0m     \u001b[1;32mreturn\u001b[0m \u001b[1;33m(\u001b[0m\u001b[0mans\u001b[0m\u001b[1;33m,\u001b[0m \u001b[0mengine\u001b[0m\u001b[1;33m)\u001b[0m\u001b[1;33m\u001b[0m\u001b[0m\n\u001b[0;32m     54\u001b[0m \u001b[1;33m\u001b[0m\u001b[0m\n",
      "\u001b[1;32m/usr/local/lib/python2.7/dist-packages/venture/engine/inference.pyc\u001b[0m in \u001b[0;36mprimitive_infer\u001b[1;34m(self, exp)\u001b[0m\n\u001b[0;32m     88\u001b[0m       \u001b[1;32mreturn\u001b[0m \u001b[0mitem\u001b[0m\u001b[1;33m\u001b[0m\u001b[0m\n\u001b[0;32m     89\u001b[0m \u001b[1;33m\u001b[0m\u001b[0m\n\u001b[1;32m---> 90\u001b[1;33m   \u001b[1;32mdef\u001b[0m \u001b[0mprimitive_infer\u001b[0m\u001b[1;33m(\u001b[0m\u001b[0mself\u001b[0m\u001b[1;33m,\u001b[0m \u001b[0mexp\u001b[0m\u001b[1;33m)\u001b[0m\u001b[1;33m:\u001b[0m \u001b[0mself\u001b[0m\u001b[1;33m.\u001b[0m\u001b[0mengine\u001b[0m\u001b[1;33m.\u001b[0m\u001b[0mprimitive_infer\u001b[0m\u001b[1;33m(\u001b[0m\u001b[0mexp\u001b[0m\u001b[1;33m)\u001b[0m\u001b[1;33m\u001b[0m\u001b[0m\n\u001b[0m\u001b[0;32m     91\u001b[0m   \u001b[1;32mdef\u001b[0m \u001b[0mresample\u001b[0m\u001b[1;33m(\u001b[0m\u001b[0mself\u001b[0m\u001b[1;33m,\u001b[0m \u001b[0mct\u001b[0m\u001b[1;33m)\u001b[0m\u001b[1;33m:\u001b[0m \u001b[0mself\u001b[0m\u001b[1;33m.\u001b[0m\u001b[0mengine\u001b[0m\u001b[1;33m.\u001b[0m\u001b[0mresample\u001b[0m\u001b[1;33m(\u001b[0m\u001b[0mct\u001b[0m\u001b[1;33m,\u001b[0m \u001b[1;34m'sequential'\u001b[0m\u001b[1;33m)\u001b[0m\u001b[1;33m\u001b[0m\u001b[0m\n\u001b[0;32m     92\u001b[0m   \u001b[1;32mdef\u001b[0m \u001b[0mresample_serializing\u001b[0m\u001b[1;33m(\u001b[0m\u001b[0mself\u001b[0m\u001b[1;33m,\u001b[0m \u001b[0mct\u001b[0m\u001b[1;33m)\u001b[0m\u001b[1;33m:\u001b[0m \u001b[0mself\u001b[0m\u001b[1;33m.\u001b[0m\u001b[0mengine\u001b[0m\u001b[1;33m.\u001b[0m\u001b[0mresample\u001b[0m\u001b[1;33m(\u001b[0m\u001b[0mct\u001b[0m\u001b[1;33m,\u001b[0m \u001b[1;34m'serializing'\u001b[0m\u001b[1;33m)\u001b[0m\u001b[1;33m\u001b[0m\u001b[0m\n",
      "\u001b[1;32m/usr/local/lib/python2.7/dist-packages/venture/engine/engine.pyc\u001b[0m in \u001b[0;36mprimitive_infer\u001b[1;34m(self, exp)\u001b[0m\n\u001b[0;32m    238\u001b[0m       \u001b[0mself\u001b[0m\u001b[1;33m.\u001b[0m\u001b[0m_define_in\u001b[0m\u001b[1;33m(\u001b[0m\u001b[0mname\u001b[0m\u001b[1;33m,\u001b[0m \u001b[0mexp\u001b[0m\u001b[1;33m,\u001b[0m \u001b[0mnext_trace\u001b[0m\u001b[1;33m)\u001b[0m\u001b[1;33m\u001b[0m\u001b[0m\n\u001b[0;32m    239\u001b[0m \u001b[1;33m\u001b[0m\u001b[0m\n\u001b[1;32m--> 240\u001b[1;33m   \u001b[1;32mdef\u001b[0m \u001b[0mprimitive_infer\u001b[0m\u001b[1;33m(\u001b[0m\u001b[0mself\u001b[0m\u001b[1;33m,\u001b[0m \u001b[0mexp\u001b[0m\u001b[1;33m)\u001b[0m\u001b[1;33m:\u001b[0m \u001b[0mself\u001b[0m\u001b[1;33m.\u001b[0m\u001b[0mmodel\u001b[0m\u001b[1;33m.\u001b[0m\u001b[0mprimitive_infer\u001b[0m\u001b[1;33m(\u001b[0m\u001b[0mexp\u001b[0m\u001b[1;33m)\u001b[0m\u001b[1;33m\u001b[0m\u001b[0m\n\u001b[0m\u001b[0;32m    241\u001b[0m   \u001b[1;32mdef\u001b[0m \u001b[0mlogscore\u001b[0m\u001b[1;33m(\u001b[0m\u001b[0mself\u001b[0m\u001b[1;33m)\u001b[0m\u001b[1;33m:\u001b[0m \u001b[1;32mreturn\u001b[0m \u001b[0mself\u001b[0m\u001b[1;33m.\u001b[0m\u001b[0mmodel\u001b[0m\u001b[1;33m.\u001b[0m\u001b[0mlogscore\u001b[0m\u001b[1;33m(\u001b[0m\u001b[1;33m)\u001b[0m\u001b[1;33m\u001b[0m\u001b[0m\n\u001b[0;32m    242\u001b[0m   \u001b[1;32mdef\u001b[0m \u001b[0mlogscore_all\u001b[0m\u001b[1;33m(\u001b[0m\u001b[0mself\u001b[0m\u001b[1;33m)\u001b[0m\u001b[1;33m:\u001b[0m \u001b[1;32mreturn\u001b[0m \u001b[0mself\u001b[0m\u001b[1;33m.\u001b[0m\u001b[0mmodel\u001b[0m\u001b[1;33m.\u001b[0m\u001b[0mlogscore_all\u001b[0m\u001b[1;33m(\u001b[0m\u001b[1;33m)\u001b[0m\u001b[1;33m\u001b[0m\u001b[0m\n",
      "\u001b[1;32m/usr/local/lib/python2.7/dist-packages/venture/engine/trace_set.pyc\u001b[0m in \u001b[0;36mprimitive_infer\u001b[1;34m(self, exp)\u001b[0m\n\u001b[0;32m    194\u001b[0m \u001b[1;33m\u001b[0m\u001b[0m\n\u001b[0;32m    195\u001b[0m   \u001b[1;32mdef\u001b[0m \u001b[0mprimitive_infer\u001b[0m\u001b[1;33m(\u001b[0m\u001b[0mself\u001b[0m\u001b[1;33m,\u001b[0m \u001b[0mexp\u001b[0m\u001b[1;33m)\u001b[0m\u001b[1;33m:\u001b[0m\u001b[1;33m\u001b[0m\u001b[0m\n\u001b[1;32m--> 196\u001b[1;33m     \u001b[0mself\u001b[0m\u001b[1;33m.\u001b[0m\u001b[0mtraces\u001b[0m\u001b[1;33m.\u001b[0m\u001b[0mmap\u001b[0m\u001b[1;33m(\u001b[0m\u001b[1;34m'primitive_infer'\u001b[0m\u001b[1;33m,\u001b[0m \u001b[0mexp\u001b[0m\u001b[1;33m)\u001b[0m\u001b[1;33m\u001b[0m\u001b[0m\n\u001b[0m\u001b[0;32m    197\u001b[0m \u001b[1;33m\u001b[0m\u001b[0m\n\u001b[0;32m    198\u001b[0m   \u001b[1;32mdef\u001b[0m \u001b[0mlogscore\u001b[0m\u001b[1;33m(\u001b[0m\u001b[0mself\u001b[0m\u001b[1;33m)\u001b[0m\u001b[1;33m:\u001b[0m \u001b[1;32mreturn\u001b[0m \u001b[0mself\u001b[0m\u001b[1;33m.\u001b[0m\u001b[0mtraces\u001b[0m\u001b[1;33m.\u001b[0m\u001b[0mat_distinguished\u001b[0m\u001b[1;33m(\u001b[0m\u001b[1;34m'getGlobalLogScore'\u001b[0m\u001b[1;33m)\u001b[0m\u001b[1;33m\u001b[0m\u001b[0m\n",
      "\u001b[1;32m/usr/local/lib/python2.7/dist-packages/venture/multiprocess.pyc\u001b[0m in \u001b[0;36mmap\u001b[1;34m(self, cmd, *args, **kwargs)\u001b[0m\n\u001b[0;32m    192\u001b[0m     \u001b[1;34m'''Delegate command to all workers'''\u001b[0m\u001b[1;33m\u001b[0m\u001b[0m\n\u001b[0;32m    193\u001b[0m     \u001b[1;31m# send command\u001b[0m\u001b[1;33m\u001b[0m\u001b[1;33m\u001b[0m\u001b[0m\n\u001b[1;32m--> 194\u001b[1;33m     \u001b[1;32mfor\u001b[0m \u001b[0mpipe\u001b[0m \u001b[1;32min\u001b[0m \u001b[0mself\u001b[0m\u001b[1;33m.\u001b[0m\u001b[0mpipes\u001b[0m\u001b[1;33m:\u001b[0m \u001b[0mpipe\u001b[0m\u001b[1;33m.\u001b[0m\u001b[0msend\u001b[0m\u001b[1;33m(\u001b[0m\u001b[1;33m(\u001b[0m\u001b[0mcmd\u001b[0m\u001b[1;33m,\u001b[0m \u001b[0margs\u001b[0m\u001b[1;33m,\u001b[0m \u001b[0mkwargs\u001b[0m\u001b[1;33m,\u001b[0m \u001b[0mNone\u001b[0m\u001b[1;33m)\u001b[0m\u001b[1;33m)\u001b[0m\u001b[1;33m\u001b[0m\u001b[0m\n\u001b[0m\u001b[0;32m    195\u001b[0m     \u001b[1;32mif\u001b[0m \u001b[0mcmd\u001b[0m \u001b[1;33m==\u001b[0m \u001b[1;34m'stop'\u001b[0m\u001b[1;33m:\u001b[0m \u001b[1;32mreturn\u001b[0m\u001b[1;33m\u001b[0m\u001b[0m\n\u001b[0;32m    196\u001b[0m     \u001b[0mres\u001b[0m \u001b[1;33m=\u001b[0m \u001b[1;33m[\u001b[0m\u001b[1;33m]\u001b[0m\u001b[1;33m\u001b[0m\u001b[0m\n",
      "\u001b[1;32m/usr/local/lib/python2.7/dist-packages/venture/multiprocess.pyc\u001b[0m in \u001b[0;36msend\u001b[1;34m(self, obj)\u001b[0m\n\u001b[0;32m    544\u001b[0m \u001b[1;33m\u001b[0m\u001b[0m\n\u001b[0;32m    545\u001b[0m   \u001b[1;32mdef\u001b[0m \u001b[0msend\u001b[0m\u001b[1;33m(\u001b[0m\u001b[0mself\u001b[0m\u001b[1;33m,\u001b[0m \u001b[0mobj\u001b[0m\u001b[1;33m)\u001b[0m\u001b[1;33m:\u001b[0m\u001b[1;33m\u001b[0m\u001b[0m\n\u001b[1;32m--> 546\u001b[1;33m     \u001b[0mself\u001b[0m\u001b[1;33m.\u001b[0m\u001b[0mother\u001b[0m\u001b[1;33m.\u001b[0m\u001b[0memplace\u001b[0m\u001b[1;33m(\u001b[0m\u001b[0mobj\u001b[0m\u001b[1;33m)\u001b[0m\u001b[1;33m\u001b[0m\u001b[0m\n\u001b[0m\u001b[0;32m    547\u001b[0m \u001b[1;33m\u001b[0m\u001b[0m\n\u001b[0;32m    548\u001b[0m   \u001b[1;32mdef\u001b[0m \u001b[0memplace\u001b[0m\u001b[1;33m(\u001b[0m\u001b[0mself\u001b[0m\u001b[1;33m,\u001b[0m \u001b[0mobj\u001b[0m\u001b[1;33m)\u001b[0m\u001b[1;33m:\u001b[0m\u001b[1;33m\u001b[0m\u001b[0m\n",
      "\u001b[1;32m/usr/local/lib/python2.7/dist-packages/venture/multiprocess.pyc\u001b[0m in \u001b[0;36memplace\u001b[1;34m(self, obj)\u001b[0m\n\u001b[0;32m    549\u001b[0m     \u001b[0mself\u001b[0m\u001b[1;33m.\u001b[0m\u001b[0mobjs\u001b[0m\u001b[1;33m.\u001b[0m\u001b[0mappend\u001b[0m\u001b[1;33m(\u001b[0m\u001b[0mobj\u001b[0m\u001b[1;33m)\u001b[0m\u001b[1;33m\u001b[0m\u001b[0m\n\u001b[0;32m    550\u001b[0m     \u001b[1;32mfor\u001b[0m \u001b[0mcb\u001b[0m \u001b[1;32min\u001b[0m \u001b[0mself\u001b[0m\u001b[1;33m.\u001b[0m\u001b[0mcbs\u001b[0m\u001b[1;33m:\u001b[0m\u001b[1;33m\u001b[0m\u001b[0m\n\u001b[1;32m--> 551\u001b[1;33m       \u001b[0mcb\u001b[0m\u001b[1;33m(\u001b[0m\u001b[1;33m)\u001b[0m\u001b[1;33m\u001b[0m\u001b[0m\n\u001b[0m\u001b[0;32m    552\u001b[0m \u001b[1;33m\u001b[0m\u001b[0m\n\u001b[0;32m    553\u001b[0m   \u001b[1;32mdef\u001b[0m \u001b[0mrecv\u001b[0m\u001b[1;33m(\u001b[0m\u001b[0mself\u001b[0m\u001b[1;33m)\u001b[0m\u001b[1;33m:\u001b[0m\u001b[1;33m\u001b[0m\u001b[0m\n",
      "\u001b[1;32m/usr/local/lib/python2.7/dist-packages/venture/multiprocess.pyc\u001b[0m in \u001b[0;36mpoll\u001b[1;34m(self)\u001b[0m\n\u001b[0;32m    365\u001b[0m       \u001b[0mres\u001b[0m \u001b[1;33m=\u001b[0m \u001b[0mgetattr\u001b[0m\u001b[1;33m(\u001b[0m\u001b[0mself\u001b[0m\u001b[1;33m.\u001b[0m\u001b[0mobjs\u001b[0m\u001b[1;33m[\u001b[0m\u001b[0mindex\u001b[0m\u001b[1;33m]\u001b[0m\u001b[1;33m,\u001b[0m \u001b[0mcmd\u001b[0m\u001b[1;33m)\u001b[0m\u001b[1;33m(\u001b[0m\u001b[1;33m*\u001b[0m\u001b[0margs\u001b[0m\u001b[1;33m,\u001b[0m \u001b[1;33m**\u001b[0m\u001b[0mkwargs\u001b[0m\u001b[1;33m)\u001b[0m\u001b[1;33m\u001b[0m\u001b[0m\n\u001b[0;32m    366\u001b[0m     \u001b[1;32melse\u001b[0m\u001b[1;33m:\u001b[0m\u001b[1;33m\u001b[0m\u001b[0m\n\u001b[1;32m--> 367\u001b[1;33m       \u001b[0mres\u001b[0m \u001b[1;33m=\u001b[0m \u001b[1;33m[\u001b[0m\u001b[0mgetattr\u001b[0m\u001b[1;33m(\u001b[0m\u001b[0mo\u001b[0m\u001b[1;33m,\u001b[0m \u001b[0mcmd\u001b[0m\u001b[1;33m)\u001b[0m\u001b[1;33m(\u001b[0m\u001b[1;33m*\u001b[0m\u001b[0margs\u001b[0m\u001b[1;33m,\u001b[0m \u001b[1;33m**\u001b[0m\u001b[0mkwargs\u001b[0m\u001b[1;33m)\u001b[0m \u001b[1;32mfor\u001b[0m \u001b[0mo\u001b[0m \u001b[1;32min\u001b[0m \u001b[0mself\u001b[0m\u001b[1;33m.\u001b[0m\u001b[0mobjs\u001b[0m\u001b[1;33m]\u001b[0m\u001b[1;33m\u001b[0m\u001b[0m\n\u001b[0m\u001b[0;32m    368\u001b[0m     \u001b[0mself\u001b[0m\u001b[1;33m.\u001b[0m\u001b[0mpipe\u001b[0m\u001b[1;33m.\u001b[0m\u001b[0msend\u001b[0m\u001b[1;33m(\u001b[0m\u001b[0mres\u001b[0m\u001b[1;33m)\u001b[0m\u001b[1;33m\u001b[0m\u001b[0m\n\u001b[0;32m    369\u001b[0m     \u001b[1;32mreturn\u001b[0m \u001b[0mFalse\u001b[0m \u001b[1;31m# Maybe not done\u001b[0m\u001b[1;33m\u001b[0m\u001b[0m\n",
      "\u001b[1;32m/usr/local/lib/python2.7/dist-packages/venture/multiprocess.pyc\u001b[0m in \u001b[0;36mwrapped\u001b[1;34m(*args, **kwargs)\u001b[0m\n\u001b[0;32m    102\u001b[0m   \u001b[1;32mdef\u001b[0m \u001b[0mwrapped\u001b[0m\u001b[1;33m(\u001b[0m\u001b[1;33m*\u001b[0m\u001b[0margs\u001b[0m\u001b[1;33m,\u001b[0m \u001b[1;33m**\u001b[0m\u001b[0mkwargs\u001b[0m\u001b[1;33m)\u001b[0m\u001b[1;33m:\u001b[0m\u001b[1;33m\u001b[0m\u001b[0m\n\u001b[0;32m    103\u001b[0m     \u001b[1;32mtry\u001b[0m\u001b[1;33m:\u001b[0m\u001b[1;33m\u001b[0m\u001b[0m\n\u001b[1;32m--> 104\u001b[1;33m       \u001b[0mres\u001b[0m \u001b[1;33m=\u001b[0m \u001b[0mf\u001b[0m\u001b[1;33m(\u001b[0m\u001b[1;33m*\u001b[0m\u001b[0margs\u001b[0m\u001b[1;33m,\u001b[0m \u001b[1;33m**\u001b[0m\u001b[0mkwargs\u001b[0m\u001b[1;33m)\u001b[0m\u001b[1;33m\u001b[0m\u001b[0m\n\u001b[0m\u001b[0;32m    105\u001b[0m     \u001b[1;32mexcept\u001b[0m \u001b[0mException\u001b[0m\u001b[1;33m:\u001b[0m\u001b[1;33m\u001b[0m\u001b[0m\n\u001b[0;32m    106\u001b[0m       \u001b[1;31m# If I return the traceback object and try to format it\u001b[0m\u001b[1;33m\u001b[0m\u001b[1;33m\u001b[0m\u001b[0m\n",
      "\u001b[1;32m/usr/local/lib/python2.7/dist-packages/venture/multiprocess.pyc\u001b[0m in \u001b[0;36m<lambda>\u001b[1;34m(*args, **kwargs)\u001b[0m\n\u001b[0;32m    337\u001b[0m     \u001b[1;31m# @safely doesn't work as a decorator here; do it this way.\u001b[0m\u001b[1;33m\u001b[0m\u001b[1;33m\u001b[0m\u001b[0m\n\u001b[0;32m    338\u001b[0m     \u001b[1;31m# eta expand b/c getattr might fail pylint:disable=W0108\u001b[0m\u001b[1;33m\u001b[0m\u001b[1;33m\u001b[0m\u001b[0m\n\u001b[1;32m--> 339\u001b[1;33m     \u001b[1;32mreturn\u001b[0m \u001b[0msafely\u001b[0m\u001b[1;33m(\u001b[0m\u001b[1;32mlambda\u001b[0m \u001b[1;33m*\u001b[0m\u001b[0margs\u001b[0m\u001b[1;33m,\u001b[0m\u001b[1;33m**\u001b[0m\u001b[0mkwargs\u001b[0m\u001b[1;33m:\u001b[0m \u001b[0mgetattr\u001b[0m\u001b[1;33m(\u001b[0m\u001b[0mself\u001b[0m\u001b[1;33m.\u001b[0m\u001b[0mobj\u001b[0m\u001b[1;33m,\u001b[0m \u001b[0mattrname\u001b[0m\u001b[1;33m)\u001b[0m\u001b[1;33m(\u001b[0m\u001b[1;33m*\u001b[0m\u001b[0margs\u001b[0m\u001b[1;33m,\u001b[0m \u001b[1;33m**\u001b[0m\u001b[0mkwargs\u001b[0m\u001b[1;33m)\u001b[0m\u001b[1;33m)\u001b[0m\u001b[1;33m\u001b[0m\u001b[0m\n\u001b[0m\u001b[0;32m    340\u001b[0m \u001b[1;33m\u001b[0m\u001b[0m\n\u001b[0;32m    341\u001b[0m \u001b[1;33m\u001b[0m\u001b[0m\n",
      "\u001b[1;32m/usr/local/lib/python2.7/dist-packages/venture/puma/trace.pyc\u001b[0m in \u001b[0;36mprimitive_infer\u001b[1;34m(self, exp)\u001b[0m\n\u001b[0;32m     94\u001b[0m \u001b[1;33m\u001b[0m\u001b[0m\n\u001b[0;32m     95\u001b[0m   \u001b[1;32mdef\u001b[0m \u001b[0mprimitive_infer\u001b[0m\u001b[1;33m(\u001b[0m\u001b[0mself\u001b[0m\u001b[1;33m,\u001b[0m \u001b[0mexp\u001b[0m\u001b[1;33m)\u001b[0m\u001b[1;33m:\u001b[0m\u001b[1;33m\u001b[0m\u001b[0m\n\u001b[1;32m---> 96\u001b[1;33m     \u001b[0mself\u001b[0m\u001b[1;33m.\u001b[0m\u001b[0mtrace\u001b[0m\u001b[1;33m.\u001b[0m\u001b[0mprimitive_infer\u001b[0m\u001b[1;33m(\u001b[0m\u001b[0m_expToDict\u001b[0m\u001b[1;33m(\u001b[0m\u001b[0mexp\u001b[0m\u001b[1;33m)\u001b[0m\u001b[1;33m)\u001b[0m\u001b[1;33m\u001b[0m\u001b[0m\n\u001b[0m\u001b[0;32m     97\u001b[0m \u001b[1;33m\u001b[0m\u001b[0m\n\u001b[0;32m     98\u001b[0m   \u001b[1;32mdef\u001b[0m \u001b[0mlikelihood_at\u001b[0m\u001b[1;33m(\u001b[0m\u001b[0mself\u001b[0m\u001b[1;33m,\u001b[0m \u001b[0mscope\u001b[0m\u001b[1;33m,\u001b[0m \u001b[0mblock\u001b[0m\u001b[1;33m)\u001b[0m\u001b[1;33m:\u001b[0m\u001b[1;33m\u001b[0m\u001b[0m\n",
      "\u001b[1;31mKeyboardInterrupt\u001b[0m: "
     ]
    }
   ],
   "source": [
    "# Sample cluster assignments - make a list of all the assignments for each sample\n",
    "\n",
    "samples = list()\n",
    "\n",
    "for _ in range(1000):\n",
    "\n",
    "    v.infer(10000)\n",
    "    \n",
    "    cluster_memberships = v.sample('(list ' + ' '.join('(cluster_membership %d)' % index\n",
    "                                                   for index in range(len(X))) + ')')\n",
    "\n",
    "    cluster_numbers = np.unique(cluster_memberships)\n",
    "\n",
    "    canonical_cluster_memberships = np.zeros(len(cluster_memberships))\n",
    "    \n",
    "    for i, value in enumerate(cluster_numbers):\n",
    "        canonical_cluster_memberships[cluster_memberships==value] = i\n",
    "    \n",
    "    cluster_memberships = canonical_cluster_memberships\n",
    "\n",
    "    \n",
    "    samples.append(cluster_memberships)\n",
    "    \n",
    "samples = np.array(samples)\n",
    "\n",
    "# print(samples)\n",
    "\n",
    "# print(samples.shape) # check to see whether array is correct shape\n",
    "\n",
    "cluster_labels = np.unique(samples)\n",
    "\n",
    "co_occurrence_matrix = np.zeros((samples.shape[1], samples.shape[1]))\n",
    "\n",
    "for label in cluster_labels:\n",
    "    co_occurrence_matrix += np.dot((samples.T == label) * 1, (samples == label) * 1)\n",
    "    \n",
    "\n",
    "# Reshape co-occurence_matrix by linkage\n",
    "reshaped = sch.linkage(co_occurrence_matrix)\n",
    "    \n",
    "# print(co_occurrence_matrix)\n",
    "# print(co_occurrence_matrix.shape)\n",
    "\n",
    "# plt.clf()\n",
    "# fig, ax = plt.subplots(figsize=(10, 10), dpi=100)\n",
    "\n",
    "# ax.imshow(co_occurrence_matrix, interpolation='nearest') #interpolation changes fuzzyness. try 'none' or 'nearest'\n",
    "# plt.show()"
   ]
  },
  {
   "cell_type": "code",
   "execution_count": 68,
   "metadata": {
    "collapsed": false,
    "scrolled": true
   },
   "outputs": [
    {
     "data": {
      "text/plain": [
       "<matplotlib.figure.Figure at 0x7fecefdb1dd0>"
      ]
     },
     "metadata": {},
     "output_type": "display_data"
    },
    {
     "data": {
      "image/png": "[encoded data removed]",
      "text/plain": [
       "<matplotlib.figure.Figure at 0x7fecef6e9d10>"
      ]
     },
     "metadata": {},
     "output_type": "display_data"
    }
   ],
   "source": [
    "co_occurrence_matrix = np.divide(co_occurrence_matrix, 10)\n",
    "\n",
    "# Reshape co-occurence_matrix by linkage\n",
    "linkage = sch.linkage(co_occurrence_matrix)\n",
    "dendrogram_right = sch.dendrogram(linkage, orientation='right')\n",
    "dendrogram = sch.dendrogram(linkage)\n",
    "idx1 = dendrogram_right['leaves']\n",
    "idx2 = dendrogram['leaves']\n",
    "co_occurrence_matrix = co_occurrence_matrix[idx1,:]\n",
    "co_occurrence_matrix = co_occurrence_matrix[:,idx2]\n",
    "\n",
    "# Co-occurrence matrix figure\n",
    "\n",
    "plt.clf()\n",
    "fig, ax = plt.subplots(figsize=(10, 10), dpi=100)\n",
    "map=ax.imshow(co_occurrence_matrix, interpolation='nearest')\n",
    "plt.colorbar(map)\n",
    "plt.savefig('co-occurrence.pdf') # this line has to come before plt.show\n",
    "plt.show()\n",
    "\n",
    "# print(reshaped)\n",
    "# reshaped.shape\n",
    "\n",
    "# plt.clf()\n",
    "# fig, ax = plt.subplots(figsize=(10, 10), dpi=100)\n",
    "# ax.imshow(reshaped, interpolation='nearest') \n",
    "# plt.savefig('co-occurrence.pdf') # this line has to come before plt.show\n",
    "# plt.show()\n"
   ]
  },
  {
   "cell_type": "code",
   "execution_count": null,
   "metadata": {
    "collapsed": true
   },
   "outputs": [],
   "source": []
  },
  {
   "cell_type": "code",
   "execution_count": null,
   "metadata": {
    "collapsed": true
   },
   "outputs": [],
   "source": []
  }
 ],
 "metadata": {
  "kernelspec": {
   "display_name": "Python 2",
   "language": "python",
   "name": "python2"
  },
  "language_info": {
   "codemirror_mode": {
    "name": "ipython",
    "version": 2
   },
   "file_extension": ".py",
   "mimetype": "text/x-python",
   "name": "python",
   "nbconvert_exporter": "python",
   "pygments_lexer": "ipython2",
   "version": "2.7.6"
  }
 },
 "nbformat": 4,
 "nbformat_minor": 0
}
