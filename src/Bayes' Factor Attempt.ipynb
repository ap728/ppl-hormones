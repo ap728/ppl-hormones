{
 "cells": [
  {
   "cell_type": "code",
   "execution_count": 231,
   "metadata": {
    "collapsed": true
   },
   "outputs": [],
   "source": [
    "# Setup\n",
    "import matplotlib\n",
    "import numpy as np\n",
    "import scipy as sp\n",
    "import scipy.cluster.hierarchy as sch\n",
    "import matplotlib.pyplot as plt\n",
    "import pandas as pd\n",
    "import ggplot\n",
    "%matplotlib inline"
   ]
  },
  {
   "cell_type": "code",
   "execution_count": 232,
   "metadata": {
    "collapsed": true
   },
   "outputs": [],
   "source": [
    "# Start an inference server\n",
    "\n",
    "from venture.shortcuts import *\n",
    "v = make_church_prime_ripl()\n",
    "# x = Puma().make_church_prime_ripl()"
   ]
  },
  {
   "cell_type": "code",
   "execution_count": 233,
   "metadata": {
    "collapsed": true
   },
   "outputs": [],
   "source": [
    "# Forget everything\n",
    "\n",
    "v.clear()"
   ]
  },
  {
   "cell_type": "code",
   "execution_count": 234,
   "metadata": {
    "collapsed": false
   },
   "outputs": [
    {
     "data": {
      "text/plain": [
       "'<procedure>'"
      ]
     },
     "execution_count": 234,
     "metadata": {},
     "output_type": "execute_result"
    }
   ],
   "source": [
    "# Specify model 1\n",
    "\n",
    "v.assume(\"m\", \"(flip)\")\n",
    "v.assume(\"model\", \"(if m 1 2)\")\n",
    "\n",
    "# Set priors and psuedopriors\n",
    "v.assume(\"intercept_1\", \"(if (eq model 1) (normal -1 10) (uniform_continuous 3.5 4.5))\")\n",
    "v.assume(\"intercept_2\", \"(if (eq model 2) (normal 9 10) (uniform_continuous 3.5 4.5))\")\n",
    "\n",
    "v.assume(\"beta\", \"(normal 1 .5)\")\n",
    "\n",
    "# v.assume(\"offset_1\", \"(uniform_continuous -1 1)\")\n",
    "# v.assume(\"offset_2\", \"(uniform_continuous -1 1)\")\n",
    "# v.assume(\"beta_1\", \"(if m (uniform_continuous -1 1) 0)\")\n",
    "# v.assume(\"quadratic\", \"(flip 0.5)\")\n",
    "# v.assume(\"beta_2\", \"(if quadratic (uniform_continuous -1 1) 0)\")\n",
    "v.assume(\"noise_sd\", \"(exp (normal 0 2))\")\n",
    "\n",
    "v.assume(\"f_1\", \"(lambda (x) (+ intercept_1 (* beta x)))\")\n",
    "v.assume(\"f_2\", \"(lambda (x) (+ intercept_2 (* beta x)))\")\n",
    "\n",
    "# v.assume(\"cluster_membership\", \"(mem (lambda (index) (if (flip) 1 2)))\")\n",
    "\n",
    "v.assume(\"f\", \"(lambda (x) (if (eq model 1) (f_1 x) (f_2 x)))\")"
   ]
  },
  {
   "cell_type": "code",
   "execution_count": 235,
   "metadata": {
    "collapsed": false
   },
   "outputs": [
    {
     "data": {
      "text/plain": [
       "1.0"
      ]
     },
     "execution_count": 235,
     "metadata": {},
     "output_type": "execute_result"
    }
   ],
   "source": [
    "# Does it work?\n",
    "v.sample(\"model\")"
   ]
  },
  {
   "cell_type": "code",
   "execution_count": 236,
   "metadata": {
    "collapsed": true
   },
   "outputs": [],
   "source": [
    "# Create data\n",
    "\n",
    "X_1 = np.random.gamma(1, 1, 10)\n",
    "Y_1 = +4 + 1 * X_1 + 0.0 * X_1 * X_1\n",
    "Y_1 += 0.1 * np.random.randn(*X_1.shape)\n",
    "\n",
    "X_2 = np.random.gamma(1, 1, 10)\n",
    "Y_2 = +4 + 1 * X_2\n",
    "Y_2 += 0.1 * np.random.randn(*X_2.shape)\n",
    "\n",
    "X_3 = np.random.gamma(1, 1, 15)\n",
    "Y_3 = +4 + 1 * X_3\n",
    "Y_3 += 0.1 * np.random.randn(*X_3.shape)\n",
    "\n",
    "X = np.concatenate((X_1, X_2, X_3))\n",
    "Y = np.concatenate((Y_1, Y_2, Y_3))"
   ]
  },
  {
   "cell_type": "code",
   "execution_count": 237,
   "metadata": {
    "collapsed": false
   },
   "outputs": [],
   "source": [
    "# Observe data\n",
    "\n",
    "for x, y in (zip(X, Y)):\n",
    "    v.observe(\"(normal (f %f) noise_sd)\" % (x), y)"
   ]
  },
  {
   "cell_type": "code",
   "execution_count": null,
   "metadata": {
    "collapsed": false
   },
   "outputs": [],
   "source": []
  },
  {
   "cell_type": "code",
   "execution_count": 238,
   "metadata": {
    "collapsed": false
   },
   "outputs": [
    {
     "data": {
      "text/plain": [
       "1.0"
      ]
     },
     "execution_count": 238,
     "metadata": {},
     "output_type": "execute_result"
    }
   ],
   "source": [
    "v.sample(\"model\")"
   ]
  },
  {
   "cell_type": "code",
   "execution_count": 242,
   "metadata": {
    "collapsed": false
   },
   "outputs": [
    {
     "name": "stdout",
     "output_type": "stream",
     "text": [
      "[1.0, 2.0, 2.0, 2.0, 2.0, 1.0, 1.0, 1.0, 2.0, 1.0, 1.0, 1.0, 1.0, 1.0, 1.0, 1.0, 1.0, 1.0, 1.0, 1.0, 1.0, 1.0, 1.0, 1.0, 1.0, 1.0, 1.0, 1.0, 1.0, 1.0]\n"
     ]
    }
   ],
   "source": [
    "samples = list()\n",
    "\n",
    "for _ in range(30):\n",
    "\n",
    "    v.infer(1000)\n",
    "\n",
    "    model = v.sample(\"model\")\n",
    "    \n",
    "    samples.append(model)\n",
    "    \n",
    "print(samples)"
   ]
  },
  {
   "cell_type": "code",
   "execution_count": 240,
   "metadata": {
    "collapsed": false
   },
   "outputs": [
    {
     "name": "stdout",
     "output_type": "stream",
     "text": [
      "[4.489387801615521, 3.6748661783058196, 3.847963966196403, 3.790995262330398, 3.7773694419302046, 3.80271527194418, 3.9036611386109143, 4.483316781697795, 4.311433230526745, 3.5028226564172655, 3.878839294658974, 3.9971739694010466, 4.185021835612133, 4.107988423667848, 3.6684629465453327, 3.9002885362133384, 3.610016776015982, 4.444317043758929, 4.451214173575863, 4.404081916436553, 3.56666427385062, 3.536900744540617, 4.275782990735024, 3.6871563175227493, 4.441103080986068, 4.231716258684173, 3.6978876758366823, 4.374279588228092, 3.5716039531398565, 3.9225086064543575, 3.8409439355600625, 3.5807857010513544, 3.910304545192048, 3.6867837724275887, 3.7816326410975307, 4.328457470983267, 3.7956628701649606, 4.142318486701697, 3.969018739026228, 3.969018739026228, 3.969018739026228, 3.969018739026228, 3.969018739026228, 3.969018739026228, 3.969018739026228, 3.969018739026228, 3.969018739026228, 3.969018739026228, 3.967666540091857, 3.967666540091857, 3.967666540091857, 3.967666540091857, 3.967666540091857, 3.967666540091857, 3.967666540091857, 3.967666540091857, 3.967666540091857, 3.967666540091857, 3.967666540091857, 3.967666540091857, 3.967666540091857, 3.967666540091857, 3.967666540091857, 3.967666540091857, 3.967666540091857, 3.967666540091857, 3.967666540091857, 3.967666540091857, 3.967666540091857, 3.967666540091857, 3.967666540091857, 3.967666540091857, 3.967666540091857, 3.967666540091857, 3.967666540091857, 3.967666540091857, 3.967666540091857, 3.967666540091857, 3.967666540091857, 3.967666540091857, 3.967666540091857, 3.967666540091857, 3.967666540091857, 3.967666540091857, 3.967666540091857, 3.967666540091857, 3.967666540091857, 3.967666540091857, 3.967666540091857, 3.967666540091857, 3.967666540091857, 3.967666540091857, 3.967666540091857, 3.967666540091857, 3.967666540091857, 3.967666540091857, 3.967666540091857, 3.967666540091857, 3.967666540091857, 3.967666540091857]\n"
     ]
    }
   ],
   "source": [
    "# samples = list()\n",
    "\n",
    "# for _ in range(100):\n",
    "\n",
    "#     v.infer(100)\n",
    "\n",
    "#     betas = v.sample(\"intercept_2\")\n",
    "    \n",
    "#     samples.append(betas)\n",
    "    \n",
    "# print(samples)"
   ]
  },
  {
   "cell_type": "code",
   "execution_count": 241,
   "metadata": {
    "collapsed": false
   },
   "outputs": [
    {
     "name": "stdout",
     "output_type": "stream",
     "text": [
      "[4.448949752608314, 3.7415781766176224, 4.44220201135613, 4.286109941080213, 3.679793908726424, 4.4860009416006505, 4.113229786977172, 3.8993690880015492, 4.058534045005217, 4.446258531883359, 4.421129346359521, 3.5730108097195625, 4.0804413359146565, 4.494956740178168, 3.908457576064393, 4.4245388365816325, 3.5039246494416147, 3.9326188061386347, 3.671260425588116, 4.308647533878684, 3.722846046788618, 3.6773428171873093, 4.097634896403179, 3.7404921180568635, 3.6944683112669736, 4.029396506026387, 3.5159769421443343, 3.7682936375495046, 3.8218164667487144, 3.782717145513743, 4.335436973487958, 4.316177744185552, 3.8869098441209644, 3.9791891467757523, 4.1412126121576875, 3.8757444445509464, 3.651776382466778, 4.398028869414702, 4.077328001847491, 3.5313131930306554, 3.5979214042890817, 4.165445153135806, 4.16430878941901, 3.8084886164870113, 4.055629035457969, 4.151169933145866, 4.180226042168215, 4.255916313035414, 4.004656533244997, 4.238527244655415, 3.6721757997293025, 4.286954064853489, 3.824161268072203, 4.30453701200895, 3.8975764226634055, 3.8784111433196813, 3.541101196780801, 4.386618932709098, 3.8485478234943002, 4.497692059027031, 3.6294703024905175, 4.072549379430711, 4.412079892354086, 3.6440008238423616, 4.1496140609961, 4.488986832788214, 3.9470908530056477, 4.066279023187235, 4.408208999084309, 3.7779947137460113, 3.5125064169988036, 3.955289974259216, 3.955289974259216, 3.955289974259216, 3.955289974259216, 3.955289974259216, 3.955289974259216, 3.955289974259216, 3.955289974259216, 3.955289974259216, 3.955289974259216, 3.955289974259216, 3.955289974259216, 3.9255812053307526, 3.9255812053307526, 3.9255812053307526, 3.9255812053307526, 3.9255812053307526, 3.9255812053307526, 3.9255812053307526, 3.9255812053307526, 3.9255812053307526, 3.9255812053307526, 3.9526129656941986, 3.9526129656941986, 3.9526129656941986, 3.9526129656941986, 3.9526129656941986, 3.9526129656941986, 3.9526129656941986]\n"
     ]
    }
   ],
   "source": [
    "# samples = list()\n",
    "\n",
    "# for _ in range(100):\n",
    "\n",
    "#     v.infer(100)\n",
    "\n",
    "#     betas = v.sample(\"intercept_1\")\n",
    "    \n",
    "#     samples.append(betas)\n",
    "    \n",
    "# print(samples)"
   ]
  },
  {
   "cell_type": "code",
   "execution_count": null,
   "metadata": {
    "collapsed": true
   },
   "outputs": [],
   "source": []
  }
 ],
 "metadata": {
  "kernelspec": {
   "display_name": "Python 2",
   "language": "python",
   "name": "python2"
  },
  "language_info": {
   "codemirror_mode": {
    "name": "ipython",
    "version": 2
   },
   "file_extension": ".py",
   "mimetype": "text/x-python",
   "name": "python",
   "nbconvert_exporter": "python",
   "pygments_lexer": "ipython2",
   "version": "2.7.6"
  }
 },
 "nbformat": 4,
 "nbformat_minor": 0
}
